{
 "cells": [
  {
   "cell_type": "code",
   "execution_count": 1,
   "id": "c8c7988d-c4ad-40f3-aa4e-dad42dbc79c1",
   "metadata": {},
   "outputs": [],
   "source": [
    "# 1,5,8,11,15,20,23,27,30,33,39,46"
   ]
  },
  {
   "cell_type": "code",
   "execution_count": 2,
   "id": "7ce2e3f2-e816-41df-acfd-d111822c6100",
   "metadata": {},
   "outputs": [],
   "source": [
    "import numpy as np\n",
    "import pandas as pd\n",
    "#from IPython.display import Markdown as md"
   ]
  },
  {
   "cell_type": "markdown",
   "id": "fbdf8078-ea64-46d9-9c7c-da2bbc4f02fc",
   "metadata": {
    "toc-hr-collapsed": true
   },
   "source": [
    "# Q1.1\n",
    "Self‐reported injuries among left‐ and right‐handed people were compared in a\n",
    "survey of 1986 college students in British Columbia, Canada. Of the 180 lefthanded\n",
    "students, 93 reported at least one injury, and 619 of the 1716 righthanded\n",
    "students reported at least one injury in the same period. Arrange the\n",
    "data in a 2 × 2 table and calculate the proportion of people with at least one\n",
    "injury during the period of observation for each group.\n",
    "\n",
    "## A1.1"
   ]
  },
  {
   "cell_type": "code",
   "execution_count": 3,
   "id": "a10b24ca-6388-4100-95f9-0547c7878f32",
   "metadata": {},
   "outputs": [
    {
     "data": {
      "text/html": [
       "<div>\n",
       "<style scoped>\n",
       "    .dataframe tbody tr th:only-of-type {\n",
       "        vertical-align: middle;\n",
       "    }\n",
       "\n",
       "    .dataframe tbody tr th {\n",
       "        vertical-align: top;\n",
       "    }\n",
       "\n",
       "    .dataframe thead th {\n",
       "        text-align: right;\n",
       "    }\n",
       "</style>\n",
       "<table border=\"1\" class=\"dataframe\">\n",
       "  <thead>\n",
       "    <tr style=\"text-align: right;\">\n",
       "      <th></th>\n",
       "      <th>Left-handed</th>\n",
       "      <th>Right-handed</th>\n",
       "    </tr>\n",
       "  </thead>\n",
       "  <tbody>\n",
       "    <tr>\n",
       "      <th>Injury</th>\n",
       "      <td>93</td>\n",
       "      <td>619</td>\n",
       "    </tr>\n",
       "    <tr>\n",
       "      <th>No Injury</th>\n",
       "      <td>87</td>\n",
       "      <td>1097</td>\n",
       "    </tr>\n",
       "  </tbody>\n",
       "</table>\n",
       "</div>"
      ],
      "text/plain": [
       "           Left-handed  Right-handed\n",
       "Injury              93           619\n",
       "No Injury           87          1097"
      ]
     },
     "execution_count": 3,
     "metadata": {},
     "output_type": "execute_result"
    }
   ],
   "source": [
    "df = pd.DataFrame()\n",
    "df.loc['Injury', 'Left-handed'] = 93\n",
    "df.loc['No Injury', 'Left-handed'] = 180 - 93\n",
    "df.loc['Injury', 'Right-handed'] = 619\n",
    "df.loc['No Injury', 'Right-handed'] = 1716 - 619\n",
    "\n",
    "df.astype(np.int64)"
   ]
  },
  {
   "cell_type": "code",
   "execution_count": 4,
   "id": "0598123d-a4dd-4f62-b55d-a74e48ced921",
   "metadata": {},
   "outputs": [
    {
     "name": "stdout",
     "output_type": "stream",
     "text": [
      "Left- handed injured proportion: 0.517\n",
      "Right-handed injured proportion: 0.361\n"
     ]
    }
   ],
   "source": [
    "left_prop = df.loc['Injury', 'Left-handed'] / df['Left-handed'].sum()\n",
    "right_prop = df.loc['Injury', 'Right-handed'] / df[ 'Right-handed'].sum()\n",
    "\n",
    "print(f\"Left- handed injured proportion: {left_prop :.3f}\")\n",
    "print(f\"Right-handed injured proportion: {right_prop :.3f}\")"
   ]
  },
  {
   "cell_type": "markdown",
   "id": "279bd67b-8ec4-404c-a45d-af068c9f569e",
   "metadata": {
    "toc-hr-collapsed": true
   },
   "source": [
    "# Q1.5\n",
    "In August 1976, tuberculosis was diagnosed in a high school student (index case)\n",
    "in Corinth, Mississippi. Subsequently, laboratory studies revealed that the student’s\n",
    "disease was caused by drug‐resistant tubercule bacilli. An epidemiologic\n",
    "investigation was conducted at the high school. Table E1.5 gives the rate of\n",
    "positive tuberculin reactions, determined for various groups of students according\n",
    "to degree of exposure to the index case."
   ]
  },
  {
   "cell_type": "code",
   "execution_count": 5,
   "id": "933f8720-16d2-421a-bddf-48a8268c287a",
   "metadata": {
    "tags": []
   },
   "outputs": [
    {
     "data": {
      "text/html": [
       "<div>\n",
       "<style scoped>\n",
       "    .dataframe tbody tr th:only-of-type {\n",
       "        vertical-align: middle;\n",
       "    }\n",
       "\n",
       "    .dataframe tbody tr th {\n",
       "        vertical-align: top;\n",
       "    }\n",
       "\n",
       "    .dataframe thead th {\n",
       "        text-align: right;\n",
       "    }\n",
       "</style>\n",
       "<table border=\"1\" class=\"dataframe\">\n",
       "  <thead>\n",
       "    <tr style=\"text-align: right;\">\n",
       "      <th></th>\n",
       "      <th>Number tested</th>\n",
       "      <th>Number positive</th>\n",
       "    </tr>\n",
       "  </thead>\n",
       "  <tbody>\n",
       "    <tr>\n",
       "      <th>High Exposure</th>\n",
       "      <td>129</td>\n",
       "      <td>63</td>\n",
       "    </tr>\n",
       "    <tr>\n",
       "      <th>Low Exposure</th>\n",
       "      <td>325</td>\n",
       "      <td>36</td>\n",
       "    </tr>\n",
       "  </tbody>\n",
       "</table>\n",
       "</div>"
      ],
      "text/plain": [
       "               Number tested  Number positive\n",
       "High Exposure            129               63\n",
       "Low Exposure             325               36"
      ]
     },
     "execution_count": 5,
     "metadata": {},
     "output_type": "execute_result"
    }
   ],
   "source": [
    "df = pd.DataFrame()\n",
    "df.loc['High Exposure', 'Number tested'] = 129\n",
    "df.loc['High Exposure', 'Number positive'] = 63\n",
    "df.loc['Low Exposure', 'Number tested'] = 325\n",
    "df.loc['Low Exposure', 'Number positive'] = 36\n",
    "\n",
    "df.astype(np.int64)"
   ]
  },
  {
   "cell_type": "markdown",
   "id": "1a244948-2114-4568-af9e-482f84652c17",
   "metadata": {},
   "source": [
    "(a) Compute and compare the proportions of positive cases for the two\n",
    "exposure levels. What would be your conclusion?\n",
    "(b) Calculate the odds ratio associated with high exposure. Does this result\n",
    "support your conclusion in part (a)?\n",
    "\n",
    "## A1.5(a)"
   ]
  },
  {
   "cell_type": "code",
   "execution_count": 6,
   "id": "27c22194-bd09-42a2-b192-ca65259bf796",
   "metadata": {},
   "outputs": [
    {
     "name": "stdout",
     "output_type": "stream",
     "text": [
      "High Exposure    0.488\n",
      "Low Exposure     0.111\n"
     ]
    }
   ],
   "source": [
    "props = df['Number positive'] / df['Number tested']\n",
    "print(props.round(3).to_string())"
   ]
  },
  {
   "cell_type": "markdown",
   "id": "3cc9681f-237c-4ed1-af6d-95b14ac706a4",
   "metadata": {},
   "source": [
    "Students in the \"high exposure\" group have a much greater proportion of cases (over 4 times).\n",
    "\n",
    "## A1.5(b)"
   ]
  },
  {
   "cell_type": "code",
   "execution_count": 7,
   "id": "1f7f7cc7-3601-4093-a4b7-6f8b3dc2a1b3",
   "metadata": {},
   "outputs": [
    {
     "data": {
      "text/plain": [
       "7.663"
      ]
     },
     "execution_count": 7,
     "metadata": {},
     "output_type": "execute_result"
    }
   ],
   "source": [
    "pos_cases = df['Number positive']\n",
    "neg_cases = df['Number tested'] - pos_cases\n",
    "\n",
    "odds = pos_cases / neg_cases\n",
    "odds_ratio = odds['High Exposure'] / odds['Low Exposure']\n",
    "\n",
    "odds_ratio.round(3)"
   ]
  },
  {
   "cell_type": "markdown",
   "id": "71c37851-c0d1-4109-a901-80e2647b0541",
   "metadata": {},
   "source": [
    "This supports the conclusion that high exposure increases the odds of testing positive."
   ]
  },
  {
   "cell_type": "markdown",
   "id": "1f1c63bf-b58c-4e58-8646-d65ebc4cc35c",
   "metadata": {
    "toc-hr-collapsed": true
   },
   "source": [
    "# Q1.8\n",
    "A case–control study was conducted in Auckland, New Zealand, to investigate\n",
    "the effects among regular drinkers of alcohol consumption on both nonfatal\n",
    "myocardial infarction and coronary death in the 24 hours after drinking. Data\n",
    "were tabulated separately for men and women (Table E1.8)."
   ]
  },
  {
   "cell_type": "code",
   "execution_count": 8,
   "id": "7e9b70e1-02e5-4e30-a5a5-2d78e700c836",
   "metadata": {
    "tags": []
   },
   "outputs": [
    {
     "data": {
      "text/html": [
       "<div>\n",
       "<style scoped>\n",
       "    .dataframe tbody tr th:only-of-type {\n",
       "        vertical-align: middle;\n",
       "    }\n",
       "\n",
       "    .dataframe tbody tr th {\n",
       "        vertical-align: top;\n",
       "    }\n",
       "\n",
       "    .dataframe thead tr th {\n",
       "        text-align: left;\n",
       "    }\n",
       "\n",
       "    .dataframe thead tr:last-of-type th {\n",
       "        text-align: right;\n",
       "    }\n",
       "</style>\n",
       "<table border=\"1\" class=\"dataframe\">\n",
       "  <thead>\n",
       "    <tr>\n",
       "      <th></th>\n",
       "      <th></th>\n",
       "      <th colspan=\"2\" halign=\"left\">Myocardial infarction</th>\n",
       "      <th colspan=\"2\" halign=\"left\">Coronary death</th>\n",
       "    </tr>\n",
       "    <tr>\n",
       "      <th></th>\n",
       "      <th></th>\n",
       "      <th>Controls</th>\n",
       "      <th>Cases</th>\n",
       "      <th>Controls</th>\n",
       "      <th>Cases</th>\n",
       "    </tr>\n",
       "    <tr>\n",
       "      <th>Gender</th>\n",
       "      <th>Drink during last 24h</th>\n",
       "      <th></th>\n",
       "      <th></th>\n",
       "      <th></th>\n",
       "      <th></th>\n",
       "    </tr>\n",
       "  </thead>\n",
       "  <tbody>\n",
       "    <tr>\n",
       "      <th rowspan=\"2\" valign=\"top\">Men</th>\n",
       "      <th>No</th>\n",
       "      <td>197</td>\n",
       "      <td>142</td>\n",
       "      <td>135</td>\n",
       "      <td>103</td>\n",
       "    </tr>\n",
       "    <tr>\n",
       "      <th>Yes</th>\n",
       "      <td>201</td>\n",
       "      <td>136</td>\n",
       "      <td>159</td>\n",
       "      <td>69</td>\n",
       "    </tr>\n",
       "    <tr>\n",
       "      <th rowspan=\"2\" valign=\"top\">Women</th>\n",
       "      <th>No</th>\n",
       "      <td>144</td>\n",
       "      <td>41</td>\n",
       "      <td>89</td>\n",
       "      <td>12</td>\n",
       "    </tr>\n",
       "    <tr>\n",
       "      <th>Yes</th>\n",
       "      <td>122</td>\n",
       "      <td>19</td>\n",
       "      <td>76</td>\n",
       "      <td>4</td>\n",
       "    </tr>\n",
       "  </tbody>\n",
       "</table>\n",
       "</div>"
      ],
      "text/plain": [
       "                             Myocardial infarction       Coronary death      \n",
       "                                          Controls Cases       Controls Cases\n",
       "Gender Drink during last 24h                                                 \n",
       "Men    No                                      197   142            135   103\n",
       "       Yes                                     201   136            159    69\n",
       "Women  No                                      144    41             89    12\n",
       "       Yes                                     122    19             76     4"
      ]
     },
     "execution_count": 8,
     "metadata": {},
     "output_type": "execute_result"
    }
   ],
   "source": [
    "index = [\n",
    "    ['Men', 'Men', 'Women', 'Women'],\n",
    "    ['No', 'Yes', 'No', 'Yes'],\n",
    "]\n",
    "\n",
    "columns = [\n",
    "    ['Myocardial infarction', 'Myocardial infarction', 'Coronary death', 'Coronary death'],\n",
    "    ['Controls', 'Cases', 'Controls', 'Cases'],\n",
    "]\n",
    "\n",
    "data = [\n",
    "    [197, 142, 135, 103],\n",
    "    [201, 136, 159, 69],\n",
    "    [144, 41, 89, 12],\n",
    "    [122, 19, 76, 4],\n",
    "]\n",
    "\n",
    "df = pd.DataFrame(data=data, index=index, columns=columns)\n",
    "df.index = df.index.rename(('Gender', 'Drink during last 24h'))\n",
    "\n",
    "df"
   ]
  },
  {
   "cell_type": "markdown",
   "id": "70fa387d-3430-4576-a0af-7e05681550d2",
   "metadata": {},
   "source": [
    "(a) Refer to the myocardial infarction data. Calculate separately for men and\n",
    "women the odds ratio associated with drinking.\n",
    "\n",
    "(b) Compare the two odds ratios in part (a). When the difference is confirmed\n",
    "properly, we have an effect modification."
   ]
  },
  {
   "cell_type": "markdown",
   "id": "5c7e0d47-c167-42b1-bb1f-d1a288c25228",
   "metadata": {},
   "source": [
    "## A1.8(a)"
   ]
  },
  {
   "cell_type": "code",
   "execution_count": 9,
   "id": "ca456950-618c-45c2-a233-0f1b3b6b8e2e",
   "metadata": {},
   "outputs": [
    {
     "name": "stdout",
     "output_type": "stream",
     "text": [
      "  Men OR = 0.939\n",
      "Women OR = 0.547\n"
     ]
    }
   ],
   "source": [
    "men_drink_odds = df.loc[('Men', 'Yes'), ('Myocardial infarction', 'Cases')] / \\\n",
    "                 df.loc[('Men', 'Yes'), ('Myocardial infarction', 'Controls')]\n",
    "men_nodrink_odds = df.loc[('Men', 'No'), ('Myocardial infarction', 'Cases')] / \\\n",
    "                   df.loc[('Men', 'No'), ('Myocardial infarction', 'Controls')]\n",
    "\n",
    "women_drink_odds = df.loc[('Women', 'Yes'), ('Myocardial infarction', 'Cases')] / \\\n",
    "                   df.loc[('Women', 'Yes'), ('Myocardial infarction', 'Controls')]\n",
    "women_nodrink_odds = df.loc[('Women', 'No'), ('Myocardial infarction', 'Cases')] / \\\n",
    "                     df.loc[('Women', 'No'), ('Myocardial infarction', 'Controls')]\n",
    "\n",
    "men_OR = men_drink_odds / men_nodrink_odds\n",
    "women_OR = women_drink_odds / women_nodrink_odds\n",
    "\n",
    "print(f\"  Men OR = {men_OR :.3f}\")\n",
    "print(f\"Women OR = {women_OR :.3f}\")"
   ]
  },
  {
   "cell_type": "markdown",
   "id": "b16029b9-6cf3-4893-9167-4b6c90f69bbf",
   "metadata": {},
   "source": [
    "## A1.8(b)\n",
    "The effect in women appears to be stronger (reduced cases of myocardial infarction if drinking in the last 24h)."
   ]
  },
  {
   "cell_type": "markdown",
   "id": "96013332-f584-410f-b94a-0d563ff9fa63",
   "metadata": {
    "toc-hr-collapsed": true
   },
   "source": [
    "# Q1.11\n",
    "Table E1.11 summarizes the coronary heart disease (CHD) and lung cancer\n",
    "mortality rates per 1000 person‐years by the number of cigarettes smoked per\n",
    "day at baseline for men participating in the Multiple Risk Factor Intervention\n",
    "Trial (MRFIT, a very large controlled clinical trial focusing on the relationship\n",
    "between smoking and cardiovascular diseases). For each cause of death, display\n",
    "the rates in a bar chart."
   ]
  },
  {
   "cell_type": "code",
   "execution_count": 10,
   "id": "277e4bd7-23cc-4654-80de-037abc9aa673",
   "metadata": {
    "tags": []
   },
   "outputs": [
    {
     "data": {
      "text/html": [
       "<div>\n",
       "<style scoped>\n",
       "    .dataframe tbody tr th:only-of-type {\n",
       "        vertical-align: middle;\n",
       "    }\n",
       "\n",
       "    .dataframe tbody tr th {\n",
       "        vertical-align: top;\n",
       "    }\n",
       "\n",
       "    .dataframe thead tr th {\n",
       "        text-align: left;\n",
       "    }\n",
       "</style>\n",
       "<table border=\"1\" class=\"dataframe\">\n",
       "  <thead>\n",
       "    <tr>\n",
       "      <th></th>\n",
       "      <th>Total</th>\n",
       "      <th colspan=\"2\" halign=\"left\">CHD deaths</th>\n",
       "      <th colspan=\"2\" halign=\"left\">Lung cancer deaths</th>\n",
       "    </tr>\n",
       "    <tr>\n",
       "      <th></th>\n",
       "      <th></th>\n",
       "      <th>N</th>\n",
       "      <th>Rate/1000 person-years</th>\n",
       "      <th>N</th>\n",
       "      <th>Rate/1000 person-years</th>\n",
       "    </tr>\n",
       "  </thead>\n",
       "  <tbody>\n",
       "    <tr>\n",
       "      <th>Never‐smokers</th>\n",
       "      <td>1859</td>\n",
       "      <td>44</td>\n",
       "      <td>2.22</td>\n",
       "      <td>0</td>\n",
       "      <td>0.00</td>\n",
       "    </tr>\n",
       "    <tr>\n",
       "      <th>Ex‐smokers</th>\n",
       "      <td>2813</td>\n",
       "      <td>73</td>\n",
       "      <td>2.44</td>\n",
       "      <td>13</td>\n",
       "      <td>0.43</td>\n",
       "    </tr>\n",
       "    <tr>\n",
       "      <th>1–19 cigarettes/day</th>\n",
       "      <td>856</td>\n",
       "      <td>23</td>\n",
       "      <td>2.56</td>\n",
       "      <td>2</td>\n",
       "      <td>0.22</td>\n",
       "    </tr>\n",
       "    <tr>\n",
       "      <th>20–39 cigarettes/day</th>\n",
       "      <td>3747</td>\n",
       "      <td>173</td>\n",
       "      <td>4.45</td>\n",
       "      <td>50</td>\n",
       "      <td>1.29</td>\n",
       "    </tr>\n",
       "    <tr>\n",
       "      <th>≥40 cigarettes/day</th>\n",
       "      <td>3591</td>\n",
       "      <td>115</td>\n",
       "      <td>3.08</td>\n",
       "      <td>54</td>\n",
       "      <td>1.45</td>\n",
       "    </tr>\n",
       "  </tbody>\n",
       "</table>\n",
       "</div>"
      ],
      "text/plain": [
       "                     Total CHD deaths                         \\\n",
       "                                    N Rate/1000 person-years   \n",
       "Never‐smokers         1859         44                   2.22   \n",
       "Ex‐smokers            2813         73                   2.44   \n",
       "1–19 cigarettes/day    856         23                   2.56   \n",
       "20–39 cigarettes/day  3747        173                   4.45   \n",
       "≥40 cigarettes/day    3591        115                   3.08   \n",
       "\n",
       "                     Lung cancer deaths                         \n",
       "                                      N Rate/1000 person-years  \n",
       "Never‐smokers                         0                   0.00  \n",
       "Ex‐smokers                           13                   0.43  \n",
       "1–19 cigarettes/day                   2                   0.22  \n",
       "20–39 cigarettes/day                 50                   1.29  \n",
       "≥40 cigarettes/day                   54                   1.45  "
      ]
     },
     "execution_count": 10,
     "metadata": {},
     "output_type": "execute_result"
    }
   ],
   "source": [
    "index = ['Never‐smokers', 'Ex‐smokers', '1–19 cigarettes/day', '20–39 cigarettes/day', '≥40 cigarettes/day']\n",
    "\n",
    "columns = [\n",
    "    ['Total', 'CHD deaths', 'CHD deaths', 'Lung cancer deaths', 'Lung cancer deaths'],\n",
    "    ['', 'N', 'Rate/1000 person-years', 'N', 'Rate/1000 person-years'],\n",
    "]\n",
    "\n",
    "data = [\n",
    "    [1859, 44, 2.22, 0, 0],\n",
    "    [2813, 73, 2.44, 13, 0.43],\n",
    "    [856, 23, 2.56, 2, 0.22],\n",
    "    [3747, 173, 4.45, 50, 1.29],\n",
    "    [3591, 115, 3.08, 54, 1.45],\n",
    "]\n",
    "\n",
    "df = pd.DataFrame(data=data, index=index, columns=columns)\n",
    "\n",
    "df"
   ]
  },
  {
   "cell_type": "markdown",
   "id": "64ccef42-f263-4b08-b9f1-1be2d152b7ac",
   "metadata": {},
   "source": [
    "## A1.11"
   ]
  },
  {
   "cell_type": "code",
   "execution_count": 11,
   "id": "0d2fca6f-e850-4287-b10c-3da14d6ddb5c",
   "metadata": {},
   "outputs": [
    {
     "data": {
      "image/png": "[encoded data removed]",
      "text/plain": [
       "<Figure size 432x288 with 1 Axes>"
      ]
     },
     "metadata": {
      "needs_background": "light"
     },
     "output_type": "display_data"
    }
   ],
   "source": [
    "dataset = 'CHD deaths'\n",
    "metric = 'Rate/1000 person-years'\n",
    "\n",
    "df.loc[:, (dataset, metric)].plot.bar(\n",
    "    title=dataset,\n",
    "    ylabel=metric,\n",
    "    rot=15,\n",
    ");"
   ]
  },
  {
   "cell_type": "code",
   "execution_count": 12,
   "id": "a1601549-cf32-43ed-8a41-c72b47f022cb",
   "metadata": {},
   "outputs": [
    {
     "data": {
      "image/png": "[encoded data removed]",
      "text/plain": [
       "<Figure size 432x288 with 1 Axes>"
      ]
     },
     "metadata": {
      "needs_background": "light"
     },
     "output_type": "display_data"
    }
   ],
   "source": [
    "dataset = 'Lung cancer deaths'\n",
    "metric = 'Rate/1000 person-years'\n",
    "\n",
    "df.loc[:, (dataset, metric)].plot.bar(\n",
    "    title=dataset,\n",
    "    ylabel=metric,\n",
    "    rot=15,\n",
    ");"
   ]
  },
  {
   "cell_type": "markdown",
   "id": "b6fbffaa-c6e0-405f-a077-382fe431a8cc",
   "metadata": {
    "tags": [],
    "toc-hr-collapsed": true
   },
   "source": [
    "# Q1.15\n",
    "Consider the data shown in Table E1.15. Calculate the sensitivity and specificity\n",
    "of x‐ray as a screening test for tuberculosis."
   ]
  },
  {
   "cell_type": "code",
   "execution_count": 13,
   "id": "465011ef-27b9-45cb-a936-189de349a112",
   "metadata": {},
   "outputs": [
    {
     "data": {
      "text/html": [
       "<div>\n",
       "<style scoped>\n",
       "    .dataframe tbody tr th:only-of-type {\n",
       "        vertical-align: middle;\n",
       "    }\n",
       "\n",
       "    .dataframe tbody tr th {\n",
       "        vertical-align: top;\n",
       "    }\n",
       "\n",
       "    .dataframe thead tr th {\n",
       "        text-align: left;\n",
       "    }\n",
       "\n",
       "    .dataframe thead tr:last-of-type th {\n",
       "        text-align: right;\n",
       "    }\n",
       "</style>\n",
       "<table border=\"1\" class=\"dataframe\">\n",
       "  <thead>\n",
       "    <tr>\n",
       "      <th></th>\n",
       "      <th colspan=\"2\" halign=\"left\">Tuberculosis</th>\n",
       "      <th></th>\n",
       "    </tr>\n",
       "    <tr>\n",
       "      <th></th>\n",
       "      <th>No</th>\n",
       "      <th>Yes</th>\n",
       "      <th>Total</th>\n",
       "    </tr>\n",
       "    <tr>\n",
       "      <th>X-ray</th>\n",
       "      <th></th>\n",
       "      <th></th>\n",
       "      <th></th>\n",
       "    </tr>\n",
       "  </thead>\n",
       "  <tbody>\n",
       "    <tr>\n",
       "      <th>Negative</th>\n",
       "      <td>1739</td>\n",
       "      <td>8</td>\n",
       "      <td>1747</td>\n",
       "    </tr>\n",
       "    <tr>\n",
       "      <th>Positive</th>\n",
       "      <td>51</td>\n",
       "      <td>22</td>\n",
       "      <td>73</td>\n",
       "    </tr>\n",
       "    <tr>\n",
       "      <th>Total</th>\n",
       "      <td>1790</td>\n",
       "      <td>30</td>\n",
       "      <td>1820</td>\n",
       "    </tr>\n",
       "  </tbody>\n",
       "</table>\n",
       "</div>"
      ],
      "text/plain": [
       "         Tuberculosis          \n",
       "                   No Yes Total\n",
       "X-ray                          \n",
       "Negative         1739   8  1747\n",
       "Positive           51  22    73\n",
       "Total            1790  30  1820"
      ]
     },
     "execution_count": 13,
     "metadata": {},
     "output_type": "execute_result"
    }
   ],
   "source": [
    "index = ['Negative', 'Positive', 'Total']\n",
    "\n",
    "columns = [\n",
    "    ['Tuberculosis', 'Tuberculosis', ''],\n",
    "    ['No', 'Yes', 'Total'],\n",
    "]\n",
    "\n",
    "data = [\n",
    "    [1739, 8, 1747],\n",
    "    [51, 22, 73],\n",
    "    [1790, 30, 1820],\n",
    "]\n",
    "\n",
    "df = pd.DataFrame(data=data, index=index, columns=columns)\n",
    "df.index = df.index.rename('X-ray')\n",
    "\n",
    "df"
   ]
  },
  {
   "cell_type": "markdown",
   "id": "6d700817-fa0b-43a0-920b-6c92645ec2a2",
   "metadata": {},
   "source": [
    "## A1.15"
   ]
  },
  {
   "cell_type": "code",
   "execution_count": 14,
   "id": "7faf7d1d-0fbe-4179-ae71-140899095b18",
   "metadata": {},
   "outputs": [
    {
     "name": "stdout",
     "output_type": "stream",
     "text": [
      "Sensitivity = 0.733\n",
      "Specificity = 0.972\n"
     ]
    }
   ],
   "source": [
    "# Helpful mnemonic:\n",
    "# SNIP: SeNsitivity Is Positive\n",
    "# SPIN: SPecificity Is Negative\n",
    "\n",
    "sens = df.loc['Positive', ('Tuberculosis', 'Yes')] / df.loc['Total', ('Tuberculosis', 'Yes')]\n",
    "spec = df.loc['Negative', ('Tuberculosis', 'No')] / df.loc['Total', ('Tuberculosis', 'No')]\n",
    "\n",
    "print(f\"Sensitivity = {sens :.3f}\")\n",
    "print(f\"Specificity = {spec :.3f}\")"
   ]
  },
  {
   "cell_type": "markdown",
   "id": "c5f291b0-17ab-4cd6-b943-a1a2ced00aca",
   "metadata": {},
   "source": [
    "# Q1.20\n",
    "Refer to the data set in Table 1.1 (see Example 1.2).\n",
    "\n",
    "(a) Calculate the odds ratio associated with employment in shipyards for\n",
    "nonsmokers.\n",
    "\n",
    "(b) Calculate the same odds ratio for smokers.\n",
    "\n",
    "(d) Assuming that the odds ratios for the two groups, nonsmokers and smokers,\n",
    "are equal (in other words, smoking is not an effect modifier), calculate the\n",
    "Mantel–Haenszel estimate of this common odds ratio."
   ]
  },
  {
   "cell_type": "code",
   "execution_count": 15,
   "id": "db45f1d3-72b8-449c-bac9-eb85e04a5188",
   "metadata": {},
   "outputs": [
    {
     "data": {
      "text/html": [
       "<div>\n",
       "<style scoped>\n",
       "    .dataframe tbody tr th:only-of-type {\n",
       "        vertical-align: middle;\n",
       "    }\n",
       "\n",
       "    .dataframe tbody tr th {\n",
       "        vertical-align: top;\n",
       "    }\n",
       "\n",
       "    .dataframe thead th {\n",
       "        text-align: right;\n",
       "    }\n",
       "</style>\n",
       "<table border=\"1\" class=\"dataframe\">\n",
       "  <thead>\n",
       "    <tr style=\"text-align: right;\">\n",
       "      <th></th>\n",
       "      <th></th>\n",
       "      <th>Cases</th>\n",
       "      <th>Control</th>\n",
       "    </tr>\n",
       "    <tr>\n",
       "      <th>Smoking</th>\n",
       "      <th>Shipbuilding</th>\n",
       "      <th></th>\n",
       "      <th></th>\n",
       "    </tr>\n",
       "  </thead>\n",
       "  <tbody>\n",
       "    <tr>\n",
       "      <th rowspan=\"2\" valign=\"top\">No</th>\n",
       "      <th>Yes</th>\n",
       "      <td>11</td>\n",
       "      <td>35</td>\n",
       "    </tr>\n",
       "    <tr>\n",
       "      <th>No</th>\n",
       "      <td>50</td>\n",
       "      <td>203</td>\n",
       "    </tr>\n",
       "    <tr>\n",
       "      <th rowspan=\"2\" valign=\"top\">Yes</th>\n",
       "      <th>Yes</th>\n",
       "      <td>84</td>\n",
       "      <td>45</td>\n",
       "    </tr>\n",
       "    <tr>\n",
       "      <th>No</th>\n",
       "      <td>313</td>\n",
       "      <td>270</td>\n",
       "    </tr>\n",
       "  </tbody>\n",
       "</table>\n",
       "</div>"
      ],
      "text/plain": [
       "                      Cases  Control\n",
       "Smoking Shipbuilding                \n",
       "No      Yes              11       35\n",
       "        No               50      203\n",
       "Yes     Yes              84       45\n",
       "        No              313      270"
      ]
     },
     "execution_count": 15,
     "metadata": {},
     "output_type": "execute_result"
    }
   ],
   "source": [
    "index = [\n",
    "    ['No', 'No', 'Yes', 'Yes'],\n",
    "    ['Yes', 'No', 'Yes', 'No'],\n",
    "]\n",
    "\n",
    "columns = ['Cases', 'Control']\n",
    "\n",
    "data = [\n",
    "    [11, 35],\n",
    "    [50, 203],\n",
    "    [84, 45],\n",
    "    [313, 270],\n",
    "]\n",
    "\n",
    "df = pd.DataFrame(data=data, index=index, columns=columns)\n",
    "df.index = df.index.rename(('Smoking', 'Shipbuilding'))\n",
    "\n",
    "df"
   ]
  },
  {
   "cell_type": "markdown",
   "id": "07bbf0f8-2a76-4f14-a6cc-c3342b7f5e3d",
   "metadata": {},
   "source": [
    "## A1.20(a)"
   ]
  },
  {
   "cell_type": "code",
   "execution_count": 16,
   "id": "f6fd4817-f447-4608-b48d-4546bc3369a0",
   "metadata": {},
   "outputs": [
    {
     "name": "stdout",
     "output_type": "stream",
     "text": [
      "Nonsmoker OR = 1.28\n"
     ]
    }
   ],
   "source": [
    "subdf = df.loc['No']\n",
    "employed_odds = subdf.loc['Yes', 'Cases'] / subdf.loc['Yes', 'Control']\n",
    "unemployed_odds = subdf.loc['No', 'Cases'] / subdf.loc['No', 'Control']\n",
    "odds_ratio = employed_odds / unemployed_odds\n",
    "\n",
    "print(f\"Nonsmoker OR = {odds_ratio :.2f}\")"
   ]
  },
  {
   "cell_type": "markdown",
   "id": "a76d727d-3ba6-4ad7-b02a-95dc39bbeab6",
   "metadata": {},
   "source": [
    "## A1.20(b)"
   ]
  },
  {
   "cell_type": "code",
   "execution_count": 17,
   "id": "899def8a-002e-4224-9555-7f0611b617ea",
   "metadata": {},
   "outputs": [
    {
     "name": "stdout",
     "output_type": "stream",
     "text": [
      "Smoker OR = 1.61\n"
     ]
    }
   ],
   "source": [
    "subdf = df.loc['Yes']\n",
    "employed_odds = subdf.loc['Yes', 'Cases'] / subdf.loc['Yes', 'Control']\n",
    "unemployed_odds = subdf.loc['No', 'Cases'] / subdf.loc['No', 'Control']\n",
    "odds_ratio = employed_odds / unemployed_odds\n",
    "\n",
    "print(f\"Smoker OR = {odds_ratio :.2f}\")"
   ]
  },
  {
   "cell_type": "markdown",
   "id": "b41d01f3-6380-47df-839a-ba202b2d0a05",
   "metadata": {},
   "source": [
    "## A1.20(d)"
   ]
  },
  {
   "cell_type": "code",
   "execution_count": null,
   "id": "10538380-39c0-4c43-8e67-d99199e7a5e1",
   "metadata": {},
   "outputs": [],
   "source": []
  },
  {
   "cell_type": "markdown",
   "id": "eb60a1e9-c102-42fb-8dd7-a1368d3602e2",
   "metadata": {},
   "source": [
    "# Q1.23\n",
    "Postmenopausal women who develop endometrial cancer are on the whole\n",
    "heavier than women who do not develop the disease. One possible explanation\n",
    "is that heavy women are more exposed to endogenous estrogens which are produced\n",
    "in postmenopausal women by conversion of steroid precursors to active\n",
    "estrogens in peripheral fat. In the face of varying levels of endogenous estrogen\n",
    "production, one might ask whether the carcinogenic potential of exogenous\n",
    "estrogens would be the same in all women. A case–control study has been conducted\n",
    "to examine the relation among weight, replacement estrogen therapy,\n",
    "and endometrial cancer. The results are shown in Table E1.23.\n",
    "\n",
    "(a) Calculate separately for the three weight groups the odds ratio associated\n",
    "with estrogen replacement.\n",
    "\n",
    "(b) Compare the three odds ratios in part (a). When the difference is confirmed\n",
    "properly, we have an effect modification.\n",
    "\n",
    "(c) Assuming that the odds ratios for the three weight groups are equal (in\n",
    "other words, weight is not an effect modifier), calculate the Mantel–\n",
    "Haenszel estimate of this common odds ratio."
   ]
  },
  {
   "cell_type": "code",
   "execution_count": 18,
   "id": "4dcf796a-7704-4a7f-924e-df9996cac87b",
   "metadata": {},
   "outputs": [
    {
     "data": {
      "text/html": [
       "<div>\n",
       "<style scoped>\n",
       "    .dataframe tbody tr th:only-of-type {\n",
       "        vertical-align: middle;\n",
       "    }\n",
       "\n",
       "    .dataframe tbody tr th {\n",
       "        vertical-align: top;\n",
       "    }\n",
       "\n",
       "    .dataframe thead tr th {\n",
       "        text-align: left;\n",
       "    }\n",
       "\n",
       "    .dataframe thead tr:last-of-type th {\n",
       "        text-align: right;\n",
       "    }\n",
       "</style>\n",
       "<table border=\"1\" class=\"dataframe\">\n",
       "  <thead>\n",
       "    <tr>\n",
       "      <th></th>\n",
       "      <th></th>\n",
       "      <th colspan=\"2\" halign=\"left\">Estrogen replacement</th>\n",
       "    </tr>\n",
       "    <tr>\n",
       "      <th></th>\n",
       "      <th></th>\n",
       "      <th>Yes</th>\n",
       "      <th>No</th>\n",
       "    </tr>\n",
       "    <tr>\n",
       "      <th>Weight (kg)</th>\n",
       "      <th></th>\n",
       "      <th></th>\n",
       "      <th></th>\n",
       "    </tr>\n",
       "  </thead>\n",
       "  <tbody>\n",
       "    <tr>\n",
       "      <th rowspan=\"2\" valign=\"top\">&lt;57</th>\n",
       "      <th>Cases</th>\n",
       "      <td>20</td>\n",
       "      <td>12</td>\n",
       "    </tr>\n",
       "    <tr>\n",
       "      <th>Controls</th>\n",
       "      <td>61</td>\n",
       "      <td>183</td>\n",
       "    </tr>\n",
       "    <tr>\n",
       "      <th rowspan=\"2\" valign=\"top\">57-75</th>\n",
       "      <th>Cases</th>\n",
       "      <td>37</td>\n",
       "      <td>45</td>\n",
       "    </tr>\n",
       "    <tr>\n",
       "      <th>Controls</th>\n",
       "      <td>113</td>\n",
       "      <td>378</td>\n",
       "    </tr>\n",
       "    <tr>\n",
       "      <th rowspan=\"2\" valign=\"top\">&gt;75</th>\n",
       "      <th>Cases</th>\n",
       "      <td>9</td>\n",
       "      <td>42</td>\n",
       "    </tr>\n",
       "    <tr>\n",
       "      <th>Controls</th>\n",
       "      <td>23</td>\n",
       "      <td>140</td>\n",
       "    </tr>\n",
       "  </tbody>\n",
       "</table>\n",
       "</div>"
      ],
      "text/plain": [
       "                     Estrogen replacement     \n",
       "                                      Yes   No\n",
       "Weight (kg)                                   \n",
       "<57         Cases                      20   12\n",
       "            Controls                   61  183\n",
       "57-75       Cases                      37   45\n",
       "            Controls                  113  378\n",
       ">75         Cases                       9   42\n",
       "            Controls                   23  140"
      ]
     },
     "execution_count": 18,
     "metadata": {},
     "output_type": "execute_result"
    }
   ],
   "source": [
    "index = [\n",
    "    ['<57', '<57', '57-75', '57-75', '>75', '>75'],\n",
    "    ['Cases', 'Controls', 'Cases', 'Controls', 'Cases', 'Controls'],\n",
    "]\n",
    "\n",
    "columns = [\n",
    "    ['Estrogen replacement', 'Estrogen replacement'],\n",
    "    ['Yes', 'No'],\n",
    "]\n",
    "\n",
    "data = [\n",
    "    [20, 12],\n",
    "    [61, 183],\n",
    "    [37, 45],\n",
    "    [113, 378],\n",
    "    [9, 42],\n",
    "    [23, 140],\n",
    "]\n",
    "\n",
    "df = pd.DataFrame(data=data, index=index, columns=columns)\n",
    "df.index = df.index.rename(('Weight (kg)', ''))\n",
    "\n",
    "df"
   ]
  },
  {
   "cell_type": "markdown",
   "id": "bfe31eab-d470-47e5-8629-94e50e8663fc",
   "metadata": {},
   "source": [
    "## A1.23(a)"
   ]
  },
  {
   "cell_type": "code",
   "execution_count": 19,
   "id": "b849ff5d-7de9-48b4-a5db-5e22e3d83f76",
   "metadata": {},
   "outputs": [
    {
     "name": "stdout",
     "output_type": "stream",
     "text": [
      "  <57 OR = 5.00\n",
      "57-75 OR = 2.75\n",
      "  >75 OR = 1.30\n"
     ]
    }
   ],
   "source": [
    "for weight in ['<57', '57-75', '>75']:\n",
    "    subdf = df.loc[weight]\n",
    "    \n",
    "    yes_odds = subdf.loc['Cases', ('Estrogen replacement', 'Yes')] / subdf.loc['Controls', ('Estrogen replacement', 'Yes')]\n",
    "    no_odds = subdf.loc['Cases', ('Estrogen replacement', 'No')] / subdf.loc['Controls', ('Estrogen replacement', 'No')]\n",
    "    odds_ratio = yes_odds / no_odds\n",
    "    \n",
    "    print(f\"{weight :>5} OR = {odds_ratio :.2f}\")"
   ]
  },
  {
   "cell_type": "markdown",
   "id": "94845e3d-b0e4-4f69-83fc-f8b836f987ab",
   "metadata": {},
   "source": [
    "## A1.23(b)\n",
    "The odds ratios decreasing as weight increase."
   ]
  },
  {
   "cell_type": "markdown",
   "id": "fa6024bb-940a-4f13-a91a-cc64f6a67cf2",
   "metadata": {},
   "source": [
    "## A1.23(c)"
   ]
  },
  {
   "cell_type": "markdown",
   "id": "bb1a85bc-c09f-498f-903b-f855a4446184",
   "metadata": {},
   "source": [
    "# Q1.27\n",
    "Postneonatal mortality due to respiratory illnesses is known to be inversely\n",
    "related to maternal age, but the role of young motherhood as a risk factor for\n",
    "respiratory morbidity in infants has not been explored thoroughly. A study\n",
    "was conducted in Tucson, Arizona, aimed at the incidence of lower respiratory\n",
    "tract illnesses during the first year of life. In this study, over 1200 infants\n",
    "were enrolled at birth between 1980 and 1984. The data shown in Table E1.27\n",
    "are concerned with wheezing lower respiratory tract illnesses (wheezing LRI:\n",
    "no/yes).\n",
    "\n",
    "(a) For each of the two groups, boys and girls, choose the lowest age group as\n",
    "the reference and calculate the odds ratio associated with each age group.\n",
    "\n",
    "(b) For each of the two groups, boys and girls, calculate the generalized odds\n",
    "and give your interpretation. How does this result compare with those in\n",
    "part (a)?\n",
    "\n",
    "(c) Compare the two generalized odds in part (b) and draw your conclusion."
   ]
  },
  {
   "cell_type": "code",
   "execution_count": 20,
   "id": "8d265f5f-3587-4db6-b1c2-af8fe1d65ad8",
   "metadata": {},
   "outputs": [
    {
     "data": {
      "text/html": [
       "<div>\n",
       "<style scoped>\n",
       "    .dataframe tbody tr th:only-of-type {\n",
       "        vertical-align: middle;\n",
       "    }\n",
       "\n",
       "    .dataframe tbody tr th {\n",
       "        vertical-align: top;\n",
       "    }\n",
       "\n",
       "    .dataframe thead tr th {\n",
       "        text-align: left;\n",
       "    }\n",
       "\n",
       "    .dataframe thead tr:last-of-type th {\n",
       "        text-align: right;\n",
       "    }\n",
       "</style>\n",
       "<table border=\"1\" class=\"dataframe\">\n",
       "  <thead>\n",
       "    <tr>\n",
       "      <th></th>\n",
       "      <th colspan=\"2\" halign=\"left\">Boys</th>\n",
       "      <th colspan=\"2\" halign=\"left\">Girls</th>\n",
       "    </tr>\n",
       "    <tr>\n",
       "      <th></th>\n",
       "      <th>No</th>\n",
       "      <th>Yes</th>\n",
       "      <th>No</th>\n",
       "      <th>Yes</th>\n",
       "    </tr>\n",
       "    <tr>\n",
       "      <th>Maternal age (years)</th>\n",
       "      <th></th>\n",
       "      <th></th>\n",
       "      <th></th>\n",
       "      <th></th>\n",
       "    </tr>\n",
       "  </thead>\n",
       "  <tbody>\n",
       "    <tr>\n",
       "      <th>&lt;21</th>\n",
       "      <td>19</td>\n",
       "      <td>8</td>\n",
       "      <td>20</td>\n",
       "      <td>7</td>\n",
       "    </tr>\n",
       "    <tr>\n",
       "      <th>21-25</th>\n",
       "      <td>98</td>\n",
       "      <td>40</td>\n",
       "      <td>128</td>\n",
       "      <td>36</td>\n",
       "    </tr>\n",
       "    <tr>\n",
       "      <th>26-30</th>\n",
       "      <td>160</td>\n",
       "      <td>45</td>\n",
       "      <td>148</td>\n",
       "      <td>42</td>\n",
       "    </tr>\n",
       "    <tr>\n",
       "      <th>&gt;30</th>\n",
       "      <td>110</td>\n",
       "      <td>20</td>\n",
       "      <td>116</td>\n",
       "      <td>25</td>\n",
       "    </tr>\n",
       "  </tbody>\n",
       "</table>\n",
       "</div>"
      ],
      "text/plain": [
       "                     Boys     Girls    \n",
       "                       No Yes    No Yes\n",
       "Maternal age (years)                   \n",
       "<21                    19   8    20   7\n",
       "21-25                  98  40   128  36\n",
       "26-30                 160  45   148  42\n",
       ">30                   110  20   116  25"
      ]
     },
     "execution_count": 20,
     "metadata": {},
     "output_type": "execute_result"
    }
   ],
   "source": [
    "index = ['<21', '21-25', '26-30', '>30']\n",
    "\n",
    "columns = [\n",
    "    ['Boys', 'Boys', 'Girls', 'Girls'],\n",
    "    ['No', 'Yes', 'No', 'Yes'],\n",
    "]\n",
    "\n",
    "data = [\n",
    "    [19, 8, 20, 7],\n",
    "    [98, 40, 128, 36],\n",
    "    [160, 45, 148, 42],\n",
    "    [110, 20, 116, 25],\n",
    "]\n",
    "\n",
    "df = pd.DataFrame(data=data, index=index, columns=columns)\n",
    "df.index = df.index.rename('Maternal age (years)')\n",
    "\n",
    "df"
   ]
  },
  {
   "cell_type": "markdown",
   "id": "46e206a2-0c81-420a-b805-7837533385af",
   "metadata": {},
   "source": [
    "## A1.27(a)"
   ]
  },
  {
   "cell_type": "code",
   "execution_count": 21,
   "id": "f8c8f2c9-a068-47f6-8ddb-46ae3201b0ce",
   "metadata": {},
   "outputs": [
    {
     "name": "stdout",
     "output_type": "stream",
     "text": [
      "Boys  21-25 OR = 0.97\n",
      "Boys  26-30 OR = 0.67\n",
      "Boys    >30 OR = 0.43\n",
      "Girls 21-25 OR = 0.80\n",
      "Girls 26-30 OR = 0.81\n",
      "Girls   >30 OR = 0.62\n"
     ]
    }
   ],
   "source": [
    "for gender in ['Boys', 'Girls']:\n",
    "    subdf = df.loc[:, gender]\n",
    "    ref_odds = subdf.loc['<21', 'Yes'] / subdf.loc['<21', 'No']\n",
    "    \n",
    "    for age in ['21-25', '26-30', '>30']:\n",
    "        age_odds = subdf.loc[age, 'Yes'] / subdf.loc[age, 'No']\n",
    "        odds_ratio = age_odds / ref_odds\n",
    "        print(f\"{gender :5} {age :>5} OR = {odds_ratio :.2f}\")"
   ]
  },
  {
   "cell_type": "markdown",
   "id": "0103f517-08ec-49e9-852a-8dc7c3afa858",
   "metadata": {},
   "source": [
    "## A1.27(b)"
   ]
  },
  {
   "cell_type": "markdown",
   "id": "8eb1aabd-7e69-426d-96ae-a818f1d236c7",
   "metadata": {},
   "source": [
    "## A1.27(c)"
   ]
  },
  {
   "cell_type": "markdown",
   "id": "8867fd3a-7612-4537-895f-2e55b854001d",
   "metadata": {
    "toc-hr-collapsed": true
   },
   "source": [
    "# Q1.30\n",
    "In an effort to provide a complete analysis of the survival of patients with endstage\n",
    "renal disease (ESRD), data were collected for a sample that included 929\n",
    "patients who initiated hemodialysis for the first time at the Regional Disease\n",
    "Program in Minneapolis, Minnesota between 1 January 1976 and 30 June 1982;\n",
    "all patients were followed until 31 December 1982. Of these 929 patients, 257\n",
    "are diabetics; among the 672 nondiabetics, 386 are classified as low risk\n",
    "(without comorbidities such as arteriosclerotic heart disease, peripheral\n",
    "vascular disease, chronic obstructive pulmonary, and cancer). For the low‐risk\n",
    "ESRD patients, we have the follow‐up data shown in Table E1.30 (in addition\n",
    "to those in Example 1.12).\n",
    "\n",
    "Compute the follow‐up death rate for each age group\n",
    "and the relative risk for the group “70+” versus “51–60.”"
   ]
  },
  {
   "cell_type": "code",
   "execution_count": 22,
   "id": "4cdd9178-5e33-4326-871f-bf3f90f6c9b8",
   "metadata": {},
   "outputs": [
    {
     "data": {
      "text/html": [
       "<div>\n",
       "<style scoped>\n",
       "    .dataframe tbody tr th:only-of-type {\n",
       "        vertical-align: middle;\n",
       "    }\n",
       "\n",
       "    .dataframe tbody tr th {\n",
       "        vertical-align: top;\n",
       "    }\n",
       "\n",
       "    .dataframe thead th {\n",
       "        text-align: right;\n",
       "    }\n",
       "</style>\n",
       "<table border=\"1\" class=\"dataframe\">\n",
       "  <thead>\n",
       "    <tr style=\"text-align: right;\">\n",
       "      <th></th>\n",
       "      <th>Deaths</th>\n",
       "      <th>Treatment months</th>\n",
       "    </tr>\n",
       "    <tr>\n",
       "      <th>Age (years)</th>\n",
       "      <th></th>\n",
       "      <th></th>\n",
       "    </tr>\n",
       "  </thead>\n",
       "  <tbody>\n",
       "    <tr>\n",
       "      <th>21–30</th>\n",
       "      <td>4</td>\n",
       "      <td>1012</td>\n",
       "    </tr>\n",
       "    <tr>\n",
       "      <th>31–40</th>\n",
       "      <td>7</td>\n",
       "      <td>1387</td>\n",
       "    </tr>\n",
       "    <tr>\n",
       "      <th>41–50</th>\n",
       "      <td>20</td>\n",
       "      <td>1706</td>\n",
       "    </tr>\n",
       "    <tr>\n",
       "      <th>51–60</th>\n",
       "      <td>24</td>\n",
       "      <td>2448</td>\n",
       "    </tr>\n",
       "    <tr>\n",
       "      <th>61–70</th>\n",
       "      <td>21</td>\n",
       "      <td>2060</td>\n",
       "    </tr>\n",
       "    <tr>\n",
       "      <th>70+</th>\n",
       "      <td>17</td>\n",
       "      <td>846</td>\n",
       "    </tr>\n",
       "  </tbody>\n",
       "</table>\n",
       "</div>"
      ],
      "text/plain": [
       "             Deaths  Treatment months\n",
       "Age (years)                          \n",
       "21–30             4              1012\n",
       "31–40             7              1387\n",
       "41–50            20              1706\n",
       "51–60            24              2448\n",
       "61–70            21              2060\n",
       "70+              17               846"
      ]
     },
     "execution_count": 22,
     "metadata": {},
     "output_type": "execute_result"
    }
   ],
   "source": [
    "index = ['21–30', '31–40', '41–50', '51–60', '61–70', '70+']\n",
    "\n",
    "columns = ['Deaths', 'Treatment months']\n",
    "\n",
    "data = [\n",
    "    [4, 1012],\n",
    "    [7, 1387],\n",
    "    [20, 1706],\n",
    "    [24, 2448],\n",
    "    [21, 2060],\n",
    "    [17, 846],\n",
    "]\n",
    "\n",
    "df = pd.DataFrame(data=data, index=index, columns=columns)\n",
    "df.index = df.index.rename('Age (years)')\n",
    "\n",
    "df"
   ]
  },
  {
   "cell_type": "markdown",
   "id": "d2e9325e-8e10-42de-a265-3a6bcfd71aea",
   "metadata": {},
   "source": [
    "## A1.30"
   ]
  },
  {
   "cell_type": "code",
   "execution_count": 23,
   "id": "85bfd3e1-f521-4d59-b0aa-81adb7e1c720",
   "metadata": {},
   "outputs": [
    {
     "data": {
      "text/html": [
       "<div>\n",
       "<style scoped>\n",
       "    .dataframe tbody tr th:only-of-type {\n",
       "        vertical-align: middle;\n",
       "    }\n",
       "\n",
       "    .dataframe tbody tr th {\n",
       "        vertical-align: top;\n",
       "    }\n",
       "\n",
       "    .dataframe thead th {\n",
       "        text-align: right;\n",
       "    }\n",
       "</style>\n",
       "<table border=\"1\" class=\"dataframe\">\n",
       "  <thead>\n",
       "    <tr style=\"text-align: right;\">\n",
       "      <th></th>\n",
       "      <th>Deaths</th>\n",
       "      <th>Treatment months</th>\n",
       "      <th>Deaths/1000 trt. months</th>\n",
       "    </tr>\n",
       "    <tr>\n",
       "      <th>Age (years)</th>\n",
       "      <th></th>\n",
       "      <th></th>\n",
       "      <th></th>\n",
       "    </tr>\n",
       "  </thead>\n",
       "  <tbody>\n",
       "    <tr>\n",
       "      <th>21–30</th>\n",
       "      <td>4</td>\n",
       "      <td>1012</td>\n",
       "      <td>3.95</td>\n",
       "    </tr>\n",
       "    <tr>\n",
       "      <th>31–40</th>\n",
       "      <td>7</td>\n",
       "      <td>1387</td>\n",
       "      <td>5.05</td>\n",
       "    </tr>\n",
       "    <tr>\n",
       "      <th>41–50</th>\n",
       "      <td>20</td>\n",
       "      <td>1706</td>\n",
       "      <td>11.72</td>\n",
       "    </tr>\n",
       "    <tr>\n",
       "      <th>51–60</th>\n",
       "      <td>24</td>\n",
       "      <td>2448</td>\n",
       "      <td>9.80</td>\n",
       "    </tr>\n",
       "    <tr>\n",
       "      <th>61–70</th>\n",
       "      <td>21</td>\n",
       "      <td>2060</td>\n",
       "      <td>10.19</td>\n",
       "    </tr>\n",
       "    <tr>\n",
       "      <th>70+</th>\n",
       "      <td>17</td>\n",
       "      <td>846</td>\n",
       "      <td>20.09</td>\n",
       "    </tr>\n",
       "  </tbody>\n",
       "</table>\n",
       "</div>"
      ],
      "text/plain": [
       "             Deaths  Treatment months  Deaths/1000 trt. months\n",
       "Age (years)                                                   \n",
       "21–30             4              1012                     3.95\n",
       "31–40             7              1387                     5.05\n",
       "41–50            20              1706                    11.72\n",
       "51–60            24              2448                     9.80\n",
       "61–70            21              2060                    10.19\n",
       "70+              17               846                    20.09"
      ]
     },
     "execution_count": 23,
     "metadata": {},
     "output_type": "execute_result"
    }
   ],
   "source": [
    "df['Deaths/1000 trt. months'] = 1000 * df['Deaths'] / df['Treatment months']\n",
    "df.round(2)"
   ]
  },
  {
   "cell_type": "code",
   "execution_count": 24,
   "id": "82fa73bc-a724-4ec5-9a00-52fa5e8a9e59",
   "metadata": {},
   "outputs": [
    {
     "name": "stdout",
     "output_type": "stream",
     "text": [
      "Relative risk of 70+ years vs. 51–60 years = 2.05\n"
     ]
    }
   ],
   "source": [
    "rr = df.loc['70+', 'Deaths/1000 trt. months'] / df.loc['51–60', 'Deaths/1000 trt. months']\n",
    "print(f\"Relative risk of 70+ years vs. 51–60 years = {rr :.2f}\")"
   ]
  },
  {
   "cell_type": "markdown",
   "id": "5fb332dd-4072-4f2d-973f-f66244880382",
   "metadata": {},
   "source": [
    "# Q1.33\n",
    "Some 7000 British workers exposed to vinyl chloride monomer were followed\n",
    "for several years to determine whether their mortality experience differed from\n",
    "those of the general population. In addition to data for deaths from cancers as\n",
    "seen in Example 1.20 (Table 1.23), the study also provided the data shown in\n",
    "Table E1.33 for deaths due to circulatory disease.\n",
    "\n",
    "Calculate the SMR for each\n",
    "subgroup and the relative risk for group “15+” versus group “1–4.”"
   ]
  },
  {
   "cell_type": "code",
   "execution_count": 25,
   "id": "86ae9186-12de-41d8-baff-1752b71aef56",
   "metadata": {},
   "outputs": [
    {
     "data": {
      "text/html": [
       "<div>\n",
       "<style scoped>\n",
       "    .dataframe tbody tr th:only-of-type {\n",
       "        vertical-align: middle;\n",
       "    }\n",
       "\n",
       "    .dataframe tbody tr th {\n",
       "        vertical-align: top;\n",
       "    }\n",
       "\n",
       "    .dataframe thead tr th {\n",
       "        text-align: left;\n",
       "    }\n",
       "\n",
       "    .dataframe thead tr:last-of-type th {\n",
       "        text-align: right;\n",
       "    }\n",
       "</style>\n",
       "<table border=\"1\" class=\"dataframe\">\n",
       "  <thead>\n",
       "    <tr>\n",
       "      <th></th>\n",
       "      <th colspan=\"4\" halign=\"left\">Years since entering the industry</th>\n",
       "      <th>Total</th>\n",
       "    </tr>\n",
       "    <tr>\n",
       "      <th></th>\n",
       "      <th>1-4</th>\n",
       "      <th>5-9</th>\n",
       "      <th>10-14</th>\n",
       "      <th>15+</th>\n",
       "      <th></th>\n",
       "    </tr>\n",
       "    <tr>\n",
       "      <th>Deaths</th>\n",
       "      <th></th>\n",
       "      <th></th>\n",
       "      <th></th>\n",
       "      <th></th>\n",
       "      <th></th>\n",
       "    </tr>\n",
       "  </thead>\n",
       "  <tbody>\n",
       "    <tr>\n",
       "      <th>Observed</th>\n",
       "      <td>7.0</td>\n",
       "      <td>25.0</td>\n",
       "      <td>38.0</td>\n",
       "      <td>110.0</td>\n",
       "      <td>180.0</td>\n",
       "    </tr>\n",
       "    <tr>\n",
       "      <th>Expected</th>\n",
       "      <td>32.5</td>\n",
       "      <td>35.6</td>\n",
       "      <td>44.9</td>\n",
       "      <td>121.3</td>\n",
       "      <td>234.1</td>\n",
       "    </tr>\n",
       "  </tbody>\n",
       "</table>\n",
       "</div>"
      ],
      "text/plain": [
       "         Years since entering the industry                     Total\n",
       "                                       1-4   5-9 10-14    15+       \n",
       "Deaths                                                              \n",
       "Observed                               7.0  25.0  38.0  110.0  180.0\n",
       "Expected                              32.5  35.6  44.9  121.3  234.1"
      ]
     },
     "execution_count": 25,
     "metadata": {},
     "output_type": "execute_result"
    }
   ],
   "source": [
    "index = ['Observed', 'Expected']\n",
    "\n",
    "columns = [\n",
    "    ['Years since entering the industry'] * 4 + ['Total'],\n",
    "    ['1-4', '5-9', '10-14', '15+', ''],\n",
    "]\n",
    "\n",
    "data = [\n",
    "    [7, 25, 38, 110, 180],\n",
    "    [32.5, 35.6, 44.9, 121.3, 234.1],\n",
    "]\n",
    "\n",
    "df = pd.DataFrame(data=data, index=index, columns=columns)\n",
    "df.index = df.index.rename('Deaths')\n",
    "\n",
    "df"
   ]
  },
  {
   "cell_type": "markdown",
   "id": "b005c20b-8a3f-41d6-8bf0-da4b87430ed4",
   "metadata": {},
   "source": [
    "# Q1.39\n",
    "Sudden infant death syndrome (SIDS), also known as sudden unexplained\n",
    "death, crib death, or cot death, claims the lives of an alarming number of\n",
    "apparently\n",
    "normal infants every year. In a study at the University of Connecticut\n",
    "School of Medicine, significant associations were found between SIDS and\n",
    "certain demographic characteristics. Some of the summarized data are given in\n",
    "Table E1.39. (Expected deaths are calculated using Connecticut infant mortality\n",
    "data for 1974–1976.)\n",
    "\n",
    "(a) Calculate the standardized mortality ratio (SMR) for each subgroup.\n",
    "\n",
    "(b) Compare males with females and blacks with whites."
   ]
  },
  {
   "cell_type": "code",
   "execution_count": 26,
   "id": "dda362ff-984b-403b-875d-a27a808a972f",
   "metadata": {},
   "outputs": [
    {
     "data": {
      "text/html": [
       "<div>\n",
       "<style scoped>\n",
       "    .dataframe tbody tr th:only-of-type {\n",
       "        vertical-align: middle;\n",
       "    }\n",
       "\n",
       "    .dataframe tbody tr th {\n",
       "        vertical-align: top;\n",
       "    }\n",
       "\n",
       "    .dataframe thead tr th {\n",
       "        text-align: left;\n",
       "    }\n",
       "</style>\n",
       "<table border=\"1\" class=\"dataframe\">\n",
       "  <thead>\n",
       "    <tr>\n",
       "      <th></th>\n",
       "      <th></th>\n",
       "      <th colspan=\"2\" halign=\"left\">Number of deaths</th>\n",
       "    </tr>\n",
       "    <tr>\n",
       "      <th></th>\n",
       "      <th></th>\n",
       "      <th>Observed</th>\n",
       "      <th>Expected</th>\n",
       "    </tr>\n",
       "  </thead>\n",
       "  <tbody>\n",
       "    <tr>\n",
       "      <th rowspan=\"2\" valign=\"top\">Gender</th>\n",
       "      <th>Male</th>\n",
       "      <td>55</td>\n",
       "      <td>45</td>\n",
       "    </tr>\n",
       "    <tr>\n",
       "      <th>Female</th>\n",
       "      <td>35</td>\n",
       "      <td>45</td>\n",
       "    </tr>\n",
       "    <tr>\n",
       "      <th rowspan=\"2\" valign=\"top\">Race</th>\n",
       "      <th>Black</th>\n",
       "      <td>23</td>\n",
       "      <td>11</td>\n",
       "    </tr>\n",
       "    <tr>\n",
       "      <th>White</th>\n",
       "      <td>67</td>\n",
       "      <td>79</td>\n",
       "    </tr>\n",
       "  </tbody>\n",
       "</table>\n",
       "</div>"
      ],
      "text/plain": [
       "              Number of deaths         \n",
       "                      Observed Expected\n",
       "Gender Male                 55       45\n",
       "       Female               35       45\n",
       "Race   Black                23       11\n",
       "       White                67       79"
      ]
     },
     "execution_count": 26,
     "metadata": {},
     "output_type": "execute_result"
    }
   ],
   "source": [
    "index = [\n",
    "    ['Gender', 'Gender', 'Race', 'Race'],\n",
    "    ['Male', 'Female', 'Black', 'White'],\n",
    "]\n",
    "\n",
    "columns = [\n",
    "    ['Number of deaths'] * 2,\n",
    "    ['Observed', 'Expected'],\n",
    "]\n",
    "\n",
    "data = [\n",
    "    [55, 45],\n",
    "    [35, 45],\n",
    "    [23, 11],\n",
    "    [67, 79],\n",
    "]\n",
    "\n",
    "df = pd.DataFrame(data=data, index=index, columns=columns)\n",
    "\n",
    "df"
   ]
  },
  {
   "cell_type": "markdown",
   "id": "7cd5c2a8-76ba-44d6-8b4b-283f36d90142",
   "metadata": {},
   "source": [
    "# Q1.46\n",
    "When a patient is diagnosed as having cancer of the prostate, an important\n",
    "question in deciding on a treatment strategy is whether or not the cancer has\n",
    "spread to the neighboring lymph nodes. The question is so critical in prognosis\n",
    "and treatment that it is customary to operate on the patient (i.e., perform a\n",
    "laparotomy)\n",
    "for the sole purpose of examining the nodes and removing tissue\n",
    "samples to examine under the microscope for evidence of cancer. However,\n",
    "certain variables that can be measured without surgery are predictive of the\n",
    "nodal involvement; and the purpose of the study presented here was to examine\n",
    "the data for 53 prostate cancer patients receiving surgery to determine which\n",
    "of five preoperative variables are predictive of nodal involvement. Table E1.46\n",
    "presents the complete data set. For each of the 53 patients, there are two\n",
    "continuous\n",
    "independent variables, age at diagnosis and level of serum acid\n",
    "phosphatase (×100; called “acid”), and three binary variables: x‐ray reading,\n",
    "pathology reading (grade) of a biopsy of the tumor obtained by needle before\n",
    "surgery, and a rough measure of the size and location of the tumor (stage)\n",
    "obtained by palpation with the fingers via the rectum. For these three binary\n",
    "independent variables, a value of 1 signifies a positive or more serious state\n",
    "and a 0 denotes a negative or less serious finding. In addition, the sixth column\n",
    "presents the finding at surgery—the primary outcome of interest, which is\n",
    "binary, a value of 1 denoting nodal involvement, and a value of 0 denoting no\n",
    "nodal involvement found at surgery. In this exercise we investigate the effects\n",
    "of the three binary preoperative variables (x‐ray, grade, stage); the effects of\n",
    "the two continuous factors (age, acid phosphatase) will be studied in an\n",
    "exercise in Chapter 2.\n",
    "\n",
    "(a) Arrange the data on nodes and x‐ray into a 2 × 2 table, calculate the odds\n",
    "ratio associated with x‐ray and give your interpretation.\n",
    "\n",
    "(b) Arrange the data on nodes and grade into a 2 × 2 table, calculate the odds\n",
    "ratio associated with grade and give your interpretation.\n",
    "\n",
    "(c) Arrange the data on nodes and stage into a 2 × 2 table, calculate the odds\n",
    "ratio associated with stage and give your interpretation."
   ]
  },
  {
   "cell_type": "code",
   "execution_count": 27,
   "id": "c54715e7-d313-4bcc-9425-56b5ff9b661d",
   "metadata": {},
   "outputs": [
    {
     "name": "stdout",
     "output_type": "stream",
     "text": [
      "df num rows: 53\n"
     ]
    },
    {
     "data": {
      "text/html": [
       "<div>\n",
       "<style scoped>\n",
       "    .dataframe tbody tr th:only-of-type {\n",
       "        vertical-align: middle;\n",
       "    }\n",
       "\n",
       "    .dataframe tbody tr th {\n",
       "        vertical-align: top;\n",
       "    }\n",
       "\n",
       "    .dataframe thead th {\n",
       "        text-align: right;\n",
       "    }\n",
       "</style>\n",
       "<table border=\"1\" class=\"dataframe\">\n",
       "  <thead>\n",
       "    <tr style=\"text-align: right;\">\n",
       "      <th></th>\n",
       "      <th>Xray</th>\n",
       "      <th>Grade</th>\n",
       "      <th>Stage</th>\n",
       "      <th>Age</th>\n",
       "      <th>Acid</th>\n",
       "      <th>Nodes</th>\n",
       "    </tr>\n",
       "  </thead>\n",
       "  <tbody>\n",
       "    <tr>\n",
       "      <th>0</th>\n",
       "      <td>0</td>\n",
       "      <td>1</td>\n",
       "      <td>1</td>\n",
       "      <td>64</td>\n",
       "      <td>40</td>\n",
       "      <td>0</td>\n",
       "    </tr>\n",
       "    <tr>\n",
       "      <th>1</th>\n",
       "      <td>0</td>\n",
       "      <td>0</td>\n",
       "      <td>1</td>\n",
       "      <td>63</td>\n",
       "      <td>40</td>\n",
       "      <td>0</td>\n",
       "    </tr>\n",
       "    <tr>\n",
       "      <th>2</th>\n",
       "      <td>1</td>\n",
       "      <td>0</td>\n",
       "      <td>0</td>\n",
       "      <td>65</td>\n",
       "      <td>46</td>\n",
       "      <td>0</td>\n",
       "    </tr>\n",
       "    <tr>\n",
       "      <th>3</th>\n",
       "      <td>0</td>\n",
       "      <td>1</td>\n",
       "      <td>0</td>\n",
       "      <td>67</td>\n",
       "      <td>47</td>\n",
       "      <td>0</td>\n",
       "    </tr>\n",
       "    <tr>\n",
       "      <th>4</th>\n",
       "      <td>0</td>\n",
       "      <td>0</td>\n",
       "      <td>0</td>\n",
       "      <td>66</td>\n",
       "      <td>48</td>\n",
       "      <td>0</td>\n",
       "    </tr>\n",
       "  </tbody>\n",
       "</table>\n",
       "</div>"
      ],
      "text/plain": [
       "   Xray  Grade  Stage  Age  Acid  Nodes\n",
       "0     0      1      1   64    40      0\n",
       "1     0      0      1   63    40      0\n",
       "2     1      0      0   65    46      0\n",
       "3     0      1      0   67    47      0\n",
       "4     0      0      0   66    48      0"
      ]
     },
     "execution_count": 27,
     "metadata": {},
     "output_type": "execute_result"
    }
   ],
   "source": [
    "df = pd.read_csv('assets/Ch1_Q46_data.txt', sep=' & ', engine='python')\n",
    "\n",
    "print(f\"df num rows: {df.shape[0]}\")\n",
    "df.head()"
   ]
  }
 ],
 "metadata": {
  "kernelspec": {
   "display_name": "Python [conda env:ds] *",
   "language": "python",
   "name": "conda-env-ds-py"
  },
  "language_info": {
   "codemirror_mode": {
    "name": "ipython",
    "version": 3
   },
   "file_extension": ".py",
   "mimetype": "text/x-python",
   "name": "python",
   "nbconvert_exporter": "python",
   "pygments_lexer": "ipython3",
   "version": "3.9.7"
  },
  "toc-autonumbering": false,
  "toc-showcode": false,
  "toc-showmarkdowntxt": false
 },
 "nbformat": 4,
 "nbformat_minor": 5
}
