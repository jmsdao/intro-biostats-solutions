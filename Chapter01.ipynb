{
 "cells": [
  {
   "cell_type": "code",
   "execution_count": 1,
   "id": "7ce2e3f2-e816-41df-acfd-d111822c6100",
   "metadata": {},
   "outputs": [],
   "source": [
    "import numpy as np\n",
    "import pandas as pd\n",
    "from IPython.display import Markdown as md"
   ]
  },
  {
   "cell_type": "markdown",
   "id": "fbdf8078-ea64-46d9-9c7c-da2bbc4f02fc",
   "metadata": {
    "toc-hr-collapsed": true
   },
   "source": [
    "# Q1.1\n",
    "Self‐reported injuries among left‐ and right‐handed people were compared in a\n",
    "survey of 1986 college students in British Columbia, Canada. Of the 180 lefthanded\n",
    "students, 93 reported at least one injury, and 619 of the 1716 righthanded\n",
    "students reported at least one injury in the same period. Arrange the\n",
    "data in a 2 × 2 table and calculate the proportion of people with at least one\n",
    "injury during the period of observation for each group.\n",
    "\n",
    "## A1.1"
   ]
  },
  {
   "cell_type": "code",
   "execution_count": 2,
   "id": "a10b24ca-6388-4100-95f9-0547c7878f32",
   "metadata": {},
   "outputs": [
    {
     "data": {
      "text/html": [
       "<div>\n",
       "<style scoped>\n",
       "    .dataframe tbody tr th:only-of-type {\n",
       "        vertical-align: middle;\n",
       "    }\n",
       "\n",
       "    .dataframe tbody tr th {\n",
       "        vertical-align: top;\n",
       "    }\n",
       "\n",
       "    .dataframe thead th {\n",
       "        text-align: right;\n",
       "    }\n",
       "</style>\n",
       "<table border=\"1\" class=\"dataframe\">\n",
       "  <thead>\n",
       "    <tr style=\"text-align: right;\">\n",
       "      <th></th>\n",
       "      <th>Left-handed</th>\n",
       "      <th>Right-handed</th>\n",
       "    </tr>\n",
       "  </thead>\n",
       "  <tbody>\n",
       "    <tr>\n",
       "      <th>Injury</th>\n",
       "      <td>93</td>\n",
       "      <td>619</td>\n",
       "    </tr>\n",
       "    <tr>\n",
       "      <th>No Injury</th>\n",
       "      <td>87</td>\n",
       "      <td>1097</td>\n",
       "    </tr>\n",
       "  </tbody>\n",
       "</table>\n",
       "</div>"
      ],
      "text/plain": [
       "           Left-handed  Right-handed\n",
       "Injury              93           619\n",
       "No Injury           87          1097"
      ]
     },
     "execution_count": 2,
     "metadata": {},
     "output_type": "execute_result"
    }
   ],
   "source": [
    "df = pd.DataFrame()\n",
    "df.loc['Injury', 'Left-handed'] = 93\n",
    "df.loc['No Injury', 'Left-handed'] = 180 - 93\n",
    "df.loc['Injury', 'Right-handed'] = 619\n",
    "df.loc['No Injury', 'Right-handed'] = 1716 - 619\n",
    "\n",
    "df.astype(np.int64)"
   ]
  },
  {
   "cell_type": "code",
   "execution_count": 3,
   "id": "0598123d-a4dd-4f62-b55d-a74e48ced921",
   "metadata": {},
   "outputs": [
    {
     "name": "stdout",
     "output_type": "stream",
     "text": [
      "Left-handed injured proportion :  0.517\n",
      "Right-handed injured proportion:  0.361\n"
     ]
    }
   ],
   "source": [
    "left_prop = df.loc['Injury', 'Left-handed'] / df['Left-handed'].sum()\n",
    "right_prop = df.loc['Injury', 'Right-handed'] / df[ 'Right-handed'].sum()\n",
    "\n",
    "print(f\"Left-handed injured proportion : {left_prop : .3f}\")\n",
    "print(f\"Right-handed injured proportion: {right_prop : .3f}\")"
   ]
  },
  {
   "cell_type": "markdown",
   "id": "279bd67b-8ec4-404c-a45d-af068c9f569e",
   "metadata": {
    "toc-hr-collapsed": true
   },
   "source": [
    "# Q1.5\n",
    "In August 1976, tuberculosis was diagnosed in a high school student (index case)\n",
    "in Corinth, Mississippi. Subsequently, laboratory studies revealed that the student’s\n",
    "disease was caused by drug‐resistant tubercule bacilli. An epidemiologic\n",
    "investigation was conducted at the high school. Table E1.5 gives the rate of\n",
    "positive tuberculin reactions, determined for various groups of students according\n",
    "to degree of exposure to the index case."
   ]
  },
  {
   "cell_type": "code",
   "execution_count": 4,
   "id": "933f8720-16d2-421a-bddf-48a8268c287a",
   "metadata": {
    "jupyter": {
     "source_hidden": true
    },
    "tags": []
   },
   "outputs": [
    {
     "data": {
      "text/html": [
       "<div>\n",
       "<style scoped>\n",
       "    .dataframe tbody tr th:only-of-type {\n",
       "        vertical-align: middle;\n",
       "    }\n",
       "\n",
       "    .dataframe tbody tr th {\n",
       "        vertical-align: top;\n",
       "    }\n",
       "\n",
       "    .dataframe thead th {\n",
       "        text-align: right;\n",
       "    }\n",
       "</style>\n",
       "<table border=\"1\" class=\"dataframe\">\n",
       "  <thead>\n",
       "    <tr style=\"text-align: right;\">\n",
       "      <th></th>\n",
       "      <th>Number tested</th>\n",
       "      <th>Number positive</th>\n",
       "    </tr>\n",
       "  </thead>\n",
       "  <tbody>\n",
       "    <tr>\n",
       "      <th>High Exposure</th>\n",
       "      <td>129</td>\n",
       "      <td>63</td>\n",
       "    </tr>\n",
       "    <tr>\n",
       "      <th>Low Exposure</th>\n",
       "      <td>325</td>\n",
       "      <td>36</td>\n",
       "    </tr>\n",
       "  </tbody>\n",
       "</table>\n",
       "</div>"
      ],
      "text/plain": [
       "               Number tested  Number positive\n",
       "High Exposure            129               63\n",
       "Low Exposure             325               36"
      ]
     },
     "execution_count": 4,
     "metadata": {},
     "output_type": "execute_result"
    }
   ],
   "source": [
    "df = pd.DataFrame()\n",
    "df.loc['High Exposure', 'Number tested'] = 129\n",
    "df.loc['High Exposure', 'Number positive'] = 63\n",
    "df.loc['Low Exposure', 'Number tested'] = 325\n",
    "df.loc['Low Exposure', 'Number positive'] = 36\n",
    "\n",
    "df.astype(np.int64)"
   ]
  },
  {
   "cell_type": "markdown",
   "id": "1a244948-2114-4568-af9e-482f84652c17",
   "metadata": {},
   "source": [
    "(a) Compute and compare the proportions of positive cases for the two\n",
    "exposure levels. What would be your conclusion?\n",
    "(b) Calculate the odds ratio associated with high exposure. Does this result\n",
    "support your conclusion in part (a)?\n",
    "\n",
    "## A1.5(a)"
   ]
  },
  {
   "cell_type": "code",
   "execution_count": 5,
   "id": "27c22194-bd09-42a2-b192-ca65259bf796",
   "metadata": {},
   "outputs": [
    {
     "name": "stdout",
     "output_type": "stream",
     "text": [
      "High Exposure    0.488\n",
      "Low Exposure     0.111\n"
     ]
    }
   ],
   "source": [
    "props = df['Number positive'] / df['Number tested']\n",
    "print(props.round(3).to_string())"
   ]
  },
  {
   "cell_type": "markdown",
   "id": "3cc9681f-237c-4ed1-af6d-95b14ac706a4",
   "metadata": {},
   "source": [
    "Students in the \"high exposure\" group have a much greater proportion of cases (over 4 times).\n",
    "\n",
    "## A1.5(b)"
   ]
  },
  {
   "cell_type": "code",
   "execution_count": 6,
   "id": "1f7f7cc7-3601-4093-a4b7-6f8b3dc2a1b3",
   "metadata": {},
   "outputs": [
    {
     "data": {
      "text/plain": [
       "7.663"
      ]
     },
     "execution_count": 6,
     "metadata": {},
     "output_type": "execute_result"
    }
   ],
   "source": [
    "pos_cases = df['Number positive']\n",
    "neg_cases = df['Number tested'] - pos_cases\n",
    "\n",
    "odds = pos_cases / neg_cases\n",
    "odds_ratio = odds['High Exposure'] / odds['Low Exposure']\n",
    "\n",
    "odds_ratio.round(3)"
   ]
  },
  {
   "cell_type": "markdown",
   "id": "71c37851-c0d1-4109-a901-80e2647b0541",
   "metadata": {},
   "source": [
    "This supports the conclusion that high exposure increases the odds of testing positive."
   ]
  },
  {
   "cell_type": "markdown",
   "id": "1f1c63bf-b58c-4e58-8646-d65ebc4cc35c",
   "metadata": {
    "toc-hr-collapsed": true
   },
   "source": [
    "# Q1.8\n",
    "A case–control study was conducted in Auckland, New Zealand, to investigate\n",
    "the effects among regular drinkers of alcohol consumption on both nonfatal\n",
    "myocardial infarction and coronary death in the 24 hours after drinking. Data\n",
    "were tabulated separately for men and women (Table E1.8)."
   ]
  },
  {
   "cell_type": "code",
   "execution_count": 7,
   "id": "7e9b70e1-02e5-4e30-a5a5-2d78e700c836",
   "metadata": {
    "jupyter": {
     "source_hidden": true
    },
    "tags": []
   },
   "outputs": [
    {
     "data": {
      "text/html": [
       "<div>\n",
       "<style scoped>\n",
       "    .dataframe tbody tr th:only-of-type {\n",
       "        vertical-align: middle;\n",
       "    }\n",
       "\n",
       "    .dataframe tbody tr th {\n",
       "        vertical-align: top;\n",
       "    }\n",
       "\n",
       "    .dataframe thead tr th {\n",
       "        text-align: left;\n",
       "    }\n",
       "\n",
       "    .dataframe thead tr:last-of-type th {\n",
       "        text-align: right;\n",
       "    }\n",
       "</style>\n",
       "<table border=\"1\" class=\"dataframe\">\n",
       "  <thead>\n",
       "    <tr>\n",
       "      <th></th>\n",
       "      <th></th>\n",
       "      <th colspan=\"2\" halign=\"left\">Myocardial infarction</th>\n",
       "      <th colspan=\"2\" halign=\"left\">Coronary death</th>\n",
       "    </tr>\n",
       "    <tr>\n",
       "      <th></th>\n",
       "      <th></th>\n",
       "      <th>Controls</th>\n",
       "      <th>Cases</th>\n",
       "      <th>Controls</th>\n",
       "      <th>Cases</th>\n",
       "    </tr>\n",
       "    <tr>\n",
       "      <th>Gender</th>\n",
       "      <th>Drink during last 24h</th>\n",
       "      <th></th>\n",
       "      <th></th>\n",
       "      <th></th>\n",
       "      <th></th>\n",
       "    </tr>\n",
       "  </thead>\n",
       "  <tbody>\n",
       "    <tr>\n",
       "      <th rowspan=\"2\" valign=\"top\">Men</th>\n",
       "      <th>No</th>\n",
       "      <td>197</td>\n",
       "      <td>142</td>\n",
       "      <td>135</td>\n",
       "      <td>103</td>\n",
       "    </tr>\n",
       "    <tr>\n",
       "      <th>Yes</th>\n",
       "      <td>201</td>\n",
       "      <td>136</td>\n",
       "      <td>159</td>\n",
       "      <td>69</td>\n",
       "    </tr>\n",
       "    <tr>\n",
       "      <th rowspan=\"2\" valign=\"top\">Women</th>\n",
       "      <th>No</th>\n",
       "      <td>144</td>\n",
       "      <td>41</td>\n",
       "      <td>89</td>\n",
       "      <td>12</td>\n",
       "    </tr>\n",
       "    <tr>\n",
       "      <th>Yes</th>\n",
       "      <td>122</td>\n",
       "      <td>19</td>\n",
       "      <td>76</td>\n",
       "      <td>4</td>\n",
       "    </tr>\n",
       "  </tbody>\n",
       "</table>\n",
       "</div>"
      ],
      "text/plain": [
       "                             Myocardial infarction       Coronary death      \n",
       "                                          Controls Cases       Controls Cases\n",
       "Gender Drink during last 24h                                                 \n",
       "Men    No                                      197   142            135   103\n",
       "       Yes                                     201   136            159    69\n",
       "Women  No                                      144    41             89    12\n",
       "       Yes                                     122    19             76     4"
      ]
     },
     "execution_count": 7,
     "metadata": {},
     "output_type": "execute_result"
    }
   ],
   "source": [
    "index = [\n",
    "    ['Men', 'Men', 'Women', 'Women'],\n",
    "    ['No', 'Yes', 'No', 'Yes'],\n",
    "]\n",
    "\n",
    "columns = [\n",
    "    ['Myocardial infarction', 'Myocardial infarction', 'Coronary death', 'Coronary death'],\n",
    "    ['Controls', 'Cases', 'Controls', 'Cases'],\n",
    "]\n",
    "\n",
    "df = pd.DataFrame(index=index, columns=columns)\n",
    "df.index = df.index.rename(['Gender', 'Drink during last 24h'])\n",
    "\n",
    "df.iloc[0, :] = [197, 142, 135, 103]\n",
    "df.iloc[1, :] = [201, 136, 159, 69]\n",
    "df.iloc[2, :] = [144, 41, 89, 12]\n",
    "df.iloc[3, :] = [122, 19, 76, 4]\n",
    "\n",
    "df"
   ]
  },
  {
   "cell_type": "markdown",
   "id": "70fa387d-3430-4576-a0af-7e05681550d2",
   "metadata": {},
   "source": [
    "(a) Refer to the myocardial infarction data. Calculate separately for men and\n",
    "women the odds ratio associated with drinking.\n",
    "\n",
    "(b) Compare the two odds ratios in part (a). When the difference is confirmed\n",
    "properly, we have an effect modification."
   ]
  },
  {
   "cell_type": "markdown",
   "id": "5c7e0d47-c167-42b1-bb1f-d1a288c25228",
   "metadata": {},
   "source": [
    "## A1.8(a)"
   ]
  },
  {
   "cell_type": "code",
   "execution_count": 8,
   "id": "4d1fd864-fe47-4a6d-a3a1-2acfd6909160",
   "metadata": {},
   "outputs": [
    {
     "name": "stdout",
     "output_type": "stream",
     "text": [
      "Men OR =  0.939\n",
      "Women OR =  0.547\n"
     ]
    }
   ],
   "source": [
    "men_OR = (136/201) / (142/197)\n",
    "women_OR = (19/122) / (41/144)\n",
    "\n",
    "print(f\"Men OR = {men_OR : .3f}\")\n",
    "print(f\"Women OR = {women_OR : .3f}\")"
   ]
  },
  {
   "cell_type": "markdown",
   "id": "b16029b9-6cf3-4893-9167-4b6c90f69bbf",
   "metadata": {},
   "source": [
    "## A1.8(b)\n",
    "The effect in women appears to be stronger (reduced cases of myocardial infarction if drinking in the last 24h)."
   ]
  },
  {
   "cell_type": "code",
   "execution_count": null,
   "id": "362219ab-1f13-44ef-ac32-6b1205d24c5e",
   "metadata": {},
   "outputs": [],
   "source": []
  },
  {
   "cell_type": "code",
   "execution_count": null,
   "id": "da6cee67-77b9-422b-a059-b1dfd72f6af7",
   "metadata": {},
   "outputs": [],
   "source": []
  },
  {
   "cell_type": "code",
   "execution_count": null,
   "id": "e600d54a-3aea-4cc4-9877-74ad259980bf",
   "metadata": {},
   "outputs": [],
   "source": []
  },
  {
   "cell_type": "code",
   "execution_count": null,
   "id": "acb0a5c6-c215-406e-a5c3-1b39cfa1616b",
   "metadata": {},
   "outputs": [],
   "source": []
  },
  {
   "cell_type": "code",
   "execution_count": null,
   "id": "45559191-b422-4797-ab3f-b25676964055",
   "metadata": {},
   "outputs": [],
   "source": []
  },
  {
   "cell_type": "code",
   "execution_count": null,
   "id": "2cfb81f6-b0de-496d-aef5-2e13d228fe11",
   "metadata": {},
   "outputs": [],
   "source": []
  },
  {
   "cell_type": "code",
   "execution_count": null,
   "id": "4cbef108-50e2-4e25-a53f-84f1e7feb740",
   "metadata": {},
   "outputs": [],
   "source": []
  },
  {
   "cell_type": "code",
   "execution_count": null,
   "id": "84e825ab-7de3-42c6-ac41-9662d9055d8c",
   "metadata": {},
   "outputs": [],
   "source": []
  }
 ],
 "metadata": {
  "kernelspec": {
   "display_name": "Python [conda env:ds] *",
   "language": "python",
   "name": "conda-env-ds-py"
  },
  "language_info": {
   "codemirror_mode": {
    "name": "ipython",
    "version": 3
   },
   "file_extension": ".py",
   "mimetype": "text/x-python",
   "name": "python",
   "nbconvert_exporter": "python",
   "pygments_lexer": "ipython3",
   "version": "3.9.7"
  },
  "toc-autonumbering": false,
  "toc-showcode": false,
  "toc-showmarkdowntxt": false
 },
 "nbformat": 4,
 "nbformat_minor": 5
}
