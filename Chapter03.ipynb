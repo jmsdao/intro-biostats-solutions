{
 "cells": [
  {
   "cell_type": "code",
   "execution_count": 1,
   "id": "1ffb4caf-e86e-4d6d-a319-1595c7810522",
   "metadata": {},
   "outputs": [],
   "source": [
    "import numpy as np\n",
    "import pandas as pd\n",
    "from scipy import stats"
   ]
  },
  {
   "cell_type": "markdown",
   "id": "067cf3c5-4d24-4f3a-8092-12066c7713f0",
   "metadata": {
    "toc-hr-collapsed": true
   },
   "source": [
    "# Q3.1\n",
    "Although cervical cancer is not a leading cause of death among women in the\n",
    "United States, it has been suggested that virtually all such deaths are preventable\n",
    "(5166 American women died from cervical cancer in 1977). In an effort to\n",
    "find out who is being or not being screened for cervical cancer (Pap testing),\n",
    "data were collected from a certain community (Table E3.1). Is there a statistical\n",
    "relationship here? (Try a few different methods: calculation of odds ratio,\n",
    "comparison of conditional and unconditional probabilities, and comparison of\n",
    "conditional probabilities.)"
   ]
  },
  {
   "cell_type": "code",
   "execution_count": 2,
   "id": "5daa1947-ad58-4885-9d88-e60b61f75993",
   "metadata": {},
   "outputs": [
    {
     "data": {
      "text/html": [
       "<div>\n",
       "<style scoped>\n",
       "    .dataframe tbody tr th:only-of-type {\n",
       "        vertical-align: middle;\n",
       "    }\n",
       "\n",
       "    .dataframe tbody tr th {\n",
       "        vertical-align: top;\n",
       "    }\n",
       "\n",
       "    .dataframe thead th {\n",
       "        text-align: right;\n",
       "    }\n",
       "</style>\n",
       "<table border=\"1\" class=\"dataframe\">\n",
       "  <thead>\n",
       "    <tr style=\"text-align: right;\">\n",
       "      <th></th>\n",
       "      <th>White</th>\n",
       "      <th>Black</th>\n",
       "      <th>Total</th>\n",
       "    </tr>\n",
       "    <tr>\n",
       "      <th>Pap test</th>\n",
       "      <th></th>\n",
       "      <th></th>\n",
       "      <th></th>\n",
       "    </tr>\n",
       "  </thead>\n",
       "  <tbody>\n",
       "    <tr>\n",
       "      <th>No</th>\n",
       "      <td>5244</td>\n",
       "      <td>785</td>\n",
       "      <td>6029</td>\n",
       "    </tr>\n",
       "    <tr>\n",
       "      <th>Yes</th>\n",
       "      <td>25117</td>\n",
       "      <td>2348</td>\n",
       "      <td>27465</td>\n",
       "    </tr>\n",
       "    <tr>\n",
       "      <th>Total</th>\n",
       "      <td>30361</td>\n",
       "      <td>3133</td>\n",
       "      <td>33494</td>\n",
       "    </tr>\n",
       "  </tbody>\n",
       "</table>\n",
       "</div>"
      ],
      "text/plain": [
       "          White  Black  Total\n",
       "Pap test                     \n",
       "No         5244    785   6029\n",
       "Yes       25117   2348  27465\n",
       "Total     30361   3133  33494"
      ]
     },
     "execution_count": 2,
     "metadata": {},
     "output_type": "execute_result"
    }
   ],
   "source": [
    "index = ['No', 'Yes', 'Total']\n",
    "\n",
    "columns = ['White', 'Black', 'Total']\n",
    "\n",
    "data = [\n",
    "    [5244, 785, 6029],\n",
    "    [25117, 2348, 27465],\n",
    "    [30361, 3133, 33494],\n",
    "]\n",
    "\n",
    "df = pd.DataFrame(data=data, index=index, columns=columns)\n",
    "df.index = df.index.rename('Pap test')\n",
    "\n",
    "df"
   ]
  },
  {
   "cell_type": "markdown",
   "id": "23c4b3b0-67e1-4112-9162-93a6dc109bef",
   "metadata": {},
   "source": [
    "## A3.1"
   ]
  },
  {
   "cell_type": "code",
   "execution_count": 3,
   "id": "1616cf32-4b91-4349-99af-f678898e4eea",
   "metadata": {},
   "outputs": [
    {
     "name": "stdout",
     "output_type": "stream",
     "text": [
      "OR for black vs. white = 0.624\n",
      "P(Pap = Yes)           = 0.820\n",
      "P(Pap = Yes | Black)   = 0.749\n",
      "P(Pap = Yes | White)   = 0.827\n"
     ]
    }
   ],
   "source": [
    "odds_b = df.loc['Yes', 'Black'] / df.loc['No', 'Black']\n",
    "odds_w = df.loc['Yes', 'White'] / df.loc['No', 'White']\n",
    "odds_ratio = odds_b / odds_w\n",
    "\n",
    "print(f\"OR for black vs. white = {odds_ratio :.3f}\")\n",
    "print(f\"P(Pap = Yes)           = {df.loc['Yes', 'Total'] / df.loc['Total', 'Total'] :.3f}\")\n",
    "print(f\"P(Pap = Yes | Black)   = {df.loc['Yes', 'Black'] / df.loc['Total', 'Black'] :.3f}\")\n",
    "print(f\"P(Pap = Yes | White)   = {df.loc['Yes', 'White'] / df.loc['Total', 'White'] :.3f}\")"
   ]
  },
  {
   "cell_type": "markdown",
   "id": "69682db4-fb4b-49aa-b99d-34cb4180a8a9",
   "metadata": {},
   "source": [
    "According to the data above, the black community is less likely to receive a screening for cervical cancer."
   ]
  },
  {
   "cell_type": "markdown",
   "id": "68a08abb-6dc6-4aa4-ac04-26077b38fccf",
   "metadata": {
    "toc-hr-collapsed": true
   },
   "source": [
    "# Q3.3\n",
    "From the intraobserver variability study, find:\n",
    "\n",
    "(a) The probability that abnormal squamous cells were found to be absent in\n",
    "both screenings.\n",
    "\n",
    "(b) The probability of an absence in the second screening given that abnormal\n",
    "cells were found in the first screening.\n",
    "\n",
    "(c) The probability of an abnormal presence in the second screening given that\n",
    "no abnormal cells were found in the first screening.\n",
    "\n",
    "(d) The probability that the screenings disagree."
   ]
  },
  {
   "cell_type": "code",
   "execution_count": 4,
   "id": "fc570e2c-cec1-44cb-9e8a-e53f4807b6ef",
   "metadata": {},
   "outputs": [
    {
     "data": {
      "text/html": [
       "<div>\n",
       "<style scoped>\n",
       "    .dataframe tbody tr th:only-of-type {\n",
       "        vertical-align: middle;\n",
       "    }\n",
       "\n",
       "    .dataframe tbody tr th {\n",
       "        vertical-align: top;\n",
       "    }\n",
       "\n",
       "    .dataframe thead tr th {\n",
       "        text-align: left;\n",
       "    }\n",
       "\n",
       "    .dataframe thead tr:last-of-type th {\n",
       "        text-align: right;\n",
       "    }\n",
       "</style>\n",
       "<table border=\"1\" class=\"dataframe\">\n",
       "  <thead>\n",
       "    <tr>\n",
       "      <th></th>\n",
       "      <th colspan=\"2\" halign=\"left\">Second screening</th>\n",
       "      <th>Total</th>\n",
       "    </tr>\n",
       "    <tr>\n",
       "      <th></th>\n",
       "      <th>Present</th>\n",
       "      <th>Absent</th>\n",
       "      <th></th>\n",
       "    </tr>\n",
       "    <tr>\n",
       "      <th>First screening</th>\n",
       "      <th></th>\n",
       "      <th></th>\n",
       "      <th></th>\n",
       "    </tr>\n",
       "  </thead>\n",
       "  <tbody>\n",
       "    <tr>\n",
       "      <th>Present</th>\n",
       "      <td>1763</td>\n",
       "      <td>489</td>\n",
       "      <td>2252</td>\n",
       "    </tr>\n",
       "    <tr>\n",
       "      <th>Absent</th>\n",
       "      <td>403</td>\n",
       "      <td>670</td>\n",
       "      <td>1073</td>\n",
       "    </tr>\n",
       "    <tr>\n",
       "      <th>Total</th>\n",
       "      <td>2166</td>\n",
       "      <td>1159</td>\n",
       "      <td>3325</td>\n",
       "    </tr>\n",
       "  </tbody>\n",
       "</table>\n",
       "</div>"
      ],
      "text/plain": [
       "                Second screening        Total\n",
       "                         Present Absent      \n",
       "First screening                              \n",
       "Present                     1763    489  2252\n",
       "Absent                       403    670  1073\n",
       "Total                       2166   1159  3325"
      ]
     },
     "execution_count": 4,
     "metadata": {},
     "output_type": "execute_result"
    }
   ],
   "source": [
    "index = ['Present', 'Absent', 'Total']\n",
    "\n",
    "columns = [\n",
    "    ['Second screening', 'Second screening', 'Total'],\n",
    "    ['Present', 'Absent', '']\n",
    "]\n",
    "\n",
    "data = [\n",
    "    [1763, 489, 2252],\n",
    "    [403, 670, 1073],\n",
    "    [2166, 1159, 3325],\n",
    "]\n",
    "\n",
    "df = pd.DataFrame(data=data, index=index, columns=columns)\n",
    "df.index = df.index.rename('First screening')\n",
    "\n",
    "df"
   ]
  },
  {
   "cell_type": "markdown",
   "id": "fd01715e-baae-41f0-97a2-bc22e9d1a4eb",
   "metadata": {},
   "source": [
    "## A3.3"
   ]
  },
  {
   "cell_type": "code",
   "execution_count": 5,
   "id": "10a0c68b-debf-450c-b3aa-c491c11453b8",
   "metadata": {},
   "outputs": [
    {
     "name": "stdout",
     "output_type": "stream",
     "text": [
      "(a) 0.202\n",
      "(b) 0.217\n",
      "(c) 0.376\n",
      "(d) 0.268\n"
     ]
    }
   ],
   "source": [
    "a = df.loc['Absent', ('Second screening', 'Absent')] / df.loc['Total', ('Total', '')]\n",
    "b = df.loc['Present', ('Second screening', 'Absent')] / df.loc['Present', ('Total', '')]\n",
    "c = df.loc['Absent', ('Second screening', 'Present')] / df.loc['Absent', ('Total', '')]\n",
    "d = (df.loc['Present', ('Second screening', 'Absent')] + \\\n",
    "     df.loc['Absent', ('Second screening', 'Present')]) / \\\n",
    "     df.loc['Total', ('Total', '')]\n",
    "\n",
    "print(f\"(a) {a :.3f}\")\n",
    "print(f\"(b) {b :.3f}\")\n",
    "print(f\"(c) {c :.3f}\")\n",
    "print(f\"(d) {d :.3f}\")"
   ]
  },
  {
   "cell_type": "markdown",
   "id": "958cacc3-b97e-4820-8d42-abdb9b0d45b9",
   "metadata": {
    "tags": [],
    "toc-hr-collapsed": true
   },
   "source": [
    "# Q3.4\n",
    "Given the screening test of Example 1.4, where:\n",
    "- Sensitivity = 0.406\n",
    "- Specificity = 0.985\n",
    "\n",
    "Calculate the positive predictive values when the test is applied to the following\n",
    "populations:\n",
    "- Population A: 80% prevalence\n",
    "- Population B: 25% prevalence"
   ]
  },
  {
   "cell_type": "markdown",
   "id": "e34c9d5a-3b4b-453a-a036-4c63733d5000",
   "metadata": {},
   "source": [
    "## A3.4"
   ]
  },
  {
   "cell_type": "code",
   "execution_count": 6,
   "id": "05627422-f9e9-43c6-b533-53683e83351d",
   "metadata": {},
   "outputs": [
    {
     "name": "stdout",
     "output_type": "stream",
     "text": [
      "For population A, positive predictivity = 0.991\n",
      "For population A, positive predictivity = 0.900\n"
     ]
    }
   ],
   "source": [
    "sens = 0.406\n",
    "spec = 0.985\n",
    "for prev in [0.80, 0.25]:\n",
    "    pos_pred = (prev * sens) / (prev * sens + (1 - prev) * (1 - spec))\n",
    "    print(f\"For population A, positive predictivity = {pos_pred :.3f}\")"
   ]
  },
  {
   "cell_type": "markdown",
   "id": "eca55f90-1afe-4207-9cac-aaa73bb46300",
   "metadata": {
    "toc-hr-collapsed": true
   },
   "source": [
    "# Q3.5\n",
    "Consider the data shown in Table E3.5 on the use of x‐ray as a screening test\n",
    "for tuberculosis:\n",
    "\n",
    "(a) Calculate the sensitivity and specificity.\n",
    "\n",
    "(b) Find the disease prevalence.\n",
    "\n",
    "(c) Calculate the positive predictive value both directly and indirectly using\n",
    "Bayes’ theorem."
   ]
  },
  {
   "cell_type": "code",
   "execution_count": 7,
   "id": "09bbbf2a-c067-4a11-911f-29df2ac6f151",
   "metadata": {},
   "outputs": [
    {
     "data": {
      "text/html": [
       "<div>\n",
       "<style scoped>\n",
       "    .dataframe tbody tr th:only-of-type {\n",
       "        vertical-align: middle;\n",
       "    }\n",
       "\n",
       "    .dataframe tbody tr th {\n",
       "        vertical-align: top;\n",
       "    }\n",
       "\n",
       "    .dataframe thead tr th {\n",
       "        text-align: left;\n",
       "    }\n",
       "\n",
       "    .dataframe thead tr:last-of-type th {\n",
       "        text-align: right;\n",
       "    }\n",
       "</style>\n",
       "<table border=\"1\" class=\"dataframe\">\n",
       "  <thead>\n",
       "    <tr>\n",
       "      <th></th>\n",
       "      <th colspan=\"2\" halign=\"left\">Tuberculosis</th>\n",
       "    </tr>\n",
       "    <tr>\n",
       "      <th></th>\n",
       "      <th>No</th>\n",
       "      <th>Yes</th>\n",
       "    </tr>\n",
       "    <tr>\n",
       "      <th>X-ray</th>\n",
       "      <th></th>\n",
       "      <th></th>\n",
       "    </tr>\n",
       "  </thead>\n",
       "  <tbody>\n",
       "    <tr>\n",
       "      <th>Negative</th>\n",
       "      <td>1739</td>\n",
       "      <td>8</td>\n",
       "    </tr>\n",
       "    <tr>\n",
       "      <th>Positive</th>\n",
       "      <td>51</td>\n",
       "      <td>22</td>\n",
       "    </tr>\n",
       "    <tr>\n",
       "      <th>Total</th>\n",
       "      <td>1790</td>\n",
       "      <td>30</td>\n",
       "    </tr>\n",
       "  </tbody>\n",
       "</table>\n",
       "</div>"
      ],
      "text/plain": [
       "         Tuberculosis    \n",
       "                   No Yes\n",
       "X-ray                    \n",
       "Negative         1739   8\n",
       "Positive           51  22\n",
       "Total            1790  30"
      ]
     },
     "execution_count": 7,
     "metadata": {},
     "output_type": "execute_result"
    }
   ],
   "source": [
    "index = ['Negative', 'Positive', 'Total']\n",
    "\n",
    "columns = [\n",
    "    ['Tuberculosis', 'Tuberculosis'],\n",
    "    ['No', 'Yes']\n",
    "]\n",
    "\n",
    "data = [\n",
    "    [1739, 8],\n",
    "    [51, 22],\n",
    "    [1790, 30],\n",
    "]\n",
    "\n",
    "df = pd.DataFrame(data=data, index=index, columns=columns)\n",
    "df.index = df.index.rename('X-ray')\n",
    "\n",
    "df"
   ]
  },
  {
   "cell_type": "markdown",
   "id": "f7e7623f-aa9d-414b-af9a-901409cee901",
   "metadata": {},
   "source": [
    "## A3.5(a)"
   ]
  },
  {
   "cell_type": "code",
   "execution_count": 8,
   "id": "9b906138-3977-4dca-9328-73e8ba38477a",
   "metadata": {},
   "outputs": [
    {
     "name": "stdout",
     "output_type": "stream",
     "text": [
      "Sensitivity = 0.733\n",
      "Specificity = 0.972\n"
     ]
    }
   ],
   "source": [
    "sens = df.loc['Positive', ('Tuberculosis', 'Yes')] / df.loc['Total', ('Tuberculosis', 'Yes')]\n",
    "spec = df.loc['Negative', ('Tuberculosis', 'No')] / df.loc['Total', ('Tuberculosis', 'No')]\n",
    "print(f\"Sensitivity = {sens :.3f}\")\n",
    "print(f\"Specificity = {spec :.3f}\")"
   ]
  },
  {
   "cell_type": "markdown",
   "id": "4d3d3351-13c4-4b8b-9aa7-558c76c74e5d",
   "metadata": {},
   "source": [
    "## A3.5(b)"
   ]
  },
  {
   "cell_type": "code",
   "execution_count": 9,
   "id": "4fdfe457-910d-4fa2-a180-54d887c50fa7",
   "metadata": {},
   "outputs": [
    {
     "name": "stdout",
     "output_type": "stream",
     "text": [
      "Disease prevalence = 0.016\n"
     ]
    }
   ],
   "source": [
    "prev = df.loc['Total', ('Tuberculosis', 'Yes')] / df.loc['Total'].sum()\n",
    "print(f\"Disease prevalence = {prev :.3f}\")"
   ]
  },
  {
   "cell_type": "markdown",
   "id": "4e6e01bf-71d8-4c5b-aa2c-56f6705b21a2",
   "metadata": {},
   "source": [
    "## A3.5(c)"
   ]
  },
  {
   "cell_type": "code",
   "execution_count": 10,
   "id": "5edec085-1945-4a79-bd4e-290332e73abf",
   "metadata": {},
   "outputs": [
    {
     "name": "stdout",
     "output_type": "stream",
     "text": [
      "PPV (direct)   = 0.301\n",
      "PPV (indirect) = 0.301\n"
     ]
    }
   ],
   "source": [
    "ppv_direct = (prev * sens) / (prev * sens + (1 - prev) * (1 - spec))\n",
    "ppv_indirect = df.loc['Positive', ('Tuberculosis', 'Yes')] / df.loc['Positive'].sum()\n",
    "print(f\"PPV (direct)   = {ppv_direct :.3f}\")\n",
    "print(f\"PPV (indirect) = {ppv_indirect :.3f}\")"
   ]
  },
  {
   "cell_type": "markdown",
   "id": "31f08e8c-9ba6-4841-a8d5-41ac4054f2c0",
   "metadata": {
    "toc-hr-collapsed": true
   },
   "source": [
    "# Q3.6\n",
    "From the sensitivity and specificity of x‐rays found in Exercise 3.5, compute\n",
    "the positive predictive value corresponding to these prevalences: 0.2, 0.4, 0.6,\n",
    "0.7, 0.8, and 0.9. Can we find a prevalence when the positive predictive value\n",
    "is preset at 0.8 or 80%?"
   ]
  },
  {
   "cell_type": "markdown",
   "id": "2b75d44b-c52b-48e7-8da3-7977070c7205",
   "metadata": {},
   "source": [
    "## A3.6"
   ]
  },
  {
   "cell_type": "code",
   "execution_count": 11,
   "id": "ac873166-4671-4c56-810b-724476fc90a5",
   "metadata": {},
   "outputs": [
    {
     "name": "stdout",
     "output_type": "stream",
     "text": [
      "For prevalence = 0.2, PPV = 0.865\n",
      "For prevalence = 0.4, PPV = 0.945\n",
      "For prevalence = 0.6, PPV = 0.975\n",
      "For prevalence = 0.7, PPV = 0.984\n",
      "For prevalence = 0.8, PPV = 0.990\n",
      "For prevalence = 0.9, PPV = 0.996\n"
     ]
    }
   ],
   "source": [
    "for prev in [0.2, 0.4, 0.6, 0.7, 0.8, 0.9]:\n",
    "    ppv = (prev * sens) / (prev * sens + (1 - prev) * (1 - spec))\n",
    "    print(f\"For prevalence = {prev}, PPV = {ppv :.3f}\")"
   ]
  },
  {
   "cell_type": "markdown",
   "id": "3ab643cb-aa82-4571-81b5-cebbb7a4828a",
   "metadata": {},
   "source": [
    "To find prevalence, we must rearrange the given equation:\n",
    "\n",
    "$\\large{PPV = \\frac{(prev)(sens)}{(prev)(sens) + (1-prev)(1-spec)}}$\n",
    "\n",
    "$\\large{\\frac{(prev)(sens)}{PPV} = (prev)(sens) + 1 - spec - prev + (prev)(spec)}$\n",
    "\n",
    "$\\large{\\frac{(prev)(sens)}{PPV} - (prev)(sens) + prev - (prev)(spec) = 1 - spec}$\n",
    "\n",
    "$\\large{prev(\\frac{sens}{PPV} - sens + 1 - spec) = 1 - spec}$\n",
    "\n",
    "$\\large{prev = \\frac{1 - spec}{\\frac{sens}{PPV} - sens + 1 - spec}}$"
   ]
  },
  {
   "cell_type": "code",
   "execution_count": 12,
   "id": "2a60ab8c-9fe2-4407-aab0-b0a6bb21aaf8",
   "metadata": {},
   "outputs": [
    {
     "name": "stdout",
     "output_type": "stream",
     "text": [
      "When PPV = 0.8, prevalence = 0.135\n"
     ]
    }
   ],
   "source": [
    "ppv = 0.8\n",
    "numer = 1 - spec\n",
    "denom = sens / ppv - sens + 1 - spec\n",
    "prev = numer / denom\n",
    "print(f\"When PPV = {ppv}, prevalence = {prev :.3f}\")"
   ]
  },
  {
   "cell_type": "markdown",
   "id": "2cd724c0-d981-498c-bd9a-b489e91b2570",
   "metadata": {
    "toc-hr-collapsed": true
   },
   "source": [
    "# Q3.7\n",
    "Refer to the standard normal distribution. What is the probability of obtaining\n",
    "a z value of:  \n",
    "(a) At least 1.25?  \n",
    "(b) At least −0.84?"
   ]
  },
  {
   "cell_type": "markdown",
   "id": "b3ff7d4c-54ae-4f0d-b16b-7ac4086ebd79",
   "metadata": {},
   "source": [
    "## A3.7"
   ]
  },
  {
   "cell_type": "code",
   "execution_count": 13,
   "id": "35471aee-0f15-4f4c-9cbb-d4b4ed3d2263",
   "metadata": {},
   "outputs": [
    {
     "name": "stdout",
     "output_type": "stream",
     "text": [
      "(a) 0.1056\n",
      "(b) 0.7995\n"
     ]
    }
   ],
   "source": [
    "print(f\"(a) {stats.norm.sf(1.25) :.4f}\")\n",
    "print(f\"(b) {stats.norm.sf(-0.84) :.4f}\")"
   ]
  },
  {
   "cell_type": "markdown",
   "id": "bcffbe91-6a2b-42d7-8222-5cad3737f08a",
   "metadata": {
    "toc-hr-collapsed": true
   },
   "source": [
    "# Q3.8\n",
    "Refer to the standard normal distribution. What is the probability of obtaining\n",
    "a z value:  \n",
    "(a) Between −1.96 and 1.96?  \n",
    "(b) Between 1.22 and 1.85?  \n",
    "(c) Between −0.84 and 1.28?"
   ]
  },
  {
   "cell_type": "markdown",
   "id": "d5879722-bc97-41db-898f-717ef29ea63c",
   "metadata": {},
   "source": [
    "## A3.8"
   ]
  },
  {
   "cell_type": "code",
   "execution_count": 14,
   "id": "1650a3cd-112b-4a9b-a02e-bfb66df7e5d0",
   "metadata": {},
   "outputs": [
    {
     "name": "stdout",
     "output_type": "stream",
     "text": [
      "(a) 0.9500\n",
      "(b) 0.0791\n",
      "(c) 0.6993\n"
     ]
    }
   ],
   "source": [
    "print(f\"(a) {stats.norm.cdf(1.96) - stats.norm.cdf(-1.96) :.4f}\")\n",
    "print(f\"(b) {stats.norm.cdf(1.85) - stats.norm.cdf(1.22) :.4f}\")\n",
    "print(f\"(c) {stats.norm.cdf(1.28) - stats.norm.cdf(-0.84) :.4f}\")"
   ]
  },
  {
   "cell_type": "markdown",
   "id": "4bae255a-4270-48ec-b1e4-7fa9c0941c34",
   "metadata": {
    "toc-hr-collapsed": true
   },
   "source": [
    "# Q3.10\n",
    "Refer to the standard normal distribution. Find a z value such that the probability\n",
    "of obtaining a larger z value is:  \n",
    "(a) 0.05  \n",
    "(b) 0.025  \n",
    "(c) 0.2"
   ]
  },
  {
   "cell_type": "markdown",
   "id": "f6bbbae3-2858-487b-9908-85d9a19bfd7f",
   "metadata": {},
   "source": [
    "## A3.10"
   ]
  },
  {
   "cell_type": "code",
   "execution_count": 15,
   "id": "d7df8b07-98b1-46aa-b179-724e76e46f1d",
   "metadata": {},
   "outputs": [
    {
     "name": "stdout",
     "output_type": "stream",
     "text": [
      "(a) 1.6449\n",
      "(b) 1.9600\n",
      "(c) 0.8416\n"
     ]
    }
   ],
   "source": [
    "print(f\"(a) {stats.norm.ppf(1 - 0.05) :.4f}\")\n",
    "print(f\"(b) {stats.norm.ppf(1 - 0.025) :.4f}\")\n",
    "print(f\"(c) {stats.norm.ppf(1 - 0.2) :.4f}\")"
   ]
  },
  {
   "cell_type": "markdown",
   "id": "f0ab5a4f-b813-49b6-8e94-ed3acbedfe6d",
   "metadata": {
    "toc-hr-collapsed": true
   },
   "source": [
    "# Q3.13\n",
    "Medical research has concluded that people experience a common cold\n",
    "roughly two times per year. Assume that the time between colds is normally\n",
    "distributed with a mean of 160 days and a standard deviation of 40 days.\n",
    "\n",
    "(a) What is the probability of going 200 or more days between colds? Of\n",
    "going 365 or more days?  \n",
    "(b) What is the probability of getting a cold within 80 days of a previous cold?"
   ]
  },
  {
   "cell_type": "markdown",
   "id": "1c90d1c2-c853-4993-aa71-d5f80647e211",
   "metadata": {},
   "source": [
    "## A3.13"
   ]
  },
  {
   "cell_type": "code",
   "execution_count": 16,
   "id": "b82b31dd-1b4f-4ae1-9ff6-1be20306260a",
   "metadata": {},
   "outputs": [
    {
     "name": "stdout",
     "output_type": "stream",
     "text": [
      "(a) 200 or more = 0.1587, 365 or more = 1.488e-07\n",
      "(b) 0.0228\n"
     ]
    }
   ],
   "source": [
    "N = stats.norm(160, 40)\n",
    "print(f\"(a) 200 or more = {N.sf(200) :.4}, 365 or more = {N.sf(365) :.4}\")\n",
    "print(f\"(b) {N.cdf(80) :.3}\")"
   ]
  },
  {
   "cell_type": "markdown",
   "id": "8bd43962-80e0-4826-9b77-81360083b280",
   "metadata": {
    "toc-hr-collapsed": true
   },
   "source": [
    "# Q3.15\n",
    "Intelligence test scores, referred to as intelligence quotient or IQ scores, are\n",
    "based on characteristics such as verbal skills, abstract reasoning power,\n",
    "numerical ability, and spatial visualization. If plotted on a graph, the distribution\n",
    "of IQ scores approximates a normal curve with a mean of about 100. An\n",
    "IQ score above 115 is considered superior. Studies of “intellectually gifted”\n",
    "children have generally defined the lower limit of their IQ scores at 140;\n",
    "approximately 1% of the population have IQ scores above this limit (based on\n",
    "Biracree, 1984).\n",
    "\n",
    "(a) Find the standard deviation of this distribution.  \n",
    "(b) What percent are in the “superior” range of 115 or above?  \n",
    "(c) What percent of the population have IQ scores of 70 or below?"
   ]
  },
  {
   "cell_type": "markdown",
   "id": "11403577-a6b7-4d7c-9cbd-7fbfdf95e254",
   "metadata": {},
   "source": [
    "## A3.15"
   ]
  },
  {
   "cell_type": "code",
   "execution_count": 17,
   "id": "749272d3-9165-4134-b300-caff484c8e33",
   "metadata": {},
   "outputs": [
    {
     "name": "stdout",
     "output_type": "stream",
     "text": [
      "(a) 17.2\n",
      "(b) 0.192\n",
      "(c) 0.0405\n"
     ]
    }
   ],
   "source": [
    "mean = 100\n",
    "std = (140 - mean) / stats.norm.ppf(0.99)\n",
    "N = stats.norm(100, std)\n",
    "\n",
    "print(f\"(a) {std :.3}\")\n",
    "print(f\"(b) {N.sf(115) :.3}\")\n",
    "print(f\"(c) {N.cdf(70) :.3}\")"
   ]
  },
  {
   "cell_type": "markdown",
   "id": "d81baaa3-2015-4a35-9821-d3e11d9b2724",
   "metadata": {
    "toc-hr-collapsed": true
   },
   "source": [
    "# Q3.17\n",
    "Suppose it is known that the probability of recovery for a certain disease is\n",
    "0.4. If 35 people are stricken with the disease, what is the probability that:\n",
    "\n",
    "(a) 25 or more will recover?  \n",
    "(b) Fewer than five will recover?\n",
    "\n",
    "(Use the normal approximation.)"
   ]
  },
  {
   "cell_type": "markdown",
   "id": "e2888692-8e2a-418d-8a3a-f91d490a6549",
   "metadata": {},
   "source": [
    "## A3.17"
   ]
  },
  {
   "cell_type": "code",
   "execution_count": 18,
   "id": "6f1243e5-f9ab-47db-89d2-2974824514c3",
   "metadata": {},
   "outputs": [
    {
     "name": "stdout",
     "output_type": "stream",
     "text": [
      "(a) 7.37e-05 (z = 3.795)\n",
      "(b) 9.50e-04 (z = -3.105)\n"
     ]
    }
   ],
   "source": [
    "n = 35\n",
    "pi = 0.4\n",
    "\n",
    "x = 25\n",
    "z = (x - n * pi) / np.sqrt(n * pi * (1 - pi))\n",
    "print(f\"(a) {stats.norm.sf(z) :8.2e} (z = {z :.4})\")\n",
    "\n",
    "x = 5\n",
    "z = (x - n * pi) / np.sqrt(n * pi * (1 - pi))\n",
    "print(f\"(b) {stats.norm.cdf(z) :8.2e} (z = {z :.4})\")"
   ]
  },
  {
   "cell_type": "markdown",
   "id": "d97511b2-4222-4794-9701-50f53b92ccaf",
   "metadata": {
    "toc-hr-collapsed": true
   },
   "source": [
    "# Q3.19\n",
    "Many samples of water, all the same size, are taken from a river suspected of\n",
    "having been polluted by irresponsible operators at a sewage treatment plant.\n",
    "The number of coliform organisms in each sample was counted; the average\n",
    "number of organisms per sample was 15. Assuming the number of organisms\n",
    "to be Poisson distributed, find the probability that:\n",
    "\n",
    "(a) The next sample will contain at least 20 organisms.  \n",
    "(b) The next sample will contain no more than five organisms."
   ]
  },
  {
   "cell_type": "markdown",
   "id": "0058cd90-3076-48c1-b5b3-5d97de56e171",
   "metadata": {},
   "source": [
    "## A3.19"
   ]
  },
  {
   "cell_type": "code",
   "execution_count": 19,
   "id": "2757d234-201e-447a-9c3b-374bbd716957",
   "metadata": {},
   "outputs": [
    {
     "name": "stdout",
     "output_type": "stream",
     "text": [
      "(a) 0.1248\n",
      "(b) 0.002792\n"
     ]
    }
   ],
   "source": [
    "P = stats.poisson(15)\n",
    "print(f\"(a) {P.sf(19) :.4}\")  # Choose sf(19) to get pdf(20) + pdf(21) + pdf(22)...\n",
    "print(f\"(b) {P.cdf(5) :.4}\")"
   ]
  },
  {
   "cell_type": "markdown",
   "id": "7d8c49f4-27ed-4e12-a9b3-d474eb6613ae",
   "metadata": {
    "toc-hr-collapsed": true
   },
   "source": [
    "# Q3.20\n",
    "For the year 1981 (see Example 3.9), we also have the following data for the\n",
    "South Atlantic states (Delaware, Florida, Georgia, Maryland, North and South\n",
    "Carolina, Virginia, and West Virginia, and the District of Columbia):\n",
    "- d = 7643 infant deaths\n",
    "- N = 550300 live births\n",
    "\n",
    "Find the infant mortality rate, and compare it to the national average (11.9 per 1000 live births) using the\n",
    "method of Example 3.9."
   ]
  },
  {
   "cell_type": "markdown",
   "id": "d563ac2c-1ef0-4763-b4a5-d6fa4dcf66d7",
   "metadata": {},
   "source": [
    "## A3.20"
   ]
  },
  {
   "cell_type": "code",
   "execution_count": 20,
   "id": "20d51f6f-f5c6-48ef-adf8-5c5767988465",
   "metadata": {},
   "outputs": [
    {
     "name": "stdout",
     "output_type": "stream",
     "text": [
      "IMR = 13.9 per 1000 live births\n",
      "z-score = 13.5\n"
     ]
    }
   ],
   "source": [
    "d = 7643\n",
    "N = 550300\n",
    "\n",
    "IMR = d / N\n",
    "print(f\"IMR = {1000 * IMR :.1f} per 1000 live births\")\n",
    "\n",
    "theta = (11.9 / 1000) * N\n",
    "z = (d - theta) / np.sqrt(theta)\n",
    "print(f\"z-score = {z :.3}\")"
   ]
  },
  {
   "cell_type": "markdown",
   "id": "2a8acad4-2eef-492a-bb7c-6d5e322e6a3d",
   "metadata": {
    "toc-hr-collapsed": true
   },
   "source": [
    "# Q3.21\n",
    "For a t curve with 20 df, find the areas:\n",
    "\n",
    "(a) To the left of 2.086 and of 2.845.  \n",
    "(b) To the right of 1.725 and of 2.528.  \n",
    "(c) Beyond ± 2.086 and beyond ± 2.845."
   ]
  },
  {
   "cell_type": "markdown",
   "id": "cbf333e2-fb4d-42cf-9339-a326b3ee34d9",
   "metadata": {},
   "source": [
    "## A3.21"
   ]
  },
  {
   "cell_type": "code",
   "execution_count": 21,
   "id": "2ca85036-da9d-475b-aa46-3b25758943cf",
   "metadata": {},
   "outputs": [
    {
     "name": "stdout",
     "output_type": "stream",
     "text": [
      "(a) 0.975, 0.995\n",
      "(b) 0.05, 0.01\n",
      "(c) 0.05, 0.01\n"
     ]
    }
   ],
   "source": [
    "t = stats.t(20)\n",
    "print(f\"(a) {t.cdf(2.086) :.3}, {t.cdf(2.845) :.3}\")\n",
    "print(f\"(b) {t.sf(1.725) :.3}, {t.sf(2.528) :.3}\")\n",
    "print(f\"(c) {t.cdf(-2.086) + t.sf(2.086) :.3}, {t.cdf(-2.845) + t.sf(2.845) :.3}\")"
   ]
  },
  {
   "cell_type": "markdown",
   "id": "966989bd-9812-442a-b88e-3c5efb96ea38",
   "metadata": {
    "toc-hr-collapsed": true
   },
   "source": [
    "# Q3.22\n",
    "For a chi‐square distribution with 2 df, find the areas:\n",
    "\n",
    "(a) To the right of 5.991 and of 9.21.  \n",
    "(b) To the right of 6.348.  \n",
    "(c) Between 5.991 and 9.21."
   ]
  },
  {
   "cell_type": "markdown",
   "id": "646fb6aa-febc-4887-8d8f-91203b2ade09",
   "metadata": {},
   "source": [
    "## A3.22"
   ]
  },
  {
   "cell_type": "code",
   "execution_count": 22,
   "id": "33c7d732-fe8a-4a35-ae88-c08075e7ab1b",
   "metadata": {},
   "outputs": [
    {
     "name": "stdout",
     "output_type": "stream",
     "text": [
      "(a) 0.05, 0.01\n",
      "(b) 0.0418\n",
      "(a) 0.04\n"
     ]
    }
   ],
   "source": [
    "chi2 = stats.chi2(2)\n",
    "print(f\"(a) {chi2.sf(5.991) :.3}, {chi2.sf(9.21) :.3}\")\n",
    "print(f\"(b) {chi2.sf(6.348) :.3}\")\n",
    "print(f\"(a) {chi2.cdf(9.21) - chi2.cdf(5.991) :.3}\")"
   ]
  },
  {
   "cell_type": "markdown",
   "id": "2f2a3a85-a601-4af6-973f-6a0fa06bff7f",
   "metadata": {
    "toc-hr-collapsed": true
   },
   "source": [
    "# Q3.23\n",
    "For an F distribution with 2 numerator dfs and 30 denominator dfs, find the\n",
    "areas:\n",
    "\n",
    "(a) To the right of 3.32 and of 5.39.  \n",
    "(b) To the right of 2.61.  \n",
    "(c) Between 3.32 and 5.39."
   ]
  },
  {
   "cell_type": "markdown",
   "id": "be429cb1-8efe-464d-9357-08fb56120fd1",
   "metadata": {},
   "source": [
    "## A3.23"
   ]
  },
  {
   "cell_type": "code",
   "execution_count": 23,
   "id": "2301749e-1dda-4c73-abfc-d18293e0157d",
   "metadata": {},
   "outputs": [
    {
     "name": "stdout",
     "output_type": "stream",
     "text": [
      "(a) 0.0498, 0.01\n",
      "(b) 0.0902\n",
      "(c) 0.0398\n"
     ]
    }
   ],
   "source": [
    "f = stats.f(2, 30)\n",
    "print(f\"(a) {f.sf(3.32) :.3}, {f.sf(5.39) :.3}\")\n",
    "print(f\"(b) {f.sf(2.61) :.3}\")\n",
    "print(f\"(c) {f.cdf(5.39) - f.cdf(3.32) :.3}\")"
   ]
  },
  {
   "cell_type": "markdown",
   "id": "ffa2a8d1-6990-4cf7-9173-618672f8f552",
   "metadata": {
    "toc-hr-collapsed": true
   },
   "source": [
    "# Q3.24\n",
    "In a study of intraobserver variability in assessing cervical smears, 3325\n",
    "slides were screened for the presence or absence of abnormal squamous\n",
    "cells. Each slide was screened by a particular observer and then rescreened\n",
    "six months later by the same observer. The results are shown in Table E3.2.\n",
    "Calculate the kappa statistic representing the agreement between the two\n",
    "screenings."
   ]
  },
  {
   "cell_type": "code",
   "execution_count": 24,
   "id": "aeb374cd-715c-4ffb-b605-d515eed7f640",
   "metadata": {},
   "outputs": [
    {
     "data": {
      "text/html": [
       "<div>\n",
       "<style scoped>\n",
       "    .dataframe tbody tr th:only-of-type {\n",
       "        vertical-align: middle;\n",
       "    }\n",
       "\n",
       "    .dataframe tbody tr th {\n",
       "        vertical-align: top;\n",
       "    }\n",
       "\n",
       "    .dataframe thead tr th {\n",
       "        text-align: left;\n",
       "    }\n",
       "\n",
       "    .dataframe thead tr:last-of-type th {\n",
       "        text-align: right;\n",
       "    }\n",
       "</style>\n",
       "<table border=\"1\" class=\"dataframe\">\n",
       "  <thead>\n",
       "    <tr>\n",
       "      <th></th>\n",
       "      <th colspan=\"2\" halign=\"left\">Second screening</th>\n",
       "      <th>Total</th>\n",
       "    </tr>\n",
       "    <tr>\n",
       "      <th></th>\n",
       "      <th>Present</th>\n",
       "      <th>Absent</th>\n",
       "      <th></th>\n",
       "    </tr>\n",
       "    <tr>\n",
       "      <th>First screening</th>\n",
       "      <th></th>\n",
       "      <th></th>\n",
       "      <th></th>\n",
       "    </tr>\n",
       "  </thead>\n",
       "  <tbody>\n",
       "    <tr>\n",
       "      <th>Present</th>\n",
       "      <td>1763</td>\n",
       "      <td>489</td>\n",
       "      <td>2252</td>\n",
       "    </tr>\n",
       "    <tr>\n",
       "      <th>Absent</th>\n",
       "      <td>403</td>\n",
       "      <td>670</td>\n",
       "      <td>1073</td>\n",
       "    </tr>\n",
       "    <tr>\n",
       "      <th>Total</th>\n",
       "      <td>2166</td>\n",
       "      <td>1159</td>\n",
       "      <td>3325</td>\n",
       "    </tr>\n",
       "  </tbody>\n",
       "</table>\n",
       "</div>"
      ],
      "text/plain": [
       "                Second screening        Total\n",
       "                         Present Absent      \n",
       "First screening                              \n",
       "Present                     1763    489  2252\n",
       "Absent                       403    670  1073\n",
       "Total                       2166   1159  3325"
      ]
     },
     "execution_count": 24,
     "metadata": {},
     "output_type": "execute_result"
    }
   ],
   "source": [
    "index = ['Present', 'Absent', 'Total']\n",
    "\n",
    "columns = [\n",
    "    ['Second screening', 'Second screening', 'Total'],\n",
    "    ['Present', 'Absent', '']\n",
    "]\n",
    "\n",
    "data = [\n",
    "    [1763, 489, 2252],\n",
    "    [403, 670, 1073],\n",
    "    [2166, 1159, 3325],\n",
    "]\n",
    "\n",
    "df = pd.DataFrame(data=data, index=index, columns=columns)\n",
    "df.index = df.index.rename('First screening')\n",
    "\n",
    "df"
   ]
  },
  {
   "cell_type": "markdown",
   "id": "af28b23d-8b90-4443-b031-084fd610e9a4",
   "metadata": {},
   "source": [
    "## A3.24"
   ]
  },
  {
   "cell_type": "code",
   "execution_count": 25,
   "id": "5c955c75-6eec-4f3a-ade9-26bca35e9e83",
   "metadata": {},
   "outputs": [
    {
     "name": "stdout",
     "output_type": "stream",
     "text": [
      "Kappa statistic = 0.3995 (somewhat decent agreement)\n"
     ]
    }
   ],
   "source": [
    "n11 = df.loc['Present', ('Second screening', 'Present')]\n",
    "n22 = df.loc['Absent', ('Second screening', 'Absent')]\n",
    "n12 = df.loc['Present', ('Second screening', 'Absent')]\n",
    "n21 = df.loc['Absent', ('Second screening', 'Present')]\n",
    "\n",
    "n1t = df.loc['Present', ('Total', '')]\n",
    "n2t = df.loc['Absent', ('Total', '')]\n",
    "nt1 = df.loc['Total', ('Second screening', 'Present')]\n",
    "nt2 = df.loc['Total', ('Second screening', 'Absent')]\n",
    "\n",
    "kappa = 2 * (n11 * n22 - n12 * n21) / (n1t * n2t + nt1 * nt2)\n",
    "print(f\"Kappa statistic = {kappa :.4} (somewhat decent agreement)\")"
   ]
  },
  {
   "cell_type": "markdown",
   "id": "f4dc0d0d-f448-40a8-8551-b4e16c700b0a",
   "metadata": {
    "toc-hr-collapsed": true
   },
   "source": [
    "# Q3.25\n",
    "Ninety‐eight heterosexual couples, at least one of whom was HIV‐infected,\n",
    "were enrolled in an HIV transmission study and interviewed about sexual\n",
    "behavior. Table E3.25 provides a summary of condom use reported by heterosexual\n",
    "partners. How strongly do the couples agree?"
   ]
  },
  {
   "cell_type": "code",
   "execution_count": 26,
   "id": "aa77d0ca-cc8e-48e4-9fc5-56e5223434b0",
   "metadata": {},
   "outputs": [
    {
     "data": {
      "text/html": [
       "<div>\n",
       "<style scoped>\n",
       "    .dataframe tbody tr th:only-of-type {\n",
       "        vertical-align: middle;\n",
       "    }\n",
       "\n",
       "    .dataframe tbody tr th {\n",
       "        vertical-align: top;\n",
       "    }\n",
       "\n",
       "    .dataframe thead tr th {\n",
       "        text-align: left;\n",
       "    }\n",
       "\n",
       "    .dataframe thead tr:last-of-type th {\n",
       "        text-align: right;\n",
       "    }\n",
       "</style>\n",
       "<table border=\"1\" class=\"dataframe\">\n",
       "  <thead>\n",
       "    <tr>\n",
       "      <th></th>\n",
       "      <th colspan=\"2\" halign=\"left\">Man</th>\n",
       "      <th>Total</th>\n",
       "    </tr>\n",
       "    <tr>\n",
       "      <th></th>\n",
       "      <th>Ever</th>\n",
       "      <th>Never</th>\n",
       "      <th></th>\n",
       "    </tr>\n",
       "    <tr>\n",
       "      <th>Woman</th>\n",
       "      <th></th>\n",
       "      <th></th>\n",
       "      <th></th>\n",
       "    </tr>\n",
       "  </thead>\n",
       "  <tbody>\n",
       "    <tr>\n",
       "      <th>Ever</th>\n",
       "      <td>45</td>\n",
       "      <td>6</td>\n",
       "      <td>51</td>\n",
       "    </tr>\n",
       "    <tr>\n",
       "      <th>Never</th>\n",
       "      <td>7</td>\n",
       "      <td>40</td>\n",
       "      <td>47</td>\n",
       "    </tr>\n",
       "    <tr>\n",
       "      <th>Total</th>\n",
       "      <td>52</td>\n",
       "      <td>46</td>\n",
       "      <td>98</td>\n",
       "    </tr>\n",
       "  </tbody>\n",
       "</table>\n",
       "</div>"
      ],
      "text/plain": [
       "       Man       Total\n",
       "      Ever Never      \n",
       "Woman                 \n",
       "Ever    45     6    51\n",
       "Never    7    40    47\n",
       "Total   52    46    98"
      ]
     },
     "execution_count": 26,
     "metadata": {},
     "output_type": "execute_result"
    }
   ],
   "source": [
    "index = ['Ever', 'Never', 'Total']\n",
    "\n",
    "columns = [\n",
    "    ['Man', 'Man', 'Total'],\n",
    "    ['Ever', 'Never', '']\n",
    "]\n",
    "\n",
    "data = [\n",
    "    [45, 6, 51],\n",
    "    [7, 40, 47],\n",
    "    [52, 46, 98],\n",
    "]\n",
    "\n",
    "df = pd.DataFrame(data=data, index=index, columns=columns)\n",
    "df.index = df.index.rename('Woman')\n",
    "\n",
    "df"
   ]
  },
  {
   "cell_type": "markdown",
   "id": "0d0fe7bb-e165-49ae-b89c-2e89277a9e43",
   "metadata": {},
   "source": [
    "## A3.25"
   ]
  },
  {
   "cell_type": "code",
   "execution_count": 27,
   "id": "63fd560a-473f-4ee1-952c-87c7bd25e6cc",
   "metadata": {},
   "outputs": [
    {
     "name": "stdout",
     "output_type": "stream",
     "text": [
      "Kappa statistic = 0.7342 (good agreement)\n"
     ]
    }
   ],
   "source": [
    "n11 = df.loc['Ever', ('Man', 'Ever')]\n",
    "n22 = df.loc['Never', ('Man', 'Never')]\n",
    "n12 = df.loc['Ever', ('Man', 'Never')]\n",
    "n21 = df.loc['Never', ('Man', 'Ever')]\n",
    "\n",
    "n1t = df.loc['Ever', ('Total', '')]\n",
    "n2t = df.loc['Never', ('Total', '')]\n",
    "nt1 = df.loc['Total', ('Man', 'Ever')]\n",
    "nt2 = df.loc['Total', ('Man', 'Never')]\n",
    "\n",
    "kappa = 2 * (n11 * n22 - n12 * n21) / (n1t * n2t + nt1 * nt2)\n",
    "print(f\"Kappa statistic = {kappa :.4} (good agreement)\")"
   ]
  }
 ],
 "metadata": {
  "kernelspec": {
   "display_name": "Python [conda env:ds] *",
   "language": "python",
   "name": "conda-env-ds-py"
  },
  "language_info": {
   "codemirror_mode": {
    "name": "ipython",
    "version": 3
   },
   "file_extension": ".py",
   "mimetype": "text/x-python",
   "name": "python",
   "nbconvert_exporter": "python",
   "pygments_lexer": "ipython3",
   "version": "3.9.7"
  }
 },
 "nbformat": 4,
 "nbformat_minor": 5
}
