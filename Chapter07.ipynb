{
 "cells": [
  {
   "cell_type": "code",
   "execution_count": 1,
   "id": "120b756d-fbcf-4b9d-978b-8384096a676a",
   "metadata": {},
   "outputs": [],
   "source": [
    "import numpy as np\n",
    "import pandas as pd\n",
    "from scipy import stats\n",
    "from IPython.display import Markdown"
   ]
  },
  {
   "cell_type": "markdown",
   "id": "ef92cace-92c8-4f2e-8cb8-67457cea76d7",
   "metadata": {},
   "source": [
    "# Q7.1\n",
    "The criterion for issuing a smog alert is established at greater than 7 ppm of a\n",
    "particular pollutant. Samples collected from 16 stations in a certain city give a\n",
    "x value of 7.84 ppm with a standard deviation of s = 2.01 ppm. Do these findings\n",
    "indicate that the smog alert criterion has been exceeded? State clearly your\n",
    "null and alternative hypotheses and choice of test size (alpha level)."
   ]
  },
  {
   "cell_type": "markdown",
   "id": "f2adfebf-7fd3-4738-b8b6-15789b8e7e4c",
   "metadata": {},
   "source": [
    "## A7.1"
   ]
  },
  {
   "cell_type": "markdown",
   "id": "2d49f0eb-92f8-4216-823f-a933c03a0729",
   "metadata": {},
   "source": [
    "# Q7.3\n",
    "In a study of saliva cotinine, seven subjects, all of whom had abstained from\n",
    "smoking for a week, were asked to smoke a single cigarette. The cotinine levels\n",
    "at 12 and 24 hours after smoking are given in Table E7.3. Test to compare the\n",
    "mean cotinine levels at 12 and 24 hours after smoking. State clearly your null\n",
    "and alternative hypotheses and choice of test size."
   ]
  },
  {
   "cell_type": "code",
   "execution_count": 4,
   "id": "7daf8233-e936-4ada-8b1f-466cdc5f1ee6",
   "metadata": {},
   "outputs": [
    {
     "data": {
      "text/html": [
       "<div>\n",
       "<style scoped>\n",
       "    .dataframe tbody tr th:only-of-type {\n",
       "        vertical-align: middle;\n",
       "    }\n",
       "\n",
       "    .dataframe tbody tr th {\n",
       "        vertical-align: top;\n",
       "    }\n",
       "\n",
       "    .dataframe thead tr th {\n",
       "        text-align: left;\n",
       "    }\n",
       "\n",
       "    .dataframe thead tr:last-of-type th {\n",
       "        text-align: right;\n",
       "    }\n",
       "</style>\n",
       "<table border=\"1\" class=\"dataframe\">\n",
       "  <thead>\n",
       "    <tr>\n",
       "      <th></th>\n",
       "      <th colspan=\"2\" halign=\"left\">Cotinine levels (mmol/L)</th>\n",
       "    </tr>\n",
       "    <tr>\n",
       "      <th></th>\n",
       "      <th>After 12 hours</th>\n",
       "      <th>After 24 hours</th>\n",
       "    </tr>\n",
       "    <tr>\n",
       "      <th>Subject</th>\n",
       "      <th></th>\n",
       "      <th></th>\n",
       "    </tr>\n",
       "  </thead>\n",
       "  <tbody>\n",
       "    <tr>\n",
       "      <th>0</th>\n",
       "      <td>73</td>\n",
       "      <td>24</td>\n",
       "    </tr>\n",
       "    <tr>\n",
       "      <th>1</th>\n",
       "      <td>58</td>\n",
       "      <td>27</td>\n",
       "    </tr>\n",
       "    <tr>\n",
       "      <th>2</th>\n",
       "      <td>67</td>\n",
       "      <td>49</td>\n",
       "    </tr>\n",
       "    <tr>\n",
       "      <th>3</th>\n",
       "      <td>93</td>\n",
       "      <td>59</td>\n",
       "    </tr>\n",
       "    <tr>\n",
       "      <th>4</th>\n",
       "      <td>33</td>\n",
       "      <td>0</td>\n",
       "    </tr>\n",
       "    <tr>\n",
       "      <th>5</th>\n",
       "      <td>18</td>\n",
       "      <td>11</td>\n",
       "    </tr>\n",
       "    <tr>\n",
       "      <th>6</th>\n",
       "      <td>147</td>\n",
       "      <td>43</td>\n",
       "    </tr>\n",
       "  </tbody>\n",
       "</table>\n",
       "</div>"
      ],
      "text/plain": [
       "        Cotinine levels (mmol/L)               \n",
       "                  After 12 hours After 24 hours\n",
       "Subject                                        \n",
       "0                             73             24\n",
       "1                             58             27\n",
       "2                             67             49\n",
       "3                             93             59\n",
       "4                             33              0\n",
       "5                             18             11\n",
       "6                            147             43"
      ]
     },
     "execution_count": 4,
     "metadata": {},
     "output_type": "execute_result"
    }
   ],
   "source": [
    "columns = [\n",
    "    ['Cotinine levels (mmol/L)', 'Cotinine levels (mmol/L)'],\n",
    "    ['After 12 hours', 'After 24 hours'],\n",
    "]\n",
    "\n",
    "data = [\n",
    "    [73, 24],\n",
    "    [58, 27],\n",
    "    [67, 49],\n",
    "    [93, 59],\n",
    "    [33, 0],\n",
    "    [18, 11],\n",
    "    [147, 43],\n",
    "]\n",
    "\n",
    "df = pd.DataFrame(data=data, columns=columns)\n",
    "df.index = df.index.rename('Subject')\n",
    "\n",
    "df"
   ]
  },
  {
   "cell_type": "markdown",
   "id": "43bc6bd7-7a39-4c86-aa1d-7ff21c6ac3e4",
   "metadata": {},
   "source": [
    "## A7.3"
   ]
  },
  {
   "cell_type": "markdown",
   "id": "32163537-7f0e-4fb7-a871-809b74aba62a",
   "metadata": {},
   "source": [
    "# Q7.4\n",
    "Dentists often make many people nervous. To see if such nervousness elevates\n",
    "blood pressure, the systolic blood pressures of 60 subjects were measured in a\n",
    "dental setting, then again in a medical setting. Data for 60 matched pairs\n",
    "(dental–medical) are summarized as follows:\n",
    "- mean = 4.47\n",
    "- standard deviation = 8.77\n",
    "\n",
    "Test to compare the means blood pressure under two different settings. Name the\n",
    "test and state clearly your null and alternative hypotheses and choice of test size."
   ]
  },
  {
   "cell_type": "markdown",
   "id": "870ea8d0-6ce5-4823-ba53-0f39d535dda8",
   "metadata": {},
   "source": [
    "## A7.4"
   ]
  },
  {
   "cell_type": "markdown",
   "id": "533fc5b9-9542-4976-acef-cdd32caac176",
   "metadata": {},
   "source": [
    "# Q7.7\n",
    "Data in epidemiologic studies are sometimes self‐reported. Screening data\n",
    "from the hypertension detection and follow‐up program in Minneapolis,\n",
    "Minnesota (1973–1974) provided an opportunity to evaluate the accuracy of\n",
    "self‐reported height and weight (see Example 7.4). Table 7.3 gives the\n",
    "percentage discrepancy between self‐reported and measured height:\n",
    "\n",
    "$\\large{x = \\frac{self-reported\\hspace{1mm}height\\hspace{1mm}-\\hspace{1mm}measured\\hspace{1mm}height}{measured\\hspace{1mm}height} \\times 100\\%}$\n",
    "\n",
    "Example 7.4 was focused on the sample of men with a high school education.\n",
    "Using the same procedure, investigate the difference between self‐reported\n",
    "height and measured height among:  \n",
    "(a) Men with a college education.  \n",
    "(b) Women with a high school education.  \n",
    "(c) Women with a college education.\n",
    "\n",
    "In each case, name the test and state clearly your null and alternative hypotheses\n",
    "and choice of test size. Also, compare the mean difference in percent discrepancy\n",
    "between:  \n",
    "(d) Men with different education levels.  \n",
    "(e) Women with different education levels.  \n",
    "(f) Men versus women at each educational level.\n",
    "\n",
    "In each case, name the test and state clearly your null and alternative hypotheses\n",
    "and choice of test size."
   ]
  },
  {
   "cell_type": "markdown",
   "id": "51e6ccca-70ea-4cdf-966c-ecc1eae908f7",
   "metadata": {},
   "source": [
    "## A7.7"
   ]
  },
  {
   "cell_type": "markdown",
   "id": "fbbd9523-c656-41ce-b35d-9eed57fd09b1",
   "metadata": {
    "tags": []
   },
   "source": [
    "# Q7.9\n",
    "The Australian study of Example 7.6 also provided these data on monocular\n",
    "acuity (expressed in log scale) for two female groups of subjects:  \n",
    "(1) Australian females of European origin  \n",
    "\n",
    "$n_1 = 63$  \n",
    "$\\bar{x_1} = -0.13$  \n",
    "$s_1 = 0.17$\n",
    "\n",
    "(2) Australian females of Aboriginal origin\n",
    "\n",
    "$n_1 = 54$  \n",
    "$\\bar{x_1} = -0.24$  \n",
    "$s_1 = 0.18$\n",
    "\n",
    "Do these indicate a racial variation among women? Name your test and state\n",
    "clearly your null and alternative hypotheses and choice of test size."
   ]
  },
  {
   "cell_type": "markdown",
   "id": "7bdc9718-750a-48ff-9c52-ff02ee066eba",
   "metadata": {},
   "source": [
    "## A7.9"
   ]
  },
  {
   "cell_type": "markdown",
   "id": "26a09f2e-4004-475a-a745-092fe67db90b",
   "metadata": {},
   "source": [
    "# Q7.12\n",
    "In a trial to compare a stannous fluoride dentifrice (A) with a commercially\n",
    "available fluoride‐free dentifrice (D), 270 children received A and 250\n",
    "received D for a period of 3 years. The number x of DMFS increments (i.e.,\n",
    "the number of new decayed, missing, and filled tooth surfaces) was obtained\n",
    "for each child. Results were:\n",
    "\n",
    "Dentifrice A:  \n",
    "$\\bar{x_A} = 9.78$  \n",
    "$s_A = 7.51$\n",
    "\n",
    "Dentifrice D:  \n",
    "$\\bar{x_D} = 12.83$  \n",
    "$s_D = 8.31$\n",
    "\n",
    "Do the results provide strong enough evidence to suggest a real effect of\n",
    "fluoride in reducing the mean DMFS?"
   ]
  },
  {
   "cell_type": "markdown",
   "id": "3af41149-7e2f-47ff-9625-3f75622a6ace",
   "metadata": {},
   "source": [
    "## A7.12"
   ]
  },
  {
   "cell_type": "markdown",
   "id": "6f137b93-3321-422a-9e13-7aa8b3e0f67a",
   "metadata": {},
   "source": [
    "# Q7.13\n",
    "An experiment was conducted at the University of California–Berkeley to\n",
    "study the psychological environment’s effect on the anatomy of the brain. A\n",
    "group of 19 rats was randomly divided into two groups. Twelve animals in the\n",
    "treatment group lived together in a large cage, furnished with playthings that\n",
    "were changed daily, while animals in the control group lived in isolation with\n",
    "no toys. After a month the experimental animals were killed and dissected.\n",
    "Table E7.13 gives the cortex weights (the thinking part of the brain) in milligrams.\n",
    "Use the two‐sample t test to compare the means of the two groups and\n",
    "draw appropriate conclusions."
   ]
  },
  {
   "cell_type": "code",
   "execution_count": null,
   "id": "057a339c-470f-4b76-9c71-d7b3e1214c64",
   "metadata": {},
   "outputs": [],
   "source": [
    "treatment = np.array([707, 696, 740, 712, 745, 708, 652, 749, 649, 690, 676, 699])\n",
    "control = np.array([669, 650, 651, 627, 656, 642, 698])"
   ]
  },
  {
   "cell_type": "markdown",
   "id": "aa760699-f928-472e-9969-2a12cb5c5abc",
   "metadata": {},
   "source": [
    "## A7.13"
   ]
  },
  {
   "cell_type": "markdown",
   "id": "d8dfdd06-17e8-465a-8fc9-25e1da452c26",
   "metadata": {},
   "source": [
    "# Q7.14\n",
    "Depression is one of the most commonly diagnosed conditions among hospitalized\n",
    "patients in mental institutions. The occurrence of depression was determined\n",
    "during the summer of 1979 in a multiethnic probability sample of 1000 adults in\n",
    "Los Angeles County, as part of a community survey of the epidemiology of\n",
    "depression and help‐seeking behavior. The primary measure of depression was\n",
    "the CES‐D scale developed by the Center for Epidemiologic Studies. On a scale\n",
    "of 0–60, a score of 16 or higher was classified as depression. Table E7.14 gives\n",
    "the average CES‐D score for the two genders. Use a t test to compare the males\n",
    "versus the females and draw appropriate conclusions."
   ]
  },
  {
   "cell_type": "code",
   "execution_count": 5,
   "id": "4ce16151-88e3-4570-980b-17a7a050d930",
   "metadata": {},
   "outputs": [
    {
     "data": {
      "text/html": [
       "<div>\n",
       "<style scoped>\n",
       "    .dataframe tbody tr th:only-of-type {\n",
       "        vertical-align: middle;\n",
       "    }\n",
       "\n",
       "    .dataframe tbody tr th {\n",
       "        vertical-align: top;\n",
       "    }\n",
       "\n",
       "    .dataframe thead th {\n",
       "        text-align: right;\n",
       "    }\n",
       "</style>\n",
       "<table border=\"1\" class=\"dataframe\">\n",
       "  <thead>\n",
       "    <tr style=\"text-align: right;\">\n",
       "      <th></th>\n",
       "      <th>Cases</th>\n",
       "      <th>x̄</th>\n",
       "      <th>s</th>\n",
       "    </tr>\n",
       "  </thead>\n",
       "  <tbody>\n",
       "    <tr>\n",
       "      <th>Male</th>\n",
       "      <td>412</td>\n",
       "      <td>7.6</td>\n",
       "      <td>7.5</td>\n",
       "    </tr>\n",
       "    <tr>\n",
       "      <th>Female</th>\n",
       "      <td>588</td>\n",
       "      <td>10.4</td>\n",
       "      <td>10.3</td>\n",
       "    </tr>\n",
       "  </tbody>\n",
       "</table>\n",
       "</div>"
      ],
      "text/plain": [
       "        Cases    x̄     s\n",
       "Male      412   7.6   7.5\n",
       "Female    588  10.4  10.3"
      ]
     },
     "execution_count": 5,
     "metadata": {},
     "output_type": "execute_result"
    }
   ],
   "source": [
    "index = ['Male', 'Female']\n",
    "\n",
    "columns = ['Cases', 'x̄', 's']\n",
    "\n",
    "data = [\n",
    "    [412, 7.6, 7.5],\n",
    "    [588, 10.4, 10.3],\n",
    "]\n",
    "\n",
    "df = pd.DataFrame(data=data, index=index, columns=columns)\n",
    "\n",
    "df"
   ]
  },
  {
   "cell_type": "markdown",
   "id": "e591fb43-b901-4def-bae7-d1ce903d99d1",
   "metadata": {},
   "source": [
    "## A7.14"
   ]
  },
  {
   "cell_type": "markdown",
   "id": "282ed5e7-52ed-43b8-bbb3-761ec24a1fa9",
   "metadata": {},
   "source": [
    "# Q7.16\n",
    "The following data are taken from a study that compares adolescents who\n",
    "have bulimia to healthy adolescents with similar body compositions and levels\n",
    "of physical activity. Table E7.16 provides measures of daily caloric intake\n",
    "(kcal/kg) for random samples of 23 bulimic adolescents and 15 healthy ones.\n",
    "Use the Wilcoxon test to compare the two populations."
   ]
  },
  {
   "cell_type": "code",
   "execution_count": 6,
   "id": "ed575a1d-1bb5-4d31-b4a7-bee06c3fe42d",
   "metadata": {},
   "outputs": [],
   "source": [
    "bulimic = np.array([\n",
    "    15.9, 17.0, 18.9, 16.0, 17.6, 19.6, 16.5, 28.7, 21.5, 18.9, 28.0, 24.1,\n",
    "    18.4, 25.6, 23.6, 18.1, 25.2, 22.9, 30.9, 25.1, 21.6, 29.2, 24.5\n",
    "])\n",
    "\n",
    "healthy = np.array([\n",
    "    30.6, 40.8, 25.7, 37.4, 25.3, 37.1, 24.5, 30.6,\n",
    "    20.7, 33.2, 22.4, 33.7, 23.1, 36.6, 23.8\n",
    "])"
   ]
  },
  {
   "cell_type": "markdown",
   "id": "c8ec9bc9-1a34-4bc7-9dfe-69c299cb51ee",
   "metadata": {},
   "source": [
    "## A7.16"
   ]
  },
  {
   "cell_type": "markdown",
   "id": "6a9c9026-57d2-42b2-be4b-9ecd222dae3b",
   "metadata": {},
   "source": [
    "# Q7.19\n",
    "Four different brands of margarine were analyzed to determine the level of\n",
    "some unsaturated fatty acids (as a percentage of fats; Table E7.19). Test to\n",
    "compare the four groups simultaneously. Name your test and state clearly\n",
    "your null and alternative hypotheses and choice of test size."
   ]
  },
  {
   "cell_type": "code",
   "execution_count": null,
   "id": "b7d71b6f-4a37-460b-afda-2fcbc636ddc1",
   "metadata": {},
   "outputs": [],
   "source": [
    "A = np.array([13.5, 13.4, 14.1, 14.2])\n",
    "B = np.array([13.2, 12.7, 12.6, 13.9])\n",
    "C = np.array([16.8, 17.2, 16.4, 17.3, 18.0])\n",
    "D = np.array([18.1, 17.2, 18.7, 18.4])"
   ]
  },
  {
   "cell_type": "markdown",
   "id": "d6630d76-d1b7-453f-8898-e4948d6e54a6",
   "metadata": {},
   "source": [
    "## A7.19"
   ]
  },
  {
   "cell_type": "markdown",
   "id": "96db52a5-b145-4c47-b547-0e6411fd82df",
   "metadata": {},
   "source": [
    "# Q7.21\n",
    "A study was conducted to investigate the risk factors for peripheral arterial\n",
    "disease among persons 55–74 years of age. Table E7.21 provides data on LDL\n",
    "cholesterol levels (mmol/L) from four different subgroups of subjects. Test to\n",
    "compare the four groups simultaneously. Name your test and state clearly\n",
    "your null and alternative hypotheses and choice of test size."
   ]
  },
  {
   "cell_type": "code",
   "execution_count": 8,
   "id": "2fbff90c-6b5d-452a-8dfb-2e48388ab379",
   "metadata": {},
   "outputs": [
    {
     "data": {
      "text/html": [
       "<div>\n",
       "<style scoped>\n",
       "    .dataframe tbody tr th:only-of-type {\n",
       "        vertical-align: middle;\n",
       "    }\n",
       "\n",
       "    .dataframe tbody tr th {\n",
       "        vertical-align: top;\n",
       "    }\n",
       "\n",
       "    .dataframe thead th {\n",
       "        text-align: right;\n",
       "    }\n",
       "</style>\n",
       "<table border=\"1\" class=\"dataframe\">\n",
       "  <thead>\n",
       "    <tr style=\"text-align: right;\">\n",
       "      <th></th>\n",
       "      <th>n</th>\n",
       "      <th>x̄</th>\n",
       "      <th>s</th>\n",
       "    </tr>\n",
       "    <tr>\n",
       "      <th>Group</th>\n",
       "      <th></th>\n",
       "      <th></th>\n",
       "      <th></th>\n",
       "    </tr>\n",
       "  </thead>\n",
       "  <tbody>\n",
       "    <tr>\n",
       "      <th>1. Patients with intermittent claudication</th>\n",
       "      <td>73</td>\n",
       "      <td>6.22</td>\n",
       "      <td>1.62</td>\n",
       "    </tr>\n",
       "    <tr>\n",
       "      <th>2. Major asymptotic disease cases</th>\n",
       "      <td>105</td>\n",
       "      <td>5.81</td>\n",
       "      <td>1.43</td>\n",
       "    </tr>\n",
       "    <tr>\n",
       "      <th>3. Minor asymptotic disease cases</th>\n",
       "      <td>240</td>\n",
       "      <td>5.77</td>\n",
       "      <td>1.24</td>\n",
       "    </tr>\n",
       "    <tr>\n",
       "      <th>4. Those with no disease</th>\n",
       "      <td>1080</td>\n",
       "      <td>5.47</td>\n",
       "      <td>1.31</td>\n",
       "    </tr>\n",
       "  </tbody>\n",
       "</table>\n",
       "</div>"
      ],
      "text/plain": [
       "                                               n    x̄     s\n",
       "Group                                                       \n",
       "1. Patients with intermittent claudication    73  6.22  1.62\n",
       "2. Major asymptotic disease cases            105  5.81  1.43\n",
       "3. Minor asymptotic disease cases            240  5.77  1.24\n",
       "4. Those with no disease                    1080  5.47  1.31"
      ]
     },
     "execution_count": 8,
     "metadata": {},
     "output_type": "execute_result"
    }
   ],
   "source": [
    "index = [\n",
    "    '1. Patients with intermittent claudication',\n",
    "    '2. Major asymptotic disease cases',\n",
    "    '3. Minor asymptotic disease cases',\n",
    "    '4. Those with no disease',\n",
    "]\n",
    "\n",
    "columns = ['n', 'x̄', 's']\n",
    "\n",
    "data = [\n",
    "    [73, 6.22, 1.62],\n",
    "    [105, 5.81, 1.43],\n",
    "    [240, 5.77, 1.24],\n",
    "    [1080, 5.47, 1.31],\n",
    "]\n",
    "\n",
    "df = pd.DataFrame(data=data, index=index, columns=columns)\n",
    "df.index = df.index.rename('Group')\n",
    "\n",
    "df"
   ]
  },
  {
   "cell_type": "markdown",
   "id": "f8755fa4-608f-4ebf-82ae-b79d528f0e71",
   "metadata": {},
   "source": [
    "## A7.21"
   ]
  },
  {
   "cell_type": "markdown",
   "id": "1f68e63d-af15-409c-9f10-d813bc916937",
   "metadata": {},
   "source": [
    "# Q7.22\n",
    "A study was undertaken to clarify the relationship between heart disease and\n",
    "occupational carbon disulfide exposure along with another important factor,\n",
    "elevated diastolic blood pressure (DBP), in a data set obtained from a 10‐year\n",
    "prospective follow‐up of two cohorts of over 340 male industrial workers in\n",
    "Finland. Carbon disulfide is an industrial solvent that is used all over the\n",
    "world in the production of viscose rayon fibers. Table E7.22 gives the mean\n",
    "and standard deviation (SD) of serum cholesterol (mg/100 mL) among\n",
    "exposed and nonexposed cohorts, by diastolic blood pressure (DBP). Test to\n",
    "compare simultaneously, separately for the exposed and nonexposed groups,\n",
    "the mean serum cholesterol levels at the three DBP levels using one‐way\n",
    "ANOVA. Also, compare serum cholesterol levels between exposed and\n",
    "nonexposed\n",
    "cohorts at each level of DBP by using two‐sample t tests. Draw\n",
    "your conclusions."
   ]
  },
  {
   "cell_type": "code",
   "execution_count": 10,
   "id": "10486aba-c81e-436f-9466-8b2a41e51f51",
   "metadata": {},
   "outputs": [
    {
     "data": {
      "text/html": [
       "<div>\n",
       "<style scoped>\n",
       "    .dataframe tbody tr th:only-of-type {\n",
       "        vertical-align: middle;\n",
       "    }\n",
       "\n",
       "    .dataframe tbody tr th {\n",
       "        vertical-align: top;\n",
       "    }\n",
       "\n",
       "    .dataframe thead tr th {\n",
       "        text-align: left;\n",
       "    }\n",
       "\n",
       "    .dataframe thead tr:last-of-type th {\n",
       "        text-align: right;\n",
       "    }\n",
       "</style>\n",
       "<table border=\"1\" class=\"dataframe\">\n",
       "  <thead>\n",
       "    <tr>\n",
       "      <th></th>\n",
       "      <th colspan=\"3\" halign=\"left\">Exposed</th>\n",
       "      <th colspan=\"3\" halign=\"left\">Nonexposed</th>\n",
       "    </tr>\n",
       "    <tr>\n",
       "      <th></th>\n",
       "      <th>n</th>\n",
       "      <th>Mean</th>\n",
       "      <th>SD</th>\n",
       "      <th>n</th>\n",
       "      <th>Mean</th>\n",
       "      <th>SD</th>\n",
       "    </tr>\n",
       "    <tr>\n",
       "      <th>DBP (mmHg)</th>\n",
       "      <th></th>\n",
       "      <th></th>\n",
       "      <th></th>\n",
       "      <th></th>\n",
       "      <th></th>\n",
       "      <th></th>\n",
       "    </tr>\n",
       "  </thead>\n",
       "  <tbody>\n",
       "    <tr>\n",
       "      <th>&lt;95</th>\n",
       "      <td>205</td>\n",
       "      <td>220</td>\n",
       "      <td>50</td>\n",
       "      <td>271</td>\n",
       "      <td>221</td>\n",
       "      <td>42</td>\n",
       "    </tr>\n",
       "    <tr>\n",
       "      <th>95–100</th>\n",
       "      <td>92</td>\n",
       "      <td>227</td>\n",
       "      <td>57</td>\n",
       "      <td>53</td>\n",
       "      <td>236</td>\n",
       "      <td>46</td>\n",
       "    </tr>\n",
       "    <tr>\n",
       "      <th>≥100</th>\n",
       "      <td>20</td>\n",
       "      <td>233</td>\n",
       "      <td>41</td>\n",
       "      <td>10</td>\n",
       "      <td>216</td>\n",
       "      <td>48</td>\n",
       "    </tr>\n",
       "  </tbody>\n",
       "</table>\n",
       "</div>"
      ],
      "text/plain": [
       "           Exposed          Nonexposed         \n",
       "                 n Mean  SD          n Mean  SD\n",
       "DBP (mmHg)                                     \n",
       "<95            205  220  50        271  221  42\n",
       "95–100          92  227  57         53  236  46\n",
       "≥100            20  233  41         10  216  48"
      ]
     },
     "execution_count": 10,
     "metadata": {},
     "output_type": "execute_result"
    }
   ],
   "source": [
    "index = ['<95', '95–100', '≥100']\n",
    "\n",
    "columns = [\n",
    "    ['Exposed'] * 3 + ['Nonexposed'] * 3,\n",
    "    ['n', 'Mean', 'SD'] * 2,\n",
    "]\n",
    "\n",
    "data = [\n",
    "    [205, 220, 50, 271, 221, 42],\n",
    "    [92, 227, 57, 53, 236, 46],\n",
    "    [20, 233, 41, 10, 216, 48],\n",
    "]\n",
    "\n",
    "df = pd.DataFrame(data=data, index=index, columns=columns)\n",
    "df.index = df.index.rename('DBP (mmHg)')\n",
    "\n",
    "df"
   ]
  },
  {
   "cell_type": "markdown",
   "id": "3a26ebd5-e8a9-4adf-9c7e-6a6714221fd5",
   "metadata": {},
   "source": [
    "## A7.22"
   ]
  },
  {
   "cell_type": "markdown",
   "id": "5620fa49-dba0-4c11-a7d1-37262dc7520c",
   "metadata": {},
   "source": [
    "# Q7.23\n",
    "When a patient is diagnosed as having cancer of the prostate, an important\n",
    "question in deciding on treatment strategy is whether or not the cancer has\n",
    "spread to the neighboring lymph nodes. The question is so critical in prognosis\n",
    "and treatment that it is customary to operate on the patient (i.e., perform\n",
    "a laparotomy) for the sole purpose of examining the nodes and removing\n",
    "tissue samples to examine under the microscope for evidence of cancer.\n",
    "However, certain variables that can be measured without surgery are predictive\n",
    "of the nodal involvement. The purpose of the study presented here was to examine the data for 53 prostate cancer patients receiving surgery, to determine\n",
    "which of five preoperative variables are predictive of nodal involvement\n",
    "(see Table E2.32). For each of the 53 patients, there are two continuous\n",
    "independent variables: age at diagnosis and level of serum acid phosphatase\n",
    "(×100; called “acid”); and three binary variables: x‐ray reading, pathology\n",
    "reading (grade) of a biopsy of the tumor obtained by needle before surgery,\n",
    "and a rough measure of the size and location of the tumor (stage) obtained by\n",
    "palpation with the fingers via the rectum. In addition, the sixth column presents\n",
    "the findings at surgery– the primary outcome of interest, which is binary,\n",
    "a value of 1 denoting nodal involvement, and a value of 0 denoting no nodal\n",
    "involvement found at surgery. The three binary factors have been investigated\n",
    "previously; this exercise is focused on the effects of the two continuous factors\n",
    "(age and acid phosphatase). Test to compare the group with nodal involvement\n",
    "and the group without, using:\n",
    "\n",
    "(a) The two‐sample t test.  \n",
    "(b) Wilcoxon’s rank‐sum test."
   ]
  },
  {
   "cell_type": "markdown",
   "id": "b45c6651-e83a-4744-ba00-f25205aff168",
   "metadata": {},
   "source": [
    "## A7.23"
   ]
  },
  {
   "cell_type": "markdown",
   "id": "efa9824e-03a3-4e44-bd60-4f8b68de5316",
   "metadata": {},
   "source": [
    "# Q7.24\n",
    "The kitchen facilities manager for a college campus is considering switching\n",
    "brand of disinfectant used in the 10 campus cafeteria kitchens. Ten surfaces were\n",
    "identified in one of the kitchens. Each surface was randomly assigned a brand of\n",
    "disinfectant (brand A, B, C, D, or E), so that each brand was used on two surfaces.\n",
    "Each surface was cleaned, by the same worker using a standardized protocol,\n",
    "using the assigned brand. A swab of each surface was taken immediately after\n",
    "cleaning and the swabs were cultured and allowed to grow for 7 days. Bacterial\n",
    "content counts were measured, then divided by 10^2 and log transformed before\n",
    "analysis.\n",
    "\n",
    "(a) Do the brands result in significantly different levels of bacterial growth?\n",
    "Choose a multiple comparisons adjustment approach, and test all pairwise\n",
    "comparisons of brands.\n",
    "\n",
    "(b) Now consider the design of the study, specifically related to the types of\n",
    "surfaces to which the disinfectants were applied. Suppose the ten selected\n",
    "surfaces were 5 countertops (food cleaning, chopping, mixing, cooking,\n",
    "and serving areas) and 5 handles (refrigerator, sink, cupboard, drawer,\n",
    "oven). How could this study have been designed differently to take\n",
    "advantage of the different surface types?"
   ]
  },
  {
   "cell_type": "markdown",
   "id": "a195c183-d156-499d-aab7-aa38f3de304f",
   "metadata": {},
   "source": [
    "## A7.24"
   ]
  },
  {
   "cell_type": "markdown",
   "id": "269c0caa-2b6e-459a-9a39-d09ab9457e18",
   "metadata": {},
   "source": [
    "# Q7.25\n",
    "A mold was grown in each of 12 culture dishes under three moisture levels for\n",
    "the environment in which they were grown (4 plates at each moisture level);\n",
    "other environmental conditions, specifically temperature, light, and nutrients,\n",
    "were held constant across all dishes. Growth (measured as the diameter from\n",
    "starting edge to farthest edge of the mold within the dish) was measured every\n",
    "24 hours for 9 days. The diameter was measured twice each time, across the\n",
    "dish at each of two reference marks on the rim of the dish, 90 degrees apart (so\n",
    "the two measurements were taken at right angles to each other). We will refer\n",
    "to these two measurements as ‘replicate’ measurements.\n",
    "\n",
    "For this exercise, use the last observation only (week=9).\n",
    "\n",
    "(a) Calculate summary statistics of the first diameter measurement by moisture\n",
    "group (e.g., sample size, mean, standard deviation, minimum, first\n",
    "and third quartiles, maximum). Just from visual inspection, do there\n",
    "appear to be any differences between groups?\n",
    "\n",
    "(b) Carry out a one‐way ANOVA to examine moisture group differences in\n",
    "the first diameter measurement. Choose a multiple comparisons adjustment\n",
    "approach, and test all pairwise comparisons.\n",
    "\n",
    "(c) Calculate summary statistics of the second diameter measurement by\n",
    "moisture group (e.g., sample size, mean, standard deviation, minimum,\n",
    "first and third quartiles, maximum). Just from visual inspection, do there\n",
    "appear to be any differences between groups?\n",
    "\n",
    "(d) Carry out a one‐way ANOVA to examine moisture group differences in\n",
    "the second diameter measurement. Choose a multiple comparisons adjustment\n",
    "approach, and test all pairwise comparisons.\n",
    "\n",
    "(e) Do your conclusions in (b) differ from those in (d)? If so, how do they\n",
    "differ and why do you think they might differ?"
   ]
  },
  {
   "cell_type": "markdown",
   "id": "3040923b-2a99-427f-afff-8eff2143a97a",
   "metadata": {},
   "source": [
    "## A7.25"
   ]
  },
  {
   "cell_type": "markdown",
   "id": "06cad47a-c15c-436b-a8f0-b408075bc1b8",
   "metadata": {},
   "source": [
    "# Q7.26\n",
    "The mutans streptococci (MS) are bacteria (all related to Streptococcus mutans)\n",
    "that can cause tooth decay. 167 persons with gum disease (elevated oral MS\n",
    "levels) were recruited into a study with three treatment arms: chewing gum with\n",
    "an active drug, chewing gum with no active drug, and no gum. Randomization\n",
    "to the three groups was 1:1:1 (equal allocation) within blocks defined by current\n",
    "smoker status. Participants in the gum groups were asked to chew the gum three\n",
    "times daily for a minimum of 5 minutes each time and to carry out their usual\n",
    "oral hygiene (tooth brushing, mouthwash, etc.). Participants in the group without\n",
    "gum were asked to carry out their usual oral hygiene. During the 14 days prior\n",
    "to randomization, subjects rinsed their mouths twice daily with a 0.12 %\n",
    "chlorhexidine gluconate mouthrinse. They were asked to follow their assigned\n",
    "treatment for three weeks. The outcome (“colony forming units” per ml, a count\n",
    "of blotches on a standard sized petri dish after standard preparation) was\n",
    "recorded at randomization and after 1, 2, and 3 weeks. The primary outcome\n",
    "was the CFU ratio, week 3 divided by week 0. The question of interest is whether\n",
    "the active gum treatment caused a decline in the level of oral mutans streptococci.\n",
    "There are some missing CFU data, corresponding to participants who\n",
    "missed visits.\n",
    "\n",
    "(a) Examine the distribution of the primary outcome, CFU at week 3 divided\n",
    "by CFU at week 0. In your judgement, is it sufficiently close to normally\n",
    "distributed to consider using an ANOVA model? (We will revisit these\n",
    "data in Chapter 11, where we consider models for count data.)\n",
    "\n",
    "(b) Calculate summary statistics of the primary outcome by treatment group\n",
    "(e.g., sample size, mean, standard deviation, minimum, first and third\n",
    "quartiles, maximum). Just from visual inspection, do there appear to be\n",
    "any differences between treatment groups?\n",
    "\n",
    "(c) Fit a one‐way ANOVA for treatment group. Report the result and interpretation\n",
    "of the F test in the ANOVA table.\n",
    "\n",
    "(d) Compute the least squares means for the three treatment groups. Which\n",
    "groups are significantly different from which other groups? Choose a multiple\n",
    "comparisons adjustment approach, and test all pairwise comparisons.\n",
    "\n",
    "(e) Write a brief summary of the study’s conclusions."
   ]
  },
  {
   "cell_type": "markdown",
   "id": "02271ee2-c652-4c2c-8d35-073faa378457",
   "metadata": {},
   "source": [
    "## A7.26"
   ]
  }
 ],
 "metadata": {
  "kernelspec": {
   "display_name": "Python [conda env:ds] *",
   "language": "python",
   "name": "conda-env-ds-py"
  },
  "language_info": {
   "codemirror_mode": {
    "name": "ipython",
    "version": 3
   },
   "file_extension": ".py",
   "mimetype": "text/x-python",
   "name": "python",
   "nbconvert_exporter": "python",
   "pygments_lexer": "ipython3",
   "version": "3.9.7"
  }
 },
 "nbformat": 4,
 "nbformat_minor": 5
}
