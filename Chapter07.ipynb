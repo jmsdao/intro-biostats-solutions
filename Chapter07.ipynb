{
 "cells": [
  {
   "cell_type": "code",
   "execution_count": 1,
   "id": "120b756d-fbcf-4b9d-978b-8384096a676a",
   "metadata": {},
   "outputs": [],
   "source": [
    "import numpy as np\n",
    "import pandas as pd\n",
    "from scipy import stats\n",
    "#from IPython.display import Markdown"
   ]
  },
  {
   "cell_type": "markdown",
   "id": "ef92cace-92c8-4f2e-8cb8-67457cea76d7",
   "metadata": {},
   "source": [
    "# Q7.1\n",
    "The criterion for issuing a smog alert is established at greater than 7 ppm of a\n",
    "particular pollutant. Samples collected from 16 stations in a certain city give a\n",
    "x value of 7.84 ppm with a standard deviation of s = 2.01 ppm. Do these findings\n",
    "indicate that the smog alert criterion has been exceeded? State clearly your\n",
    "null and alternative hypotheses and choice of test size (alpha level)."
   ]
  },
  {
   "cell_type": "markdown",
   "id": "f2adfebf-7fd3-4738-b8b6-15789b8e7e4c",
   "metadata": {},
   "source": [
    "## A7.1"
   ]
  },
  {
   "cell_type": "markdown",
   "id": "9a624817-69cc-4861-bd4a-e2a5d9bdbc83",
   "metadata": {},
   "source": [
    "$H_0: \\mu = 7$  \n",
    "$H_A: \\mu \\ne 7$  \n",
    "$\\alpha = 0.05$"
   ]
  },
  {
   "cell_type": "code",
   "execution_count": 5,
   "id": "88533f22-f1f1-4987-85a9-7bea67be85e5",
   "metadata": {},
   "outputs": [
    {
     "name": "stdout",
     "output_type": "stream",
     "text": [
      "Fail to reject null (p-value = 0.1153)\n"
     ]
    }
   ],
   "source": [
    "alpha = 0.05\n",
    "n = 16\n",
    "mean = 7.84\n",
    "s = 2.01\n",
    "\n",
    "se = s / np.sqrt(n)\n",
    "z = (mean - 7) / se\n",
    "\n",
    "t = stats.t(n-1)\n",
    "pval = t.cdf(-z) + t.sf(z)\n",
    "result = \"Reject null\" if pval < alpha else \"Fail to reject null\"\n",
    "\n",
    "print(f\"{result} (p-value = {pval :.4})\")"
   ]
  },
  {
   "cell_type": "markdown",
   "id": "2d49f0eb-92f8-4216-823f-a933c03a0729",
   "metadata": {},
   "source": [
    "# Q7.3\n",
    "In a study of saliva cotinine, seven subjects, all of whom had abstained from\n",
    "smoking for a week, were asked to smoke a single cigarette. The cotinine levels\n",
    "at 12 and 24 hours after smoking are given in Table E7.3. Test to compare the\n",
    "mean cotinine levels at 12 and 24 hours after smoking. State clearly your null\n",
    "and alternative hypotheses and choice of test size."
   ]
  },
  {
   "cell_type": "code",
   "execution_count": 6,
   "id": "7daf8233-e936-4ada-8b1f-466cdc5f1ee6",
   "metadata": {},
   "outputs": [
    {
     "data": {
      "text/html": [
       "<div>\n",
       "<style scoped>\n",
       "    .dataframe tbody tr th:only-of-type {\n",
       "        vertical-align: middle;\n",
       "    }\n",
       "\n",
       "    .dataframe tbody tr th {\n",
       "        vertical-align: top;\n",
       "    }\n",
       "\n",
       "    .dataframe thead tr th {\n",
       "        text-align: left;\n",
       "    }\n",
       "\n",
       "    .dataframe thead tr:last-of-type th {\n",
       "        text-align: right;\n",
       "    }\n",
       "</style>\n",
       "<table border=\"1\" class=\"dataframe\">\n",
       "  <thead>\n",
       "    <tr>\n",
       "      <th></th>\n",
       "      <th colspan=\"2\" halign=\"left\">Cotinine levels (mmol/L)</th>\n",
       "    </tr>\n",
       "    <tr>\n",
       "      <th></th>\n",
       "      <th>After 12 hours</th>\n",
       "      <th>After 24 hours</th>\n",
       "    </tr>\n",
       "    <tr>\n",
       "      <th>Subject</th>\n",
       "      <th></th>\n",
       "      <th></th>\n",
       "    </tr>\n",
       "  </thead>\n",
       "  <tbody>\n",
       "    <tr>\n",
       "      <th>0</th>\n",
       "      <td>73</td>\n",
       "      <td>24</td>\n",
       "    </tr>\n",
       "    <tr>\n",
       "      <th>1</th>\n",
       "      <td>58</td>\n",
       "      <td>27</td>\n",
       "    </tr>\n",
       "    <tr>\n",
       "      <th>2</th>\n",
       "      <td>67</td>\n",
       "      <td>49</td>\n",
       "    </tr>\n",
       "    <tr>\n",
       "      <th>3</th>\n",
       "      <td>93</td>\n",
       "      <td>59</td>\n",
       "    </tr>\n",
       "    <tr>\n",
       "      <th>4</th>\n",
       "      <td>33</td>\n",
       "      <td>0</td>\n",
       "    </tr>\n",
       "    <tr>\n",
       "      <th>5</th>\n",
       "      <td>18</td>\n",
       "      <td>11</td>\n",
       "    </tr>\n",
       "    <tr>\n",
       "      <th>6</th>\n",
       "      <td>147</td>\n",
       "      <td>43</td>\n",
       "    </tr>\n",
       "  </tbody>\n",
       "</table>\n",
       "</div>"
      ],
      "text/plain": [
       "        Cotinine levels (mmol/L)               \n",
       "                  After 12 hours After 24 hours\n",
       "Subject                                        \n",
       "0                             73             24\n",
       "1                             58             27\n",
       "2                             67             49\n",
       "3                             93             59\n",
       "4                             33              0\n",
       "5                             18             11\n",
       "6                            147             43"
      ]
     },
     "execution_count": 6,
     "metadata": {},
     "output_type": "execute_result"
    }
   ],
   "source": [
    "columns = [\n",
    "    ['Cotinine levels (mmol/L)', 'Cotinine levels (mmol/L)'],\n",
    "    ['After 12 hours', 'After 24 hours'],\n",
    "]\n",
    "\n",
    "data = [\n",
    "    [73, 24],\n",
    "    [58, 27],\n",
    "    [67, 49],\n",
    "    [93, 59],\n",
    "    [33, 0],\n",
    "    [18, 11],\n",
    "    [147, 43],\n",
    "]\n",
    "\n",
    "df = pd.DataFrame(data=data, columns=columns)\n",
    "df.index = df.index.rename('Subject')\n",
    "\n",
    "df"
   ]
  },
  {
   "cell_type": "markdown",
   "id": "43bc6bd7-7a39-4c86-aa1d-7ff21c6ac3e4",
   "metadata": {},
   "source": [
    "## A7.3"
   ]
  },
  {
   "cell_type": "markdown",
   "id": "156991e9-eb25-4479-8335-7e70e2ee07f4",
   "metadata": {},
   "source": [
    "$H_0: \\mu_{12} - \\mu_{24} = 0$  \n",
    "$H_A: \\mu_{12} - \\mu_{24} \\ne 0$  \n",
    "$\\alpha = 0.05$"
   ]
  },
  {
   "cell_type": "code",
   "execution_count": 29,
   "id": "e1886d91-cd85-456d-9378-7d3e9f092ba2",
   "metadata": {},
   "outputs": [
    {
     "name": "stdout",
     "output_type": "stream",
     "text": [
      "Reject null (p-value = 0.01595)\n"
     ]
    }
   ],
   "source": [
    "diff = df.iloc[:, 0] - df.iloc[:, 1]\n",
    "n = len(diff)\n",
    "mean = diff.mean()\n",
    "s = diff.std()\n",
    "\n",
    "se = s / np.sqrt(n)\n",
    "z = mean / se\n",
    "\n",
    "t = stats.t(n-1)\n",
    "pval = t.cdf(-z) + t.sf(z)\n",
    "result = \"Reject null\" if pval < alpha else \"Fail to reject null\"\n",
    "\n",
    "print(f\"{result} (p-value = {pval :.4})\")"
   ]
  },
  {
   "cell_type": "markdown",
   "id": "32163537-7f0e-4fb7-a871-809b74aba62a",
   "metadata": {},
   "source": [
    "# Q7.4\n",
    "Dentists often make many people nervous. To see if such nervousness elevates\n",
    "blood pressure, the systolic blood pressures of 60 subjects were measured in a\n",
    "dental setting, then again in a medical setting. Data for 60 matched pairs\n",
    "(dental–medical) are summarized as follows:\n",
    "- mean = 4.47\n",
    "- standard deviation = 8.77\n",
    "\n",
    "Test to compare the means blood pressure under two different settings. Name the\n",
    "test and state clearly your null and alternative hypotheses and choice of test size."
   ]
  },
  {
   "cell_type": "markdown",
   "id": "870ea8d0-6ce5-4823-ba53-0f39d535dda8",
   "metadata": {},
   "source": [
    "## A7.4"
   ]
  },
  {
   "cell_type": "code",
   "execution_count": 34,
   "id": "79528cb1-4971-4561-9b89-d6b440ceae09",
   "metadata": {},
   "outputs": [
    {
     "name": "stdout",
     "output_type": "stream",
     "text": [
      "Reject null (p-value = 0.0002125)\n"
     ]
    }
   ],
   "source": [
    "n = 60\n",
    "mean = 4.47\n",
    "s = 8.77\n",
    "\n",
    "se = s / np.sqrt(n)\n",
    "z = mean / se\n",
    "\n",
    "t = stats.t(n-1)\n",
    "pval = t.cdf(-z) + t.sf(z)\n",
    "result = \"Reject null\" if pval < alpha else \"Fail to reject null\"\n",
    "\n",
    "print(f\"{result} (p-value = {pval :.4})\")"
   ]
  },
  {
   "cell_type": "markdown",
   "id": "533fc5b9-9542-4976-acef-cdd32caac176",
   "metadata": {},
   "source": [
    "# Q7.7\n",
    "Data in epidemiologic studies are sometimes self‐reported. Screening data\n",
    "from the hypertension detection and follow‐up program in Minneapolis,\n",
    "Minnesota (1973–1974) provided an opportunity to evaluate the accuracy of\n",
    "self‐reported height and weight (see Example 7.4). Table 7.3 gives the\n",
    "percentage discrepancy between self‐reported and measured height:\n",
    "\n",
    "$\\large{x = \\frac{self-reported\\hspace{1mm}height\\hspace{1mm}-\\hspace{1mm}measured\\hspace{1mm}height}{measured\\hspace{1mm}height} \\times 100\\%}$\n",
    "\n",
    "Example 7.4 was focused on the sample of men with a high school education.\n",
    "Using the same procedure, investigate the difference between self‐reported\n",
    "height and measured height among:  \n",
    "(a) Men with a college education.  \n",
    "(b) Women with a high school education.  \n",
    "(c) Women with a college education.\n",
    "\n",
    "In each case, name the test and state clearly your null and alternative hypotheses\n",
    "and choice of test size. Also, compare the mean difference in percent discrepancy\n",
    "between:  \n",
    "(d) Men with different education levels.  \n",
    "(e) Women with different education levels.  \n",
    "(f) Men versus women at each educational level.\n",
    "\n",
    "In each case, name the test and state clearly your null and alternative hypotheses\n",
    "and choice of test size."
   ]
  },
  {
   "cell_type": "code",
   "execution_count": 35,
   "id": "54c992ce-1532-42a7-aeb5-5993eeda0f41",
   "metadata": {},
   "outputs": [
    {
     "data": {
      "text/html": [
       "<div>\n",
       "<style scoped>\n",
       "    .dataframe tbody tr th:only-of-type {\n",
       "        vertical-align: middle;\n",
       "    }\n",
       "\n",
       "    .dataframe tbody tr th {\n",
       "        vertical-align: top;\n",
       "    }\n",
       "\n",
       "    .dataframe thead tr th {\n",
       "        text-align: left;\n",
       "    }\n",
       "\n",
       "    .dataframe thead tr:last-of-type th {\n",
       "        text-align: right;\n",
       "    }\n",
       "</style>\n",
       "<table border=\"1\" class=\"dataframe\">\n",
       "  <thead>\n",
       "    <tr>\n",
       "      <th></th>\n",
       "      <th colspan=\"3\" halign=\"left\">Men</th>\n",
       "      <th colspan=\"3\" halign=\"left\">Women</th>\n",
       "    </tr>\n",
       "    <tr>\n",
       "      <th></th>\n",
       "      <th>n</th>\n",
       "      <th>Mean</th>\n",
       "      <th>SD</th>\n",
       "      <th>n</th>\n",
       "      <th>Mean</th>\n",
       "      <th>SD</th>\n",
       "    </tr>\n",
       "    <tr>\n",
       "      <th>Education</th>\n",
       "      <th></th>\n",
       "      <th></th>\n",
       "      <th></th>\n",
       "      <th></th>\n",
       "      <th></th>\n",
       "      <th></th>\n",
       "    </tr>\n",
       "  </thead>\n",
       "  <tbody>\n",
       "    <tr>\n",
       "      <th>≤ High school</th>\n",
       "      <td>476</td>\n",
       "      <td>1.38</td>\n",
       "      <td>1.53</td>\n",
       "      <td>323</td>\n",
       "      <td>0.66</td>\n",
       "      <td>1.53</td>\n",
       "    </tr>\n",
       "    <tr>\n",
       "      <th>≥ College</th>\n",
       "      <td>192</td>\n",
       "      <td>1.04</td>\n",
       "      <td>1.31</td>\n",
       "      <td>62</td>\n",
       "      <td>0.41</td>\n",
       "      <td>1.46</td>\n",
       "    </tr>\n",
       "  </tbody>\n",
       "</table>\n",
       "</div>"
      ],
      "text/plain": [
       "               Men             Women            \n",
       "                 n  Mean    SD     n  Mean    SD\n",
       "Education                                       \n",
       "≤ High school  476  1.38  1.53   323  0.66  1.53\n",
       "≥ College      192  1.04  1.31    62  0.41  1.46"
      ]
     },
     "execution_count": 35,
     "metadata": {},
     "output_type": "execute_result"
    }
   ],
   "source": [
    "index = ['≤ High school', '≥ College']\n",
    "\n",
    "columns = [\n",
    "    ['Men'] * 3 + ['Women'] * 3,\n",
    "    ['n', 'Mean', 'SD'] * 2,\n",
    "]\n",
    "\n",
    "data = [\n",
    "    [476, 1.38, 1.53, 323, 0.66, 1.53],\n",
    "    [192, 1.04, 1.31, 62, 0.41, 1.46],\n",
    "]\n",
    "\n",
    "df = pd.DataFrame(data=data, index=index, columns=columns)\n",
    "df.index = df.index.rename('Education')\n",
    "\n",
    "df"
   ]
  },
  {
   "cell_type": "markdown",
   "id": "51e6ccca-70ea-4cdf-966c-ecc1eae908f7",
   "metadata": {},
   "source": [
    "## A7.7"
   ]
  },
  {
   "cell_type": "code",
   "execution_count": 71,
   "id": "504da76c-2aab-410f-b878-69d461ad89fd",
   "metadata": {},
   "outputs": [
    {
     "name": "stdout",
     "output_type": "stream",
     "text": [
      "(a) p-value = 4.06e-22 (t-score = 11.0)\n",
      "(b) p-value = 1.191e-13 (t-score = 7.75)\n",
      "(c) p-value = 0.03078 (t-score = 2.21)\n"
     ]
    }
   ],
   "source": [
    "combs = [\n",
    "    ['(a)', 'Men', '≥ College'],\n",
    "    ['(b)', 'Women', '≤ High school'],\n",
    "    ['(c)', 'Women', '≥ College'],\n",
    "]\n",
    "\n",
    "for q, gender, education in combs:\n",
    "    subdf = subdf = df.loc[education, gender]\n",
    "    n = subdf['n']\n",
    "    mean = subdf['Mean']\n",
    "    s = subdf['SD']\n",
    "\n",
    "    se = s / np.sqrt(n)\n",
    "    z = mean / se\n",
    "\n",
    "    t = stats.t(n-1)\n",
    "    pval = t.cdf(-z) + t.sf(z)\n",
    "\n",
    "    print(f\"{q} p-value = {pval :.4} (t-score = {z :.3})\")"
   ]
  },
  {
   "cell_type": "code",
   "execution_count": 70,
   "id": "4bbc9ac6-4119-48b8-ad0f-232c96036b1c",
   "metadata": {},
   "outputs": [
    {
     "name": "stdout",
     "output_type": "stream",
     "text": [
      "(d) ≤ High school Men vs. ≥ College Men:\n",
      "        p-value = 0.00701 (t-score = 2.7)\n",
      "(e) ≤ High school Women vs. ≥ College Women:\n",
      "        p-value = 0.236 (t-score = 1.19)\n",
      "(f) ≤ High school Men vs. ≤ High school Women:\n",
      "        p-value = 1.19e-10 (t-score = 6.53)\n",
      "    ≥ College Men vs. ≥ College Women:\n",
      "        p-value = 0.00155 (t-score = 3.2)\n"
     ]
    }
   ],
   "source": [
    "combs = [\n",
    "    ['(d)', ('≤ High school', 'Men'), ('≥ College', 'Men')],\n",
    "    ['(e)', ('≤ High school', 'Women'), ('≥ College', 'Women')],\n",
    "    ['(f)', ('≤ High school', 'Men'), ('≤ High school', 'Women')],\n",
    "    ['   ', ('≥ College', 'Men'), ('≥ College', 'Women')],\n",
    "]\n",
    "\n",
    "for q, group1, group2 in combs:\n",
    "    n1 = df.loc[group1]['n']\n",
    "    n2 = df.loc[group2]['n']\n",
    "    mean1 = df.loc[group1]['Mean']\n",
    "    mean2 = df.loc[group2]['Mean']\n",
    "    s1 = df.loc[group1]['SD']\n",
    "    s2 = df.loc[group2]['SD']\n",
    "\n",
    "    s_p = np.sqrt(((n1 -1) * s1 ** 2 + (n2 - 1) * s2 ** 2) / (n1 + n2 - 2))\n",
    "    se = s_p * np.sqrt((1 / n1) + (1 / n2))\n",
    "    z = abs(mean1 - mean2) / se\n",
    "\n",
    "    t = stats.t(n1 + n2 - 2)\n",
    "    pval = t.cdf(-z) + t.sf(z)\n",
    "    comparison = f\"{group1[0]} {group1[1]} vs. {group2[0]} {group2[1]}\"\n",
    "    print(f\"{q} {comparison}:\\n        p-value = {pval :.3} (t-score = {z :.3})\")"
   ]
  },
  {
   "cell_type": "markdown",
   "id": "fbbd9523-c656-41ce-b35d-9eed57fd09b1",
   "metadata": {
    "tags": []
   },
   "source": [
    "# Q7.9\n",
    "The Australian study of Example 7.6 also provided these data on monocular\n",
    "acuity (expressed in log scale) for two female groups of subjects:  \n",
    "(1) Australian females of European origin  \n",
    "\n",
    "$n_1 = 63$  \n",
    "$\\bar{x_1} = -0.13$  \n",
    "$s_1 = 0.17$\n",
    "\n",
    "(2) Australian females of Aboriginal origin\n",
    "\n",
    "$n_2 = 54$  \n",
    "$\\bar{x_2} = -0.24$  \n",
    "$s_2 = 0.18$\n",
    "\n",
    "Do these indicate a racial variation among women? Name your test and state\n",
    "clearly your null and alternative hypotheses and choice of test size."
   ]
  },
  {
   "cell_type": "markdown",
   "id": "7bdc9718-750a-48ff-9c52-ff02ee066eba",
   "metadata": {},
   "source": [
    "## A7.9"
   ]
  },
  {
   "cell_type": "markdown",
   "id": "06518dc8-b1f7-44ef-84e3-b9d584b235c7",
   "metadata": {},
   "source": [
    "$H_0: \\mu_1 = \\mu_2$  \n",
    "$H_A: \\mu_1 \\ne \\mu_2$  \n",
    "$\\alpha = 0.05$"
   ]
  },
  {
   "cell_type": "code",
   "execution_count": 83,
   "id": "db1ecd01-7531-479a-ae2c-e4099fc922da",
   "metadata": {},
   "outputs": [
    {
     "name": "stdout",
     "output_type": "stream",
     "text": [
      "Reject null (p-value = 9.41e-04, t-score = 3.4)\n"
     ]
    }
   ],
   "source": [
    "n1 = 63\n",
    "n2 = 54\n",
    "mean1 = -0.13\n",
    "mean2 = -0.24\n",
    "s1 = 0.17\n",
    "s2 = 0.18\n",
    "\n",
    "s_p = np.sqrt(((n1 -1) * s1 ** 2 + (n2 - 1) * s2 ** 2) / (n1 + n2 - 2))\n",
    "se = s_p * np.sqrt((1 / n1) + (1 / n2))\n",
    "z = abs(mean1 - mean2) / se\n",
    "\n",
    "t = stats.t(n1 + n2 - 2)\n",
    "pval = t.cdf(-z) + t.sf(z)\n",
    "result = \"Reject null\" if pval < alpha else \"Fail to reject null\"\n",
    "\n",
    "print(f\"{result} (p-value = {pval :.2e}, t-score = {z :.3})\")"
   ]
  },
  {
   "cell_type": "markdown",
   "id": "26a09f2e-4004-475a-a745-092fe67db90b",
   "metadata": {},
   "source": [
    "# Q7.12\n",
    "In a trial to compare a stannous fluoride dentifrice (A) with a commercially\n",
    "available fluoride‐free dentifrice (D), 270 children received A and 250\n",
    "received D for a period of 3 years. The number x of DMFS increments (i.e.,\n",
    "the number of new decayed, missing, and filled tooth surfaces) was obtained\n",
    "for each child. Results were:\n",
    "\n",
    "Dentifrice A:  \n",
    "$\\bar{x_A} = 9.78$  \n",
    "$s_A = 7.51$\n",
    "\n",
    "Dentifrice D:  \n",
    "$\\bar{x_D} = 12.83$  \n",
    "$s_D = 8.31$\n",
    "\n",
    "Do the results provide strong enough evidence to suggest a real effect of\n",
    "fluoride in reducing the mean DMFS?"
   ]
  },
  {
   "cell_type": "markdown",
   "id": "3af41149-7e2f-47ff-9625-3f75622a6ace",
   "metadata": {},
   "source": [
    "## A7.12"
   ]
  },
  {
   "cell_type": "markdown",
   "id": "6e237699-674d-42d0-a75b-ee0eabae5d0b",
   "metadata": {},
   "source": [
    "$H_0:$ No difference in mean DMFS between groups A and D  \n",
    "$H_A:$ A difference in mean DMFS between groups A and D  \n",
    "$alpha = 0.05$"
   ]
  },
  {
   "cell_type": "code",
   "execution_count": 85,
   "id": "11a8daeb-1028-4b0c-8c34-4d04856b4104",
   "metadata": {},
   "outputs": [
    {
     "name": "stdout",
     "output_type": "stream",
     "text": [
      "Reject null (p-value = 1.34e-05, t-score = 4.4)\n"
     ]
    }
   ],
   "source": [
    "n1 = 270\n",
    "n2 = 250\n",
    "mean1 = 9.78\n",
    "mean2 = 12.83\n",
    "s1 = 7.51\n",
    "s2 = 8.31\n",
    "\n",
    "s_p = np.sqrt(((n1 -1) * s1 ** 2 + (n2 - 1) * s2 ** 2) / (n1 + n2 - 2))\n",
    "se = s_p * np.sqrt((1 / n1) + (1 / n2))\n",
    "z = abs(mean1 - mean2) / se\n",
    "\n",
    "alpha = 0.05\n",
    "t = stats.t(n1 + n2 - 2)\n",
    "pval = t.cdf(-z) + t.sf(z)\n",
    "result = \"Reject null\" if pval < alpha else \"Fail to reject null\"\n",
    "\n",
    "print(f\"{result} (p-value = {pval :.2e}, t-score = {z :.3})\")"
   ]
  },
  {
   "cell_type": "markdown",
   "id": "6f137b93-3321-422a-9e13-7aa8b3e0f67a",
   "metadata": {},
   "source": [
    "# Q7.13\n",
    "An experiment was conducted at the University of California–Berkeley to\n",
    "study the psychological environment’s effect on the anatomy of the brain. A\n",
    "group of 19 rats was randomly divided into two groups. Twelve animals in the\n",
    "treatment group lived together in a large cage, furnished with playthings that\n",
    "were changed daily, while animals in the control group lived in isolation with\n",
    "no toys. After a month the experimental animals were killed and dissected.\n",
    "Table E7.13 gives the cortex weights (the thinking part of the brain) in milligrams.\n",
    "Use the two‐sample t test to compare the means of the two groups and\n",
    "draw appropriate conclusions."
   ]
  },
  {
   "cell_type": "code",
   "execution_count": 87,
   "id": "057a339c-470f-4b76-9c71-d7b3e1214c64",
   "metadata": {},
   "outputs": [],
   "source": [
    "treatment = np.array([707, 696, 740, 712, 745, 708, 652, 749, 649, 690, 676, 699])\n",
    "control = np.array([669, 650, 651, 627, 656, 642, 698])"
   ]
  },
  {
   "cell_type": "markdown",
   "id": "aa760699-f928-472e-9969-2a12cb5c5abc",
   "metadata": {},
   "source": [
    "## A7.13"
   ]
  },
  {
   "cell_type": "code",
   "execution_count": 88,
   "id": "274cf708-05d0-4ea2-a7d5-2cb502711636",
   "metadata": {},
   "outputs": [
    {
     "name": "stdout",
     "output_type": "stream",
     "text": [
      "Reject null (p-value = 4.67e-03, t-score = 3.25)\n"
     ]
    }
   ],
   "source": [
    "n1 = len(treatment)\n",
    "n2 = len(control)\n",
    "mean1 = treatment.mean()\n",
    "mean2 = control.mean()\n",
    "s1 = treatment.std(ddof=1)\n",
    "s2 = control.std(ddof=1)\n",
    "\n",
    "s_p = np.sqrt(((n1 -1) * s1 ** 2 + (n2 - 1) * s2 ** 2) / (n1 + n2 - 2))\n",
    "se = s_p * np.sqrt((1 / n1) + (1 / n2))\n",
    "z = abs(mean1 - mean2) / se\n",
    "\n",
    "alpha = 0.05\n",
    "t = stats.t(n1 + n2 - 2)\n",
    "pval = t.cdf(-z) + t.sf(z)\n",
    "result = \"Reject null\" if pval < alpha else \"Fail to reject null\"\n",
    "\n",
    "print(f\"{result} (p-value = {pval :.2e}, t-score = {z :.3})\")"
   ]
  },
  {
   "cell_type": "markdown",
   "id": "9d0de87c-8752-4ce3-91ba-c566de0ffbda",
   "metadata": {},
   "source": [
    "There is a statistically significant difference in cortex weights between the two groups of mice."
   ]
  },
  {
   "cell_type": "markdown",
   "id": "d8dfdd06-17e8-465a-8fc9-25e1da452c26",
   "metadata": {},
   "source": [
    "# Q7.14\n",
    "Depression is one of the most commonly diagnosed conditions among hospitalized\n",
    "patients in mental institutions. The occurrence of depression was determined\n",
    "during the summer of 1979 in a multiethnic probability sample of 1000 adults in\n",
    "Los Angeles County, as part of a community survey of the epidemiology of\n",
    "depression and help‐seeking behavior. The primary measure of depression was\n",
    "the CES‐D scale developed by the Center for Epidemiologic Studies. On a scale\n",
    "of 0–60, a score of 16 or higher was classified as depression. Table E7.14 gives\n",
    "the average CES‐D score for the two genders. Use a t test to compare the males\n",
    "versus the females and draw appropriate conclusions."
   ]
  },
  {
   "cell_type": "code",
   "execution_count": 95,
   "id": "4ce16151-88e3-4570-980b-17a7a050d930",
   "metadata": {},
   "outputs": [
    {
     "data": {
      "text/html": [
       "<div>\n",
       "<style scoped>\n",
       "    .dataframe tbody tr th:only-of-type {\n",
       "        vertical-align: middle;\n",
       "    }\n",
       "\n",
       "    .dataframe tbody tr th {\n",
       "        vertical-align: top;\n",
       "    }\n",
       "\n",
       "    .dataframe thead th {\n",
       "        text-align: right;\n",
       "    }\n",
       "</style>\n",
       "<table border=\"1\" class=\"dataframe\">\n",
       "  <thead>\n",
       "    <tr style=\"text-align: right;\">\n",
       "      <th></th>\n",
       "      <th>Cases</th>\n",
       "      <th>x̄</th>\n",
       "      <th>s</th>\n",
       "    </tr>\n",
       "  </thead>\n",
       "  <tbody>\n",
       "    <tr>\n",
       "      <th>Male</th>\n",
       "      <td>412</td>\n",
       "      <td>7.6</td>\n",
       "      <td>7.5</td>\n",
       "    </tr>\n",
       "    <tr>\n",
       "      <th>Female</th>\n",
       "      <td>588</td>\n",
       "      <td>10.4</td>\n",
       "      <td>10.3</td>\n",
       "    </tr>\n",
       "  </tbody>\n",
       "</table>\n",
       "</div>"
      ],
      "text/plain": [
       "        Cases    x̄     s\n",
       "Male      412   7.6   7.5\n",
       "Female    588  10.4  10.3"
      ]
     },
     "execution_count": 95,
     "metadata": {},
     "output_type": "execute_result"
    }
   ],
   "source": [
    "index = ['Male', 'Female']\n",
    "\n",
    "columns = ['Cases', 'x̄', 's']\n",
    "\n",
    "data = [\n",
    "    [412, 7.6, 7.5],\n",
    "    [588, 10.4, 10.3],\n",
    "]\n",
    "\n",
    "df = pd.DataFrame(data=data, index=index, columns=columns)\n",
    "\n",
    "df"
   ]
  },
  {
   "cell_type": "markdown",
   "id": "e591fb43-b901-4def-bae7-d1ce903d99d1",
   "metadata": {},
   "source": [
    "## A7.14"
   ]
  },
  {
   "cell_type": "code",
   "execution_count": 98,
   "id": "98fc6b32-d75b-48ef-9da6-37102e60b506",
   "metadata": {},
   "outputs": [
    {
     "name": "stdout",
     "output_type": "stream",
     "text": [
      "Reject null (p-value = 2.81e-06, t-score = 4.71)\n"
     ]
    }
   ],
   "source": [
    "n1 = df.loc['Male', 'Cases']\n",
    "n2 = df.loc['Female', 'Cases']\n",
    "mean1 = df.loc['Male', 'x̄']\n",
    "mean2 = df.loc['Female', 'x̄']\n",
    "s1 = df.loc['Male', 's']\n",
    "s2 = df.loc['Female', 's']\n",
    "\n",
    "s_p = np.sqrt(((n1 -1) * s1 ** 2 + (n2 - 1) * s2 ** 2) / (n1 + n2 - 2))\n",
    "se = s_p * np.sqrt((1 / n1) + (1 / n2))\n",
    "z = abs(mean1 - mean2) / se\n",
    "\n",
    "alpha = 0.05\n",
    "t = stats.t(n1 + n2 - 2)\n",
    "pval = t.cdf(-z) + t.sf(z)\n",
    "result = \"Reject null\" if pval < alpha else \"Fail to reject null\"\n",
    "\n",
    "print(f\"{result} (p-value = {pval :.2e}, t-score = {z :.3})\")"
   ]
  },
  {
   "cell_type": "markdown",
   "id": "da0c9817-543f-4805-a74e-786101625b76",
   "metadata": {},
   "source": [
    "There is a statistically significant difference in CES-D scores between males and females."
   ]
  },
  {
   "cell_type": "markdown",
   "id": "282ed5e7-52ed-43b8-bbb3-761ec24a1fa9",
   "metadata": {},
   "source": [
    "# Q7.16\n",
    "The following data are taken from a study that compares adolescents who\n",
    "have bulimia to healthy adolescents with similar body compositions and levels\n",
    "of physical activity. Table E7.16 provides measures of daily caloric intake\n",
    "(kcal/kg) for random samples of 23 bulimic adolescents and 15 healthy ones.\n",
    "Use the Wilcoxon test to compare the two populations."
   ]
  },
  {
   "cell_type": "code",
   "execution_count": 145,
   "id": "ed575a1d-1bb5-4d31-b4a7-bee06c3fe42d",
   "metadata": {},
   "outputs": [],
   "source": [
    "bulimic = np.array([\n",
    "    15.9, 17.0, 18.9, 16.0, 17.6, 19.6, 16.5, 28.7, 21.5, 18.9, 28.0, 24.1,\n",
    "    18.4, 25.6, 23.6, 18.1, 25.2, 22.9, 30.9, 25.1, 21.6, 29.2, 24.5\n",
    "])\n",
    "\n",
    "healthy = np.array([\n",
    "    30.6, 40.8, 25.7, 37.4, 25.3, 37.1, 24.5, 30.6,\n",
    "    20.7, 33.2, 22.4, 33.7, 23.1, 36.6, 23.8\n",
    "])"
   ]
  },
  {
   "cell_type": "markdown",
   "id": "c8ec9bc9-1a34-4bc7-9dfe-69c299cb51ee",
   "metadata": {},
   "source": [
    "## A7.16"
   ]
  },
  {
   "cell_type": "code",
   "execution_count": 148,
   "id": "cf2d35df-cdc8-4d91-b7f9-543c84dc7489",
   "metadata": {},
   "outputs": [
    {
     "name": "stdout",
     "output_type": "stream",
     "text": [
      "p-value = 0.000917, z-score = 3.31\n"
     ]
    }
   ],
   "source": [
    "df = pd.DataFrame()\n",
    "df['Intake'] = bulimic\n",
    "df['Group'] = 'bulimic'\n",
    "\n",
    "df2 = pd.DataFrame()\n",
    "df2['Intake'] = healthy\n",
    "df2['Group'] = 'healthy'\n",
    "\n",
    "df = df.append(df2, ignore_index=True)\n",
    "df['Rank'] = df['Intake'].rank()\n",
    "\n",
    "R = df[df['Group'] == 'bulimic']['Rank'].sum()\n",
    "n1 = df[df['Group'] == 'bulimic'].shape[0]\n",
    "n2 = df[df['Group'] == 'healthy'].shape[0]\n",
    "mean_R = n1 * (n1 + n2 + 1) / 2\n",
    "std_R = np.sqrt(n1 * n2 * (n1 + n2 + 1) / 12)\n",
    "\n",
    "z = abs(R - mean_R) / std_R\n",
    "pval = stats.norm.cdf(-z) + stats.norm.sf(z)\n",
    "print(f\"p-value = {pval :.3}, z-score = {z :.3}\")"
   ]
  },
  {
   "cell_type": "markdown",
   "id": "6a9c9026-57d2-42b2-be4b-9ecd222dae3b",
   "metadata": {},
   "source": [
    "# Q7.19\n",
    "Four different brands of margarine were analyzed to determine the level of\n",
    "some unsaturated fatty acids (as a percentage of fats; Table E7.19). Test to\n",
    "compare the four groups simultaneously. Name your test and state clearly\n",
    "your null and alternative hypotheses and choice of test size."
   ]
  },
  {
   "cell_type": "code",
   "execution_count": 174,
   "id": "b7d71b6f-4a37-460b-afda-2fcbc636ddc1",
   "metadata": {},
   "outputs": [],
   "source": [
    "A = np.array([13.5, 13.4, 14.1, 14.2])\n",
    "B = np.array([13.2, 12.7, 12.6, 13.9])\n",
    "C = np.array([16.8, 17.2, 16.4, 17.3, 18.0])\n",
    "D = np.array([18.1, 17.2, 18.7, 18.4])"
   ]
  },
  {
   "cell_type": "markdown",
   "id": "d6630d76-d1b7-453f-8898-e4948d6e54a6",
   "metadata": {},
   "source": [
    "## A7.19"
   ]
  },
  {
   "cell_type": "markdown",
   "id": "3f1fb024-92d7-4f11-a235-2b2b0b9d5bea",
   "metadata": {},
   "source": [
    "Test: one-way ANOVA  \n",
    "$H_0:$ Mean of all groups are equal  \n",
    "$H_A:$ There is at least one pair of groups with different mean  \n",
    "$\\alpha = 0.05$"
   ]
  },
  {
   "cell_type": "code",
   "execution_count": 191,
   "id": "5ae165e5-0696-443e-bb3d-14bb782686c6",
   "metadata": {},
   "outputs": [
    {
     "name": "stdout",
     "output_type": "stream",
     "text": [
      "p-value = 1.67e-08, F-score = 76.23\n"
     ]
    }
   ],
   "source": [
    "combined = np.concatenate([A, B, C, D])\n",
    "mean = combined.mean()\n",
    "n = combined.shape[0]\n",
    "k = 4\n",
    "\n",
    "SST = ((combined - mean) ** 2).sum()\n",
    "\n",
    "SSW = 0\n",
    "for X in [A, B, C, D]:\n",
    "    SSW += (X.shape[0] - 1) * X.var(ddof=1)\n",
    "\n",
    "SSB = SST - SSW\n",
    "MSW = SSW / (n - k)\n",
    "MSB = SSB / (k - 1)\n",
    "F = MSB / MSW\n",
    "\n",
    "pval = stats.f(k-1, n-k).sf(F)\n",
    "print(f\"p-value = {pval :.3}, F-score = {F :.4}\")"
   ]
  },
  {
   "cell_type": "markdown",
   "id": "96db52a5-b145-4c47-b547-0e6411fd82df",
   "metadata": {},
   "source": [
    "# Q7.21\n",
    "A study was conducted to investigate the risk factors for peripheral arterial\n",
    "disease among persons 55–74 years of age. Table E7.21 provides data on LDL\n",
    "cholesterol levels (mmol/L) from four different subgroups of subjects. Test to\n",
    "compare the four groups simultaneously. Name your test and state clearly\n",
    "your null and alternative hypotheses and choice of test size."
   ]
  },
  {
   "cell_type": "code",
   "execution_count": 227,
   "id": "2fbff90c-6b5d-452a-8dfb-2e48388ab379",
   "metadata": {},
   "outputs": [
    {
     "data": {
      "text/html": [
       "<div>\n",
       "<style scoped>\n",
       "    .dataframe tbody tr th:only-of-type {\n",
       "        vertical-align: middle;\n",
       "    }\n",
       "\n",
       "    .dataframe tbody tr th {\n",
       "        vertical-align: top;\n",
       "    }\n",
       "\n",
       "    .dataframe thead th {\n",
       "        text-align: right;\n",
       "    }\n",
       "</style>\n",
       "<table border=\"1\" class=\"dataframe\">\n",
       "  <thead>\n",
       "    <tr style=\"text-align: right;\">\n",
       "      <th></th>\n",
       "      <th>n</th>\n",
       "      <th>x̄</th>\n",
       "      <th>s</th>\n",
       "    </tr>\n",
       "    <tr>\n",
       "      <th>Group</th>\n",
       "      <th></th>\n",
       "      <th></th>\n",
       "      <th></th>\n",
       "    </tr>\n",
       "  </thead>\n",
       "  <tbody>\n",
       "    <tr>\n",
       "      <th>1. Patients with intermittent claudication</th>\n",
       "      <td>73</td>\n",
       "      <td>6.22</td>\n",
       "      <td>1.62</td>\n",
       "    </tr>\n",
       "    <tr>\n",
       "      <th>2. Major asymptotic disease cases</th>\n",
       "      <td>105</td>\n",
       "      <td>5.81</td>\n",
       "      <td>1.43</td>\n",
       "    </tr>\n",
       "    <tr>\n",
       "      <th>3. Minor asymptotic disease cases</th>\n",
       "      <td>240</td>\n",
       "      <td>5.77</td>\n",
       "      <td>1.24</td>\n",
       "    </tr>\n",
       "    <tr>\n",
       "      <th>4. Those with no disease</th>\n",
       "      <td>1080</td>\n",
       "      <td>5.47</td>\n",
       "      <td>1.31</td>\n",
       "    </tr>\n",
       "  </tbody>\n",
       "</table>\n",
       "</div>"
      ],
      "text/plain": [
       "                                               n    x̄     s\n",
       "Group                                                       \n",
       "1. Patients with intermittent claudication    73  6.22  1.62\n",
       "2. Major asymptotic disease cases            105  5.81  1.43\n",
       "3. Minor asymptotic disease cases            240  5.77  1.24\n",
       "4. Those with no disease                    1080  5.47  1.31"
      ]
     },
     "execution_count": 227,
     "metadata": {},
     "output_type": "execute_result"
    }
   ],
   "source": [
    "index = [\n",
    "    '1. Patients with intermittent claudication',\n",
    "    '2. Major asymptotic disease cases',\n",
    "    '3. Minor asymptotic disease cases',\n",
    "    '4. Those with no disease',\n",
    "]\n",
    "\n",
    "columns = ['n', 'x̄', 's']\n",
    "\n",
    "data = [\n",
    "    [73, 6.22, 1.62],\n",
    "    [105, 5.81, 1.43],\n",
    "    [240, 5.77, 1.24],\n",
    "    [1080, 5.47, 1.31],\n",
    "]\n",
    "\n",
    "df = pd.DataFrame(data=data, index=index, columns=columns)\n",
    "df.index = df.index.rename('Group')\n",
    "\n",
    "df"
   ]
  },
  {
   "cell_type": "markdown",
   "id": "f8755fa4-608f-4ebf-82ae-b79d528f0e71",
   "metadata": {},
   "source": [
    "## A7.21"
   ]
  },
  {
   "cell_type": "markdown",
   "id": "00a008e1-e27b-41b8-a0c9-2b05440de9c9",
   "metadata": {},
   "source": [
    "Test: one-way ANOVA  \n",
    "$H_0:$ Mean of all groups are equal  \n",
    "$H_A:$ There is at least one pair of groups with different mean  \n",
    "$\\alpha = 0.05$"
   ]
  },
  {
   "cell_type": "code",
   "execution_count": 228,
   "id": "b6966d80-eb65-4673-ad52-ddf4b454213f",
   "metadata": {},
   "outputs": [
    {
     "name": "stdout",
     "output_type": "stream",
     "text": [
      "p-value = 4.62e-07, F-score = 10.87\n"
     ]
    }
   ],
   "source": [
    "n = df['n'].sum()\n",
    "k = 4\n",
    "mean = (df['n'] * df['x̄']).sum() / n\n",
    "\n",
    "SSW = ((df['n'] - 1) * df['s'] ** 2).sum()\n",
    "SSB = (df['n'] * (df['x̄'] - mean) ** 2).sum()\n",
    "MSW = SSW / (n - k)\n",
    "MSB = SSB / (k - 1)\n",
    "F = MSB / MSW\n",
    "\n",
    "pval = stats.f(k-1, n-k).sf(F)\n",
    "print(f\"p-value = {pval :.3}, F-score = {F :.4}\")"
   ]
  },
  {
   "cell_type": "markdown",
   "id": "5620fa49-dba0-4c11-a7d1-37262dc7520c",
   "metadata": {},
   "source": [
    "# Q7.23\n",
    "When a patient is diagnosed as having cancer of the prostate, an important\n",
    "question in deciding on treatment strategy is whether or not the cancer has\n",
    "spread to the neighboring lymph nodes. The question is so critical in prognosis\n",
    "and treatment that it is customary to operate on the patient (i.e., perform\n",
    "a laparotomy) for the sole purpose of examining the nodes and removing\n",
    "tissue samples to examine under the microscope for evidence of cancer.\n",
    "However, certain variables that can be measured without surgery are predictive\n",
    "of the nodal involvement. The purpose of the study presented here was to examine the data for 53 prostate cancer patients receiving surgery, to determine\n",
    "which of five preoperative variables are predictive of nodal involvement\n",
    "(see Table E2.32). For each of the 53 patients, there are two continuous\n",
    "independent variables: age at diagnosis and level of serum acid phosphatase\n",
    "(×100; called “acid”); and three binary variables: x‐ray reading, pathology\n",
    "reading (grade) of a biopsy of the tumor obtained by needle before surgery,\n",
    "and a rough measure of the size and location of the tumor (stage) obtained by\n",
    "palpation with the fingers via the rectum. In addition, the sixth column presents\n",
    "the findings at surgery– the primary outcome of interest, which is binary,\n",
    "a value of 1 denoting nodal involvement, and a value of 0 denoting no nodal\n",
    "involvement found at surgery. The three binary factors have been investigated\n",
    "previously; this exercise is focused on the effects of the two continuous factors\n",
    "(age and acid phosphatase). Test to compare the group with nodal involvement\n",
    "and the group without, using:\n",
    "\n",
    "(a) The two‐sample t test.  \n",
    "(b) Wilcoxon’s rank‐sum test."
   ]
  },
  {
   "cell_type": "code",
   "execution_count": 2,
   "id": "b8e870f1-1f5f-480a-ba56-b2cf586fc1fa",
   "metadata": {},
   "outputs": [
    {
     "name": "stdout",
     "output_type": "stream",
     "text": [
      "df num rows: 53\n"
     ]
    },
    {
     "data": {
      "text/html": [
       "<div>\n",
       "<style scoped>\n",
       "    .dataframe tbody tr th:only-of-type {\n",
       "        vertical-align: middle;\n",
       "    }\n",
       "\n",
       "    .dataframe tbody tr th {\n",
       "        vertical-align: top;\n",
       "    }\n",
       "\n",
       "    .dataframe thead th {\n",
       "        text-align: right;\n",
       "    }\n",
       "</style>\n",
       "<table border=\"1\" class=\"dataframe\">\n",
       "  <thead>\n",
       "    <tr style=\"text-align: right;\">\n",
       "      <th></th>\n",
       "      <th>Xray</th>\n",
       "      <th>Grade</th>\n",
       "      <th>Stage</th>\n",
       "      <th>Age</th>\n",
       "      <th>Acid</th>\n",
       "      <th>Nodes</th>\n",
       "    </tr>\n",
       "  </thead>\n",
       "  <tbody>\n",
       "    <tr>\n",
       "      <th>0</th>\n",
       "      <td>0</td>\n",
       "      <td>1</td>\n",
       "      <td>1</td>\n",
       "      <td>64</td>\n",
       "      <td>40</td>\n",
       "      <td>0</td>\n",
       "    </tr>\n",
       "    <tr>\n",
       "      <th>1</th>\n",
       "      <td>0</td>\n",
       "      <td>0</td>\n",
       "      <td>1</td>\n",
       "      <td>63</td>\n",
       "      <td>40</td>\n",
       "      <td>0</td>\n",
       "    </tr>\n",
       "    <tr>\n",
       "      <th>2</th>\n",
       "      <td>1</td>\n",
       "      <td>0</td>\n",
       "      <td>0</td>\n",
       "      <td>65</td>\n",
       "      <td>46</td>\n",
       "      <td>0</td>\n",
       "    </tr>\n",
       "    <tr>\n",
       "      <th>3</th>\n",
       "      <td>0</td>\n",
       "      <td>1</td>\n",
       "      <td>0</td>\n",
       "      <td>67</td>\n",
       "      <td>47</td>\n",
       "      <td>0</td>\n",
       "    </tr>\n",
       "    <tr>\n",
       "      <th>4</th>\n",
       "      <td>0</td>\n",
       "      <td>0</td>\n",
       "      <td>0</td>\n",
       "      <td>66</td>\n",
       "      <td>48</td>\n",
       "      <td>0</td>\n",
       "    </tr>\n",
       "  </tbody>\n",
       "</table>\n",
       "</div>"
      ],
      "text/plain": [
       "   Xray  Grade  Stage  Age  Acid  Nodes\n",
       "0     0      1      1   64    40      0\n",
       "1     0      0      1   63    40      0\n",
       "2     1      0      0   65    46      0\n",
       "3     0      1      0   67    47      0\n",
       "4     0      0      0   66    48      0"
      ]
     },
     "execution_count": 2,
     "metadata": {},
     "output_type": "execute_result"
    }
   ],
   "source": [
    "df = pd.read_csv('assets/nodes.txt', sep=' & ', engine='python')\n",
    "\n",
    "print(f\"df num rows: {df.shape[0]}\")\n",
    "df.head()"
   ]
  },
  {
   "cell_type": "markdown",
   "id": "8542425e-467b-4d16-8ef2-f65bf0f4c7f0",
   "metadata": {},
   "source": [
    "The three binary factors have been investigated previously; this exercise is focused on the effects of the two continuous factors (age and acid phosphatase). Test to compare the group with nodal involvement and the group without, using:\n",
    "\n",
    "(a) The two‐sample t test.  \n",
    "(b) Wilcoxon’s rank‐sum test."
   ]
  },
  {
   "cell_type": "markdown",
   "id": "b45c6651-e83a-4744-ba00-f25205aff168",
   "metadata": {},
   "source": [
    "## A7.23"
   ]
  },
  {
   "cell_type": "code",
   "execution_count": 34,
   "id": "2fc40870-9af7-45eb-821e-31f9f530cce9",
   "metadata": {},
   "outputs": [
    {
     "name": "stdout",
     "output_type": "stream",
     "text": [
      "(a) Two sample t-test:\n",
      "      Age : p-value = 0.3048, t-score = 1.037\n",
      "      Acid: p-value = 0.0802, t-score = 1.785\n",
      "(b) Wilcoxon rank-sum test:\n",
      "      Age : p-value = 0.3834, z-score = 0.8716\n",
      "      Acid: p-value = 0.0064, z-score = 2.725\n"
     ]
    }
   ],
   "source": [
    "print(\"(a) Two sample t-test:\")\n",
    "for factor in ['Age', 'Acid']:\n",
    "    group1 = df[df['Nodes'] == 0][factor]\n",
    "    group2 = df[df['Nodes'] == 1][factor]\n",
    "\n",
    "    n1 = len(group1)\n",
    "    n2 = len(group2)\n",
    "    mean1 = group1.mean()\n",
    "    mean2 = group2.mean()\n",
    "    s1 = group1.std()\n",
    "    s2 = group2.std()\n",
    "\n",
    "    s_p = np.sqrt(((n1 -1) * s1 ** 2 + (n2 - 1) * s2 ** 2) / (n1 + n2 - 2))\n",
    "    se = s_p * np.sqrt((1 / n1) + (1 / n2))\n",
    "    z = abs(mean1 - mean2) / se\n",
    "\n",
    "    alpha = 0.05\n",
    "    t = stats.t(n1 + n2 - 2)\n",
    "    pval = t.cdf(-z) + t.sf(z)\n",
    "    result = \"Reject null\" if pval < alpha else \"Fail to reject null\"\n",
    "\n",
    "    print(f\"      {factor :4}: p-value = {pval :.4f}, t-score = {z :.4}\")\n",
    "\n",
    "print(\"(b) Wilcoxon rank-sum test:\")\n",
    "for factor in ['Age', 'Acid']:\n",
    "    subdf = df[[factor, 'Nodes']].copy()\n",
    "    subdf['Rank'] = subdf[factor].rank()\n",
    "\n",
    "    R = subdf[subdf['Nodes'] == 0]['Rank'].sum()\n",
    "    n1 = subdf[subdf['Nodes'] == 0].shape[0]\n",
    "    n2 = subdf[subdf['Nodes'] == 1].shape[0]\n",
    "    mean_R = n1 * (n1 + n2 + 1) / 2\n",
    "    std_R = np.sqrt(n1 * n2 * (n1 + n2 + 1) / 12)\n",
    "\n",
    "    z = abs(R - mean_R) / std_R\n",
    "    pval = stats.norm.cdf(-z) + stats.norm.sf(z)\n",
    "    print(f\"      {factor :4}: p-value = {pval :.4f}, z-score = {z :.4}\")"
   ]
  },
  {
   "cell_type": "markdown",
   "id": "06cad47a-c15c-436b-a8f0-b408075bc1b8",
   "metadata": {},
   "source": [
    "# Q7.26\n",
    "The mutans streptococci (MS) are bacteria (all related to Streptococcus mutans)\n",
    "that can cause tooth decay. 167 persons with gum disease (elevated oral MS\n",
    "levels) were recruited into a study with three treatment arms: chewing gum with\n",
    "an active drug, chewing gum with no active drug, and no gum. Randomization\n",
    "to the three groups was 1:1:1 (equal allocation) within blocks defined by current\n",
    "smoker status. Participants in the gum groups were asked to chew the gum three\n",
    "times daily for a minimum of 5 minutes each time and to carry out their usual\n",
    "oral hygiene (tooth brushing, mouthwash, etc.). Participants in the group without\n",
    "gum were asked to carry out their usual oral hygiene. During the 14 days prior\n",
    "to randomization, subjects rinsed their mouths twice daily with a 0.12 %\n",
    "chlorhexidine gluconate mouthrinse. They were asked to follow their assigned\n",
    "treatment for three weeks. The outcome (“colony forming units” per ml, a count\n",
    "of blotches on a standard sized petri dish after standard preparation) was\n",
    "recorded at randomization and after 1, 2, and 3 weeks. The primary outcome\n",
    "was the CFU ratio, week 3 divided by week 0. The question of interest is whether\n",
    "the active gum treatment caused a decline in the level of oral mutans streptococci.\n",
    "There are some missing CFU data, corresponding to participants who\n",
    "missed visits.\n",
    "\n",
    "(a) Examine the distribution of the primary outcome, CFU at week 3 divided\n",
    "by CFU at week 0. In your judgement, is it sufficiently close to normally\n",
    "distributed to consider using an ANOVA model? (We will revisit these\n",
    "data in Chapter 11, where we consider models for count data.)\n",
    "\n",
    "(b) Calculate summary statistics of the primary outcome by treatment group\n",
    "(e.g., sample size, mean, standard deviation, minimum, first and third\n",
    "quartiles, maximum). Just from visual inspection, do there appear to be\n",
    "any differences between treatment groups?\n",
    "\n",
    "(c) Fit a one‐way ANOVA for treatment group. Report the result and interpretation\n",
    "of the F test in the ANOVA table.\n",
    "\n",
    "(d) Compute the least squares means for the three treatment groups. Which\n",
    "groups are significantly different from which other groups? Choose a multiple\n",
    "comparisons adjustment approach, and test all pairwise comparisons."
   ]
  },
  {
   "cell_type": "code",
   "execution_count": 90,
   "id": "5d99fd5a-f87f-4fc2-b47a-209f00393ba8",
   "metadata": {},
   "outputs": [
    {
     "name": "stdout",
     "output_type": "stream",
     "text": [
      "df num rows: 668\n"
     ]
    },
    {
     "data": {
      "text/html": [
       "<div>\n",
       "<style scoped>\n",
       "    .dataframe tbody tr th:only-of-type {\n",
       "        vertical-align: middle;\n",
       "    }\n",
       "\n",
       "    .dataframe tbody tr th {\n",
       "        vertical-align: top;\n",
       "    }\n",
       "\n",
       "    .dataframe thead th {\n",
       "        text-align: right;\n",
       "    }\n",
       "</style>\n",
       "<table border=\"1\" class=\"dataframe\">\n",
       "  <thead>\n",
       "    <tr style=\"text-align: right;\">\n",
       "      <th></th>\n",
       "      <th>person</th>\n",
       "      <th>cfu</th>\n",
       "      <th>trt</th>\n",
       "      <th>weeks</th>\n",
       "      <th>female</th>\n",
       "      <th>white</th>\n",
       "      <th>smokers</th>\n",
       "      <th>dmfteeth</th>\n",
       "    </tr>\n",
       "  </thead>\n",
       "  <tbody>\n",
       "    <tr>\n",
       "      <th>0</th>\n",
       "      <td>1</td>\n",
       "      <td>217.0</td>\n",
       "      <td>NoDrug</td>\n",
       "      <td>0</td>\n",
       "      <td>0</td>\n",
       "      <td>1</td>\n",
       "      <td>0</td>\n",
       "      <td>1</td>\n",
       "    </tr>\n",
       "    <tr>\n",
       "      <th>1</th>\n",
       "      <td>1</td>\n",
       "      <td>201.0</td>\n",
       "      <td>NoDrug</td>\n",
       "      <td>1</td>\n",
       "      <td>0</td>\n",
       "      <td>1</td>\n",
       "      <td>0</td>\n",
       "      <td>1</td>\n",
       "    </tr>\n",
       "    <tr>\n",
       "      <th>2</th>\n",
       "      <td>1</td>\n",
       "      <td>192.0</td>\n",
       "      <td>NoDrug</td>\n",
       "      <td>2</td>\n",
       "      <td>0</td>\n",
       "      <td>1</td>\n",
       "      <td>0</td>\n",
       "      <td>1</td>\n",
       "    </tr>\n",
       "    <tr>\n",
       "      <th>3</th>\n",
       "      <td>1</td>\n",
       "      <td>219.0</td>\n",
       "      <td>NoDrug</td>\n",
       "      <td>3</td>\n",
       "      <td>0</td>\n",
       "      <td>1</td>\n",
       "      <td>0</td>\n",
       "      <td>1</td>\n",
       "    </tr>\n",
       "    <tr>\n",
       "      <th>4</th>\n",
       "      <td>2</td>\n",
       "      <td>114.0</td>\n",
       "      <td>Placebo</td>\n",
       "      <td>0</td>\n",
       "      <td>0</td>\n",
       "      <td>1</td>\n",
       "      <td>0</td>\n",
       "      <td>13</td>\n",
       "    </tr>\n",
       "  </tbody>\n",
       "</table>\n",
       "</div>"
      ],
      "text/plain": [
       "   person    cfu      trt  weeks  female  white  smokers  dmfteeth\n",
       "0       1  217.0   NoDrug      0       0      1        0         1\n",
       "1       1  201.0   NoDrug      1       0      1        0         1\n",
       "2       1  192.0   NoDrug      2       0      1        0         1\n",
       "3       1  219.0   NoDrug      3       0      1        0         1\n",
       "4       2  114.0  Placebo      0       0      1        0        13"
      ]
     },
     "execution_count": 90,
     "metadata": {},
     "output_type": "execute_result"
    }
   ],
   "source": [
    "df = pd.read_csv('assets/mutans_streptococci.csv', sep=',')\n",
    "\n",
    "print(f\"df num rows: {df.shape[0]}\")\n",
    "df.head()"
   ]
  },
  {
   "cell_type": "markdown",
   "id": "02271ee2-c652-4c2c-8d35-073faa378457",
   "metadata": {},
   "source": [
    "## A7.26(a)"
   ]
  },
  {
   "cell_type": "code",
   "execution_count": 137,
   "id": "3d3157de-8f65-4751-aa6c-97c0a92a56e2",
   "metadata": {},
   "outputs": [
    {
     "name": "stdout",
     "output_type": "stream",
     "text": [
      "num rows = 167\n"
     ]
    },
    {
     "data": {
      "text/html": [
       "<div>\n",
       "<style scoped>\n",
       "    .dataframe tbody tr th:only-of-type {\n",
       "        vertical-align: middle;\n",
       "    }\n",
       "\n",
       "    .dataframe tbody tr th {\n",
       "        vertical-align: top;\n",
       "    }\n",
       "\n",
       "    .dataframe thead th {\n",
       "        text-align: right;\n",
       "    }\n",
       "</style>\n",
       "<table border=\"1\" class=\"dataframe\">\n",
       "  <thead>\n",
       "    <tr style=\"text-align: right;\">\n",
       "      <th></th>\n",
       "      <th>treatment</th>\n",
       "      <th>outcome</th>\n",
       "    </tr>\n",
       "    <tr>\n",
       "      <th>person</th>\n",
       "      <th></th>\n",
       "      <th></th>\n",
       "    </tr>\n",
       "  </thead>\n",
       "  <tbody>\n",
       "    <tr>\n",
       "      <th>1</th>\n",
       "      <td>NoDrug</td>\n",
       "      <td>1.009217</td>\n",
       "    </tr>\n",
       "    <tr>\n",
       "      <th>2</th>\n",
       "      <td>Placebo</td>\n",
       "      <td>1.000000</td>\n",
       "    </tr>\n",
       "    <tr>\n",
       "      <th>3</th>\n",
       "      <td>NoDrug</td>\n",
       "      <td>0.945455</td>\n",
       "    </tr>\n",
       "    <tr>\n",
       "      <th>4</th>\n",
       "      <td>NoDrug</td>\n",
       "      <td>0.971429</td>\n",
       "    </tr>\n",
       "    <tr>\n",
       "      <th>5</th>\n",
       "      <td>Drug</td>\n",
       "      <td>0.869048</td>\n",
       "    </tr>\n",
       "  </tbody>\n",
       "</table>\n",
       "</div>"
      ],
      "text/plain": [
       "       treatment   outcome\n",
       "person                    \n",
       "1         NoDrug  1.009217\n",
       "2        Placebo  1.000000\n",
       "3         NoDrug  0.945455\n",
       "4         NoDrug  0.971429\n",
       "5           Drug  0.869048"
      ]
     },
     "execution_count": 137,
     "metadata": {},
     "output_type": "execute_result"
    }
   ],
   "source": [
    "subdf = df.query('weeks == 0 or weeks == 3')[['person', 'weeks', 'cfu', 'trt']]\n",
    "subdf = subdf.pivot(index='person', columns='weeks')\n",
    "subdf.columns = subdf.columns.to_flat_index()\n",
    "\n",
    "subdf['outcome'] = subdf[('cfu', 3)] / subdf[('cfu', 0)]\n",
    "\n",
    "subdf = subdf.rename(columns={('trt', 0): 'treatment'})\n",
    "subdf = subdf.drop(columns=[('trt', 3), ('cfu', 0), ('cfu', 3)])\n",
    "\n",
    "print(f\"num rows = {subdf.shape[0]}\")\n",
    "subdf.head()"
   ]
  },
  {
   "cell_type": "code",
   "execution_count": 134,
   "id": "53e3219f-5554-458f-875b-0bc0ae3d46ba",
   "metadata": {},
   "outputs": [
    {
     "data": {
      "text/plain": [
       "<AxesSubplot:>"
      ]
     },
     "execution_count": 134,
     "metadata": {},
     "output_type": "execute_result"
    },
    {
     "data": {
      "image/png": "[encoded data removed]",
      "text/plain": [
       "<Figure size 432x288 with 1 Axes>"
      ]
     },
     "metadata": {
      "needs_background": "light"
     },
     "output_type": "display_data"
    }
   ],
   "source": [
    "subdf['outcome'].hist()"
   ]
  },
  {
   "cell_type": "markdown",
   "id": "720daf29-88fa-4703-9b18-b83a821eb380",
   "metadata": {},
   "source": [
    "The data looks roughly normally distributed, allowing us to consider using ANOVA."
   ]
  },
  {
   "cell_type": "markdown",
   "id": "9afa726d-531b-4351-9d9a-a1d5f6a5a00f",
   "metadata": {},
   "source": [
    "## A7.26(b)"
   ]
  },
  {
   "cell_type": "code",
   "execution_count": 141,
   "id": "ec18c51e-06b7-43ab-b7d7-3acdf4229e8c",
   "metadata": {},
   "outputs": [
    {
     "data": {
      "text/html": [
       "<div>\n",
       "<style scoped>\n",
       "    .dataframe tbody tr th:only-of-type {\n",
       "        vertical-align: middle;\n",
       "    }\n",
       "\n",
       "    .dataframe tbody tr th {\n",
       "        vertical-align: top;\n",
       "    }\n",
       "\n",
       "    .dataframe thead th {\n",
       "        text-align: right;\n",
       "    }\n",
       "</style>\n",
       "<table border=\"1\" class=\"dataframe\">\n",
       "  <thead>\n",
       "    <tr style=\"text-align: right;\">\n",
       "      <th></th>\n",
       "      <th>Sample Size</th>\n",
       "      <th>Mean</th>\n",
       "      <th>Std Dev</th>\n",
       "      <th>Min</th>\n",
       "      <th>Q1</th>\n",
       "      <th>Q3</th>\n",
       "      <th>Max</th>\n",
       "    </tr>\n",
       "    <tr>\n",
       "      <th>treatment</th>\n",
       "      <th></th>\n",
       "      <th></th>\n",
       "      <th></th>\n",
       "      <th></th>\n",
       "      <th></th>\n",
       "      <th></th>\n",
       "      <th></th>\n",
       "    </tr>\n",
       "  </thead>\n",
       "  <tbody>\n",
       "    <tr>\n",
       "      <th>Drug</th>\n",
       "      <td>58</td>\n",
       "      <td>0.813</td>\n",
       "      <td>0.152</td>\n",
       "      <td>0.520</td>\n",
       "      <td>0.716</td>\n",
       "      <td>0.875</td>\n",
       "      <td>1.500</td>\n",
       "    </tr>\n",
       "    <tr>\n",
       "      <th>NoDrug</th>\n",
       "      <td>50</td>\n",
       "      <td>1.012</td>\n",
       "      <td>0.157</td>\n",
       "      <td>0.630</td>\n",
       "      <td>0.921</td>\n",
       "      <td>1.109</td>\n",
       "      <td>1.478</td>\n",
       "    </tr>\n",
       "    <tr>\n",
       "      <th>Placebo</th>\n",
       "      <td>50</td>\n",
       "      <td>0.963</td>\n",
       "      <td>0.118</td>\n",
       "      <td>0.719</td>\n",
       "      <td>0.896</td>\n",
       "      <td>1.028</td>\n",
       "      <td>1.217</td>\n",
       "    </tr>\n",
       "  </tbody>\n",
       "</table>\n",
       "</div>"
      ],
      "text/plain": [
       "           Sample Size   Mean  Std Dev    Min     Q1     Q3    Max\n",
       "treatment                                                         \n",
       "Drug                58  0.813    0.152  0.520  0.716  0.875  1.500\n",
       "NoDrug              50  1.012    0.157  0.630  0.921  1.109  1.478\n",
       "Placebo             50  0.963    0.118  0.719  0.896  1.028  1.217"
      ]
     },
     "execution_count": 141,
     "metadata": {},
     "output_type": "execute_result"
    }
   ],
   "source": [
    "summary = pd.DataFrame()\n",
    "gb = subdf.groupby('treatment')\n",
    "\n",
    "summary['Sample Size'] = gb.count()\n",
    "summary['Mean'] = gb.mean()\n",
    "summary['Std Dev'] = gb.std()\n",
    "summary['Min'] = gb.min()\n",
    "summary['Q1'] = gb.quantile(.25)\n",
    "summary['Q3'] = gb.quantile(.75)\n",
    "summary['Max'] = gb.max()\n",
    "\n",
    "summary.round(3)"
   ]
  },
  {
   "cell_type": "markdown",
   "id": "a12d2fe1-5313-4d4f-b5ed-365660d1600b",
   "metadata": {},
   "source": [
    "## A7.26(c)"
   ]
  },
  {
   "cell_type": "code",
   "execution_count": 164,
   "id": "a2c51645-38ef-41df-8440-6d02eb6a62d4",
   "metadata": {},
   "outputs": [
    {
     "data": {
      "text/html": [
       "<div>\n",
       "<style scoped>\n",
       "    .dataframe tbody tr th:only-of-type {\n",
       "        vertical-align: middle;\n",
       "    }\n",
       "\n",
       "    .dataframe tbody tr th {\n",
       "        vertical-align: top;\n",
       "    }\n",
       "\n",
       "    .dataframe thead th {\n",
       "        text-align: right;\n",
       "    }\n",
       "</style>\n",
       "<table border=\"1\" class=\"dataframe\">\n",
       "  <thead>\n",
       "    <tr style=\"text-align: right;\">\n",
       "      <th></th>\n",
       "      <th>Sum Sq</th>\n",
       "      <th>df</th>\n",
       "      <th>Mean Sq</th>\n",
       "      <th>F Statistic</th>\n",
       "      <th>p-value</th>\n",
       "    </tr>\n",
       "  </thead>\n",
       "  <tbody>\n",
       "    <tr>\n",
       "      <th>Between</th>\n",
       "      <td>1.181160</td>\n",
       "      <td>2.0</td>\n",
       "      <td>0.590580</td>\n",
       "      <td>28.505567</td>\n",
       "      <td>2.870183e-11</td>\n",
       "    </tr>\n",
       "    <tr>\n",
       "      <th>Within</th>\n",
       "      <td>3.211299</td>\n",
       "      <td>155.0</td>\n",
       "      <td>0.020718</td>\n",
       "      <td>NaN</td>\n",
       "      <td>NaN</td>\n",
       "    </tr>\n",
       "    <tr>\n",
       "      <th>Total</th>\n",
       "      <td>4.392459</td>\n",
       "      <td>157.0</td>\n",
       "      <td>NaN</td>\n",
       "      <td>NaN</td>\n",
       "      <td>NaN</td>\n",
       "    </tr>\n",
       "  </tbody>\n",
       "</table>\n",
       "</div>"
      ],
      "text/plain": [
       "           Sum Sq     df   Mean Sq  F Statistic       p-value\n",
       "Between  1.181160    2.0  0.590580    28.505567  2.870183e-11\n",
       "Within   3.211299  155.0  0.020718          NaN           NaN\n",
       "Total    4.392459  157.0       NaN          NaN           NaN"
      ]
     },
     "execution_count": 164,
     "metadata": {},
     "output_type": "execute_result"
    }
   ],
   "source": [
    "n = summary['Sample Size'].sum()\n",
    "k = 3\n",
    "mean = (summary['Sample Size'] * summary['Mean']).sum() / n\n",
    "\n",
    "SSW = ((summary['Sample Size'] - 1) * summary['Std Dev'] ** 2).sum()\n",
    "SSB = (summary['Sample Size'] * (summary['Mean'] - mean) ** 2).sum()\n",
    "MSW = SSW / (n - k)\n",
    "MSB = SSB / (k - 1)\n",
    "F = MSB / MSW\n",
    "pval = stats.f(k-1, n-k).sf(F)\n",
    "\n",
    "anova = pd.DataFrame()\n",
    "anova.loc['Between', 'Sum Sq'] = SSB\n",
    "anova.loc['Within', 'Sum Sq'] = SSW\n",
    "anova.loc['Total', 'Sum Sq'] = SSB + SSW\n",
    "anova.loc['Between', 'df'] = k - 1\n",
    "anova.loc['Within', 'df'] = n - k\n",
    "anova.loc['Total', 'df'] = n - 1\n",
    "anova.loc['Within', 'Sum Sq'] = SSW\n",
    "anova.loc['Between', 'Mean Sq'] = MSB\n",
    "anova.loc['Within', 'Mean Sq'] = MSW\n",
    "anova.loc['Between', 'F Statistic'] = F\n",
    "anova.loc['Between', 'p-value'] = pval\n",
    "\n",
    "anova"
   ]
  },
  {
   "cell_type": "markdown",
   "id": "6f0f29b0-e906-40a8-ac17-9d70417814da",
   "metadata": {},
   "source": [
    "## A7.26(d)"
   ]
  },
  {
   "cell_type": "code",
   "execution_count": 158,
   "id": "3bd36fde-d795-4150-b2e1-1fb7625ea46e",
   "metadata": {},
   "outputs": [
    {
     "name": "stdout",
     "output_type": "stream",
     "text": [
      "Tukey adjusted p-values\n",
      "-----------------------\n",
      "Drug   vs. NoDrug  : 8.539e-11\n",
      "Drug   vs. Placebo : 6.911e-07\n",
      "NoDrug vs. Placebo : 0.2095\n"
     ]
    }
   ],
   "source": [
    "pairs = [\n",
    "    ['Drug', 'NoDrug'],\n",
    "    ['Drug', 'Placebo'],\n",
    "    ['NoDrug', 'Placebo'],\n",
    "]\n",
    "\n",
    "print(\"Tukey adjusted p-values\\n-----------------------\")\n",
    "for trt1, trt2 in pairs:\n",
    "    n1 = summary.loc[trt1, 'Sample Size']\n",
    "    n2 = summary.loc[trt2, 'Sample Size']\n",
    "\n",
    "    diff = abs(summary.loc[trt1, 'Mean'] - summary.loc[trt2, 'Mean'])\n",
    "    se = np.sqrt(MSW * (1 / n1 + 1 / n2) / 2)\n",
    "\n",
    "    pval = stats.studentized_range(k, n-k).sf(diff / se)\n",
    "    pair_string = f\"{trt1 :6} vs. {trt2}\"\n",
    "    print(f\"{pair_string :18} : {pval :.4}\")"
   ]
  }
 ],
 "metadata": {
  "kernelspec": {
   "display_name": "Python [conda env:ds] *",
   "language": "python",
   "name": "conda-env-ds-py"
  },
  "language_info": {
   "codemirror_mode": {
    "name": "ipython",
    "version": 3
   },
   "file_extension": ".py",
   "mimetype": "text/x-python",
   "name": "python",
   "nbconvert_exporter": "python",
   "pygments_lexer": "ipython3",
   "version": "3.9.7"
  }
 },
 "nbformat": 4,
 "nbformat_minor": 5
}
