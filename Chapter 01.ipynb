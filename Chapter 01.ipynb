{
 "cells": [
  {
   "cell_type": "code",
   "execution_count": 38,
   "id": "7ce2e3f2-e816-41df-acfd-d111822c6100",
   "metadata": {},
   "outputs": [],
   "source": [
    "import numpy as np\n",
    "import pandas as pd\n",
    "from IPython.display import Markdown as md"
   ]
  },
  {
   "cell_type": "markdown",
   "id": "fbdf8078-ea64-46d9-9c7c-da2bbc4f02fc",
   "metadata": {},
   "source": [
    "# Q1.1\n",
    "Self‐reported injuries among left‐ and right‐handed people were compared in a\n",
    "survey of 1986 college students in British Columbia, Canada. Of the 180 lefthanded\n",
    "students, 93 reported at least one injury, and 619 of the 1716 righthanded\n",
    "students reported at least one injury in the same period. Arrange the\n",
    "data in a 2 × 2 table and calculate the proportion of people with at least one\n",
    "injury during the period of observation for each group."
   ]
  },
  {
   "cell_type": "markdown",
   "id": "aef7c5be-e979-4ae1-805c-356508be9d0e",
   "metadata": {},
   "source": [
    "## A1.1"
   ]
  },
  {
   "cell_type": "code",
   "execution_count": 39,
   "id": "a10b24ca-6388-4100-95f9-0547c7878f32",
   "metadata": {},
   "outputs": [
    {
     "data": {
      "text/html": [
       "<div>\n",
       "<style scoped>\n",
       "    .dataframe tbody tr th:only-of-type {\n",
       "        vertical-align: middle;\n",
       "    }\n",
       "\n",
       "    .dataframe tbody tr th {\n",
       "        vertical-align: top;\n",
       "    }\n",
       "\n",
       "    .dataframe thead th {\n",
       "        text-align: right;\n",
       "    }\n",
       "</style>\n",
       "<table border=\"1\" class=\"dataframe\">\n",
       "  <thead>\n",
       "    <tr style=\"text-align: right;\">\n",
       "      <th></th>\n",
       "      <th>Left-handed</th>\n",
       "      <th>Right-handed</th>\n",
       "    </tr>\n",
       "  </thead>\n",
       "  <tbody>\n",
       "    <tr>\n",
       "      <th>Injury</th>\n",
       "      <td>93</td>\n",
       "      <td>619</td>\n",
       "    </tr>\n",
       "    <tr>\n",
       "      <th>No Injury</th>\n",
       "      <td>87</td>\n",
       "      <td>1097</td>\n",
       "    </tr>\n",
       "  </tbody>\n",
       "</table>\n",
       "</div>"
      ],
      "text/plain": [
       "           Left-handed  Right-handed\n",
       "Injury              93           619\n",
       "No Injury           87          1097"
      ]
     },
     "execution_count": 39,
     "metadata": {},
     "output_type": "execute_result"
    }
   ],
   "source": [
    "df = pd.DataFrame()\n",
    "df.loc['Injury', 'Left-handed'] = 93\n",
    "df.loc['No Injury', 'Left-handed'] = 180 - 93\n",
    "df.loc['Injury', 'Right-handed'] = 619\n",
    "df.loc['No Injury', 'Right-handed'] = 1716 - 619\n",
    "\n",
    "df.astype(np.int64)"
   ]
  },
  {
   "cell_type": "code",
   "execution_count": 40,
   "id": "0598123d-a4dd-4f62-b55d-a74e48ced921",
   "metadata": {},
   "outputs": [
    {
     "name": "stdout",
     "output_type": "stream",
     "text": [
      "Left-handed injured proportion :  0.517\n",
      "Right-handed injured proportion:  0.361\n"
     ]
    }
   ],
   "source": [
    "left_prop = df.loc['Injury', 'Left-handed'] / df['Left-handed'].sum()\n",
    "right_prop = df.loc['Injury', 'Right-handed'] / df[ 'Right-handed'].sum()\n",
    "\n",
    "print(f\"Left-handed injured proportion : {left_prop : .3f}\")\n",
    "print(f\"Right-handed injured proportion: {right_prop : .3f}\")"
   ]
  },
  {
   "cell_type": "code",
   "execution_count": null,
   "id": "d95d5a58-ac44-4985-b7f8-d13f07ba340e",
   "metadata": {},
   "outputs": [],
   "source": []
  },
  {
   "cell_type": "code",
   "execution_count": null,
   "id": "933f8720-16d2-421a-bddf-48a8268c287a",
   "metadata": {},
   "outputs": [],
   "source": []
  },
  {
   "cell_type": "code",
   "execution_count": null,
   "id": "22e6c9d3-eae6-4606-b0ff-2e8b104dce62",
   "metadata": {},
   "outputs": [],
   "source": []
  },
  {
   "cell_type": "code",
   "execution_count": null,
   "id": "27c22194-bd09-42a2-b192-ca65259bf796",
   "metadata": {},
   "outputs": [],
   "source": []
  },
  {
   "cell_type": "code",
   "execution_count": null,
   "id": "4cbef108-50e2-4e25-a53f-84f1e7feb740",
   "metadata": {},
   "outputs": [],
   "source": []
  },
  {
   "cell_type": "code",
   "execution_count": null,
   "id": "84e825ab-7de3-42c6-ac41-9662d9055d8c",
   "metadata": {},
   "outputs": [],
   "source": []
  }
 ],
 "metadata": {
  "kernelspec": {
   "display_name": "Python [conda env:ds] *",
   "language": "python",
   "name": "conda-env-ds-py"
  },
  "language_info": {
   "codemirror_mode": {
    "name": "ipython",
    "version": 3
   },
   "file_extension": ".py",
   "mimetype": "text/x-python",
   "name": "python",
   "nbconvert_exporter": "python",
   "pygments_lexer": "ipython3",
   "version": "3.9.7"
  },
  "toc-autonumbering": false,
  "toc-showcode": false,
  "toc-showmarkdowntxt": false
 },
 "nbformat": 4,
 "nbformat_minor": 5
}
