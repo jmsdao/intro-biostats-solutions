{
 "cells": [
  {
   "cell_type": "code",
   "execution_count": 2,
   "id": "8413debb-8655-415a-85e3-26b9768daf16",
   "metadata": {},
   "outputs": [],
   "source": [
    "import numpy as np\n",
    "import pandas as pd"
   ]
  },
  {
   "cell_type": "markdown",
   "id": "416b7d6a-8664-4c1c-9ad9-22445bd11083",
   "metadata": {
    "toc-hr-collapsed": true
   },
   "source": [
    "# Q2.1\n",
    "Table E2.1 gives the values of serum cholesterol levels for 1067 American men\n",
    "aged 25–34 years.\n",
    "(a) Plot the histogram, frequency polygon, and cumulative frequency graph.\n",
    "(b) Find, approximately, the median using your cumulative frequency graph."
   ]
  },
  {
   "cell_type": "code",
   "execution_count": 16,
   "id": "44ae2020-cdf0-43b8-89f4-b641f89ee421",
   "metadata": {},
   "outputs": [
    {
     "data": {
      "text/html": [
       "<div>\n",
       "<style scoped>\n",
       "    .dataframe tbody tr th:only-of-type {\n",
       "        vertical-align: middle;\n",
       "    }\n",
       "\n",
       "    .dataframe tbody tr th {\n",
       "        vertical-align: top;\n",
       "    }\n",
       "\n",
       "    .dataframe thead th {\n",
       "        text-align: right;\n",
       "    }\n",
       "</style>\n",
       "<table border=\"1\" class=\"dataframe\">\n",
       "  <thead>\n",
       "    <tr style=\"text-align: right;\">\n",
       "      <th></th>\n",
       "      <th>Number of men</th>\n",
       "    </tr>\n",
       "    <tr>\n",
       "      <th>Cholesterol level (mg/100 mL)</th>\n",
       "      <th></th>\n",
       "    </tr>\n",
       "  </thead>\n",
       "  <tbody>\n",
       "    <tr>\n",
       "      <th>80–119</th>\n",
       "      <td>13</td>\n",
       "    </tr>\n",
       "    <tr>\n",
       "      <th>120–159</th>\n",
       "      <td>150</td>\n",
       "    </tr>\n",
       "    <tr>\n",
       "      <th>160–199</th>\n",
       "      <td>442</td>\n",
       "    </tr>\n",
       "    <tr>\n",
       "      <th>200–239</th>\n",
       "      <td>299</td>\n",
       "    </tr>\n",
       "    <tr>\n",
       "      <th>240–279</th>\n",
       "      <td>115</td>\n",
       "    </tr>\n",
       "    <tr>\n",
       "      <th>280–319</th>\n",
       "      <td>34</td>\n",
       "    </tr>\n",
       "    <tr>\n",
       "      <th>320–399</th>\n",
       "      <td>14</td>\n",
       "    </tr>\n",
       "    <tr>\n",
       "      <th>Total</th>\n",
       "      <td>1067</td>\n",
       "    </tr>\n",
       "  </tbody>\n",
       "</table>\n",
       "</div>"
      ],
      "text/plain": [
       "                               Number of men\n",
       "Cholesterol level (mg/100 mL)               \n",
       "80–119                                    13\n",
       "120–159                                  150\n",
       "160–199                                  442\n",
       "200–239                                  299\n",
       "240–279                                  115\n",
       "280–319                                   34\n",
       "320–399                                   14\n",
       "Total                                   1067"
      ]
     },
     "execution_count": 16,
     "metadata": {},
     "output_type": "execute_result"
    }
   ],
   "source": [
    "index = ['80–119', '120–159', '160–199', '200–239', '240–279', '280–319', '320–399', 'Total']\n",
    "\n",
    "columns = ['Number of men']\n",
    "\n",
    "data = [13, 150, 442, 299, 115, 34, 14, 1067]\n",
    "\n",
    "df = pd.DataFrame(data=data, index=index, columns=columns)\n",
    "df.index = df.index.rename('Cholesterol level (mg/100 mL)')\n",
    "\n",
    "df"
   ]
  },
  {
   "cell_type": "markdown",
   "id": "aacd1aa4-973a-4640-8154-098607914134",
   "metadata": {},
   "source": [
    "## A2.1(a)"
   ]
  },
  {
   "cell_type": "code",
   "execution_count": 55,
   "id": "5ad605e0-9046-4b83-898d-a77bc371ceda",
   "metadata": {},
   "outputs": [
    {
     "data": {
      "image/png": "[encoded data removed]",
      "text/plain": [
       "<Figure size 432x288 with 1 Axes>"
      ]
     },
     "metadata": {
      "needs_background": "light"
     },
     "output_type": "display_data"
    }
   ],
   "source": [
    "# Histogram\n",
    "df.iloc[:-1].plot.bar(width=1);"
   ]
  },
  {
   "cell_type": "code",
   "execution_count": 57,
   "id": "75cede22-f40d-469c-82a2-36f553fb4e92",
   "metadata": {},
   "outputs": [
    {
     "data": {
      "image/png": "[encoded data removed]",
      "text/plain": [
       "<Figure size 432x288 with 1 Axes>"
      ]
     },
     "metadata": {
      "needs_background": "light"
     },
     "output_type": "display_data"
    }
   ],
   "source": [
    "# Frequency polygon\n",
    "df.iloc[:-1].plot.line();"
   ]
  },
  {
   "cell_type": "code",
   "execution_count": 58,
   "id": "b2a38d5c-c290-42a9-8610-0be32012c64a",
   "metadata": {},
   "outputs": [
    {
     "data": {
      "image/png": "[encoded data removed]",
      "text/plain": [
       "<Figure size 432x288 with 1 Axes>"
      ]
     },
     "metadata": {
      "needs_background": "light"
     },
     "output_type": "display_data"
    }
   ],
   "source": [
    "# Cumulative frequency graph\n",
    "cum_freq.plot.line(ylabel='Relative frequency (%)');"
   ]
  },
  {
   "cell_type": "markdown",
   "id": "021bcaaf-0ddb-46ab-8f0b-2f4e4f62043f",
   "metadata": {},
   "source": [
    "## A2.1(b)\n",
    "Median is approx. 160-199."
   ]
  },
  {
   "cell_type": "markdown",
   "id": "60b735b3-7a91-40c3-bbab-077280b97a47",
   "metadata": {
    "toc-hr-collapsed": true
   },
   "source": [
    "# Q2.5\n",
    "The following are the daily fat intake (grams) of a group of 150 adult males."
   ]
  },
  {
   "cell_type": "code",
   "execution_count": 75,
   "id": "6d05df47-2387-4347-896b-91c9878b4c6f",
   "metadata": {},
   "outputs": [],
   "source": [
    "data = np.array([\n",
    "    22, 62, 77, 84, 91, 102, 117, 129, 137, 141, 42, 56, 78, 73, 96, 105, 117, 125,\n",
    "    135, 143, 37, 69, 82, 93, 93, 100, 114, 124, 135, 142, 30, 77, 81, 94, 97, 102,\n",
    "    119, 125, 138, 142, 46, 89, 88, 99, 95, 100, 116, 121, 131, 152, 63, 85, 81, 94,\n",
    "    93, 106, 114, 127, 133, 155, 51, 80, 88, 98, 97, 106, 119, 122, 134, 151, 52, 70,\n",
    "    76, 95, 107, 105, 117, 128, 144, 150, 68, 79, 82, 96, 109, 108, 117, 120, 147, 153\n",
    "])"
   ]
  },
  {
   "cell_type": "markdown",
   "id": "3f791b55-e3f9-42dd-a9f4-4dc8d28a167f",
   "metadata": {},
   "source": [
    "(a) Form a frequency distribution, including relative frequencies and cumulative\n",
    "relative frequencies.\n",
    "\n",
    "(b) Plot the frequency polygon and investigate the symmetry of the distribution.\n",
    "\n",
    "(c) Plot the cumulative frequency graph and find the 25th and 75th percentiles. Also\n",
    "calculate the midrange = 75th percentile – 25th percentile. (This is also called\n",
    "the Inter‐quartile Range (IQR) and is another good descriptive measure of variation;\n",
    "it is similar to the range but is less affected by extreme observations.)"
   ]
  },
  {
   "cell_type": "markdown",
   "id": "b4a95ede-4a6a-4f28-9cc4-c6b7082428d7",
   "metadata": {},
   "source": [
    "## A2.5(a)"
   ]
  },
  {
   "cell_type": "code",
   "execution_count": 116,
   "id": "96a6e329-f64e-4947-92da-139203a57a7f",
   "metadata": {},
   "outputs": [
    {
     "data": {
      "text/html": [
       "<div>\n",
       "<style scoped>\n",
       "    .dataframe tbody tr th:only-of-type {\n",
       "        vertical-align: middle;\n",
       "    }\n",
       "\n",
       "    .dataframe tbody tr th {\n",
       "        vertical-align: top;\n",
       "    }\n",
       "\n",
       "    .dataframe thead th {\n",
       "        text-align: right;\n",
       "    }\n",
       "</style>\n",
       "<table border=\"1\" class=\"dataframe\">\n",
       "  <thead>\n",
       "    <tr style=\"text-align: right;\">\n",
       "      <th></th>\n",
       "      <th>Frequency</th>\n",
       "      <th>Relative Frequency</th>\n",
       "      <th>Cumulative Relative Frequency (%)</th>\n",
       "    </tr>\n",
       "  </thead>\n",
       "  <tbody>\n",
       "    <tr>\n",
       "      <th>(21.867, 35.3]</th>\n",
       "      <td>2</td>\n",
       "      <td>0.022</td>\n",
       "      <td>2.222</td>\n",
       "    </tr>\n",
       "    <tr>\n",
       "      <th>(35.3, 48.6]</th>\n",
       "      <td>3</td>\n",
       "      <td>0.033</td>\n",
       "      <td>5.556</td>\n",
       "    </tr>\n",
       "    <tr>\n",
       "      <th>(48.6, 61.9]</th>\n",
       "      <td>3</td>\n",
       "      <td>0.033</td>\n",
       "      <td>8.889</td>\n",
       "    </tr>\n",
       "    <tr>\n",
       "      <th>(61.9, 75.2]</th>\n",
       "      <td>6</td>\n",
       "      <td>0.067</td>\n",
       "      <td>15.556</td>\n",
       "    </tr>\n",
       "    <tr>\n",
       "      <th>(75.2, 88.5]</th>\n",
       "      <td>14</td>\n",
       "      <td>0.156</td>\n",
       "      <td>31.111</td>\n",
       "    </tr>\n",
       "    <tr>\n",
       "      <th>(88.5, 101.8]</th>\n",
       "      <td>17</td>\n",
       "      <td>0.189</td>\n",
       "      <td>50.000</td>\n",
       "    </tr>\n",
       "    <tr>\n",
       "      <th>(101.8, 115.1]</th>\n",
       "      <td>11</td>\n",
       "      <td>0.122</td>\n",
       "      <td>62.222</td>\n",
       "    </tr>\n",
       "    <tr>\n",
       "      <th>(115.1, 128.4]</th>\n",
       "      <td>15</td>\n",
       "      <td>0.167</td>\n",
       "      <td>78.889</td>\n",
       "    </tr>\n",
       "    <tr>\n",
       "      <th>(128.4, 141.7]</th>\n",
       "      <td>9</td>\n",
       "      <td>0.100</td>\n",
       "      <td>88.889</td>\n",
       "    </tr>\n",
       "    <tr>\n",
       "      <th>(141.7, 155.0]</th>\n",
       "      <td>10</td>\n",
       "      <td>0.111</td>\n",
       "      <td>100.000</td>\n",
       "    </tr>\n",
       "  </tbody>\n",
       "</table>\n",
       "</div>"
      ],
      "text/plain": [
       "                Frequency  Relative Frequency  \\\n",
       "(21.867, 35.3]          2               0.022   \n",
       "(35.3, 48.6]            3               0.033   \n",
       "(48.6, 61.9]            3               0.033   \n",
       "(61.9, 75.2]            6               0.067   \n",
       "(75.2, 88.5]           14               0.156   \n",
       "(88.5, 101.8]          17               0.189   \n",
       "(101.8, 115.1]         11               0.122   \n",
       "(115.1, 128.4]         15               0.167   \n",
       "(128.4, 141.7]          9               0.100   \n",
       "(141.7, 155.0]         10               0.111   \n",
       "\n",
       "                Cumulative Relative Frequency (%)  \n",
       "(21.867, 35.3]                              2.222  \n",
       "(35.3, 48.6]                                5.556  \n",
       "(48.6, 61.9]                                8.889  \n",
       "(61.9, 75.2]                               15.556  \n",
       "(75.2, 88.5]                               31.111  \n",
       "(88.5, 101.8]                              50.000  \n",
       "(101.8, 115.1]                             62.222  \n",
       "(115.1, 128.4]                             78.889  \n",
       "(128.4, 141.7]                             88.889  \n",
       "(141.7, 155.0]                            100.000  "
      ]
     },
     "execution_count": 116,
     "metadata": {},
     "output_type": "execute_result"
    }
   ],
   "source": [
    "freqs = pd.cut(data, bins=10).value_counts()\n",
    "df = pd.DataFrame(freqs, columns=['Frequency'])\n",
    "df['Relative Frequency'] = df['Frequency'] / df['Frequency'].sum()\n",
    "df['Cumulative Relative Frequency (%)'] = df['Relative Frequency'].cumsum() * 100\n",
    "df.round(3)"
   ]
  },
  {
   "cell_type": "markdown",
   "id": "7cd8adf0-afb5-4493-9618-6c2c875fe423",
   "metadata": {},
   "source": [
    "## A2.5(b)"
   ]
  },
  {
   "cell_type": "code",
   "execution_count": 117,
   "id": "e603e19e-69c7-4359-8712-ff940fd9f4e1",
   "metadata": {},
   "outputs": [
    {
     "data": {
      "image/png": "[encoded data removed]",
      "text/plain": [
       "<Figure size 432x288 with 1 Axes>"
      ]
     },
     "metadata": {
      "needs_background": "light"
     },
     "output_type": "display_data"
    }
   ],
   "source": [
    "df['Frequency'].plot.line(rot=90, xticks=np.arange(0, len(df)));"
   ]
  },
  {
   "cell_type": "markdown",
   "id": "8b7427e9-0647-4d30-87ec-5edd9f4f2842",
   "metadata": {},
   "source": [
    "## A2.5(c)"
   ]
  },
  {
   "cell_type": "code",
   "execution_count": 123,
   "id": "75a51d89-cad4-48ec-847e-de007fff66f5",
   "metadata": {},
   "outputs": [
    {
     "data": {
      "image/png": "[encoded data removed]",
      "text/plain": [
       "<Figure size 432x288 with 1 Axes>"
      ]
     },
     "metadata": {
      "needs_background": "light"
     },
     "output_type": "display_data"
    }
   ],
   "source": [
    "df['Cumulative Relative Frequency (%)'].plot.line(\n",
    "    rot=90,\n",
    "    xticks=np.arange(0, len(df)),\n",
    "    ylabel='Cumulative Relative Frequency (%)',\n",
    "    yticks=[0, 25, 50, 75, 100]\n",
    ");"
   ]
  },
  {
   "cell_type": "code",
   "execution_count": 128,
   "id": "05a4b3f2-23a9-43be-88e3-8305ad37fc95",
   "metadata": {},
   "outputs": [
    {
     "name": "stdout",
     "output_type": "stream",
     "text": [
      "25th percentile = 82.0\n",
      "75th percentile = 124.75\n",
      "IQR = 42.75\n"
     ]
    }
   ],
   "source": [
    "pct_25, pct_75 = np.quantile(data, [.25, .75])\n",
    "print(f\"25th percentile = {pct_25}\")\n",
    "print(f\"75th percentile = {pct_75}\")\n",
    "print(f\"IQR = {pct_75 - pct_25}\")"
   ]
  },
  {
   "cell_type": "markdown",
   "id": "a1f934b2-4fe6-4fa0-9d48-166e2ee4b181",
   "metadata": {
    "toc-hr-collapsed": true
   },
   "source": [
    "# Q2.6\n",
    "Refer to the data on daily fat intake in Exercise 2.5.\n",
    "\n",
    "(a) Calculate the mean using raw data.\n",
    "\n",
    "(b) Calculate, approximately, the mean using the frequency table obtained in\n",
    "Exercise 2.5."
   ]
  },
  {
   "cell_type": "markdown",
   "id": "f98f1d22-a134-4360-b6f2-e67438f07a96",
   "metadata": {},
   "source": [
    "## A2.6(a)"
   ]
  },
  {
   "cell_type": "code",
   "execution_count": null,
   "id": "d06c5c7b-a88f-40c4-896d-3152700724d3",
   "metadata": {},
   "outputs": [
    {
     "data": {
      "text/plain": [
       "102.033"
      ]
     },
     "execution_count": 131,
     "metadata": {},
     "output_type": "execute_result"
    }
   ],
   "source": [
    "data.mean().round(3)"
   ]
  },
  {
   "cell_type": "markdown",
   "id": "18ed46c0-5661-41eb-a4e2-653e91a6ef56",
   "metadata": {},
   "source": [
    "## A2.6(b)"
   ]
  },
  {
   "cell_type": "markdown",
   "id": "46776cdb-7353-4c5f-8fcf-2a64c3cd6eaa",
   "metadata": {},
   "source": [
    "To approximate mean $\\bar{x}$ from a frequency distribution table, we use:\n",
    "\n",
    "$\\Large\\bar{x} \\simeq \\frac{\\sum{fm}}{n}$\n",
    "\n",
    "where $f$ denotes frequency, $m$ deontes interval midpoint, and $n$ denotes the total number of observations."
   ]
  },
  {
   "cell_type": "code",
   "execution_count": 152,
   "id": "b056226f-ff24-4a94-b35b-64101c22b3fd",
   "metadata": {},
   "outputs": [
    {
     "name": "stdout",
     "output_type": "stream",
     "text": [
      "Approximated mean = 102.685\n"
     ]
    }
   ],
   "source": [
    "f = df['Frequency']\n",
    "n = df['Frequency'].sum()\n",
    "m = np.array([interval.mid for interval in df.index])\n",
    "\n",
    "mean = (f*m).sum() / n\n",
    "\n",
    "print(f\"Approximated mean = {mean :.3f}\")"
   ]
  },
  {
   "cell_type": "markdown",
   "id": "14e8b736-b690-4be3-9915-c0cb945c0bfc",
   "metadata": {
    "toc-hr-collapsed": true
   },
   "source": [
    "# Q2.15\n",
    "The following are the activity values (micromoles per minute per gram of\n",
    "tissue) of a certain enzyme measured in the normal gastric tissue of 35 patients\n",
    "with gastric carcinoma:"
   ]
  },
  {
   "cell_type": "code",
   "execution_count": 200,
   "id": "de5cb8bb-94db-4c34-b6b6-2857dbac33be",
   "metadata": {},
   "outputs": [],
   "source": [
    "data = np.array([\n",
    "    0.360, 1.189, 0.614, 0.788, 0.273, 2.464, 0.571,\n",
    "    1.827, 0.537, 0.374, 0.449, 0.262, 0.448, 0.971,\n",
    "    0.372, 0.898, 0.411, 0.348, 1.925, 0.550, 0.622,\n",
    "    0.610, 0.319, 0.406, 0.413, 0.767, 0.385, 0.674,\n",
    "    0.521, 0.603, 0.533, 0.662, 1.177, 0.307, 1.499,\n",
    "])"
   ]
  },
  {
   "cell_type": "markdown",
   "id": "d11921d1-6efd-4a76-9f9d-a448fd498e8e",
   "metadata": {},
   "source": [
    "Calculate the mean $\\bar{x}$ , variance $s^2$, and standard deviation $s$."
   ]
  },
  {
   "cell_type": "markdown",
   "id": "736577d3-6fb2-4bde-a1e8-ce6c7f258a75",
   "metadata": {},
   "source": [
    "## A2.15"
   ]
  },
  {
   "cell_type": "code",
   "execution_count": 201,
   "id": "936fa6de-f8b5-41a6-8da5-71289a5b0303",
   "metadata": {},
   "outputs": [
    {
     "name": "stdout",
     "output_type": "stream",
     "text": [
      "Mean = 0.718\n",
      "Variance = 0.261 (manually calculated)\n",
      "Variance = 0.261 (from numpy)\n",
      "Std. dev = 0.511 (manually calculated)\n",
      "Std. dev = 0.511 (from numpy)\n"
     ]
    }
   ],
   "source": [
    "mean = data.mean()\n",
    "\n",
    "var = data.var(ddof=1)  # ddof=1 tells numpy to use n-1 as divisor\n",
    "var_manual = ((data - mean) ** 2).sum() / (len(data) - 1)\n",
    "\n",
    "std = data.std(ddof=1)\n",
    "std_manual = np.sqrt(var_manual)\n",
    "\n",
    "print(f\"Mean = {mean :.3f}\")\n",
    "print(f\"Variance = {var_manual :.3f} (manually calculated)\")\n",
    "print(f\"Variance = {var :.3f} (from numpy)\")\n",
    "print(f\"Std. dev = {std :.3f} (manually calculated)\")\n",
    "print(f\"Std. dev = {std_manual :.3f} (from numpy)\")"
   ]
  },
  {
   "cell_type": "markdown",
   "id": "67fc2e3f-1890-4f5a-8834-bdafd7e026a0",
   "metadata": {},
   "source": [
    "# Q2.24\n",
    "A laboratory investigator interested in the relationship between diet and the development\n",
    "of tumors divided 90 rats into three groups and fed them with low‐fat, saturated‐\n",
    "fat, and unsaturated‐fat diets, respectively. The rats were all the same age and\n",
    "species and were in similar physical condition. An identical amount of tumor cells\n",
    "was injected into a foot pad of each rat. The tumor‐free time is the time from injection\n",
    "of tumor cells to the time that a tumor develops. All 30 rats in the unsaturatedfat\n",
    "diet group developed tumors; tumor‐free times (in days) were:"
   ]
  },
  {
   "cell_type": "code",
   "execution_count": 203,
   "id": "584efade-ff8d-419a-b6b3-89e378a3b75e",
   "metadata": {},
   "outputs": [],
   "source": [
    "data = np.array([\n",
    "    112, 68, 84, 109, 153, 143, 60, 70, 98, 164, 63, 63, 77, 91, 91,\n",
    "    66, 70, 77, 63, 66, 66, 94, 101, 105, 108, 112, 115, 126, 161, 178\n",
    "])"
   ]
  },
  {
   "cell_type": "markdown",
   "id": "7fe566f6-0483-4b3b-a239-42e4f3a24213",
   "metadata": {},
   "source": [
    "Calculate the mean, geometric mean, and median."
   ]
  },
  {
   "cell_type": "markdown",
   "id": "fa7970c7-5e8b-47f2-9850-a70c4ef0e84f",
   "metadata": {},
   "source": [
    "## A2.24"
   ]
  },
  {
   "cell_type": "code",
   "execution_count": 205,
   "id": "08d3cb31-a978-4577-9e30-71f533a0255f",
   "metadata": {},
   "outputs": [
    {
     "name": "stdout",
     "output_type": "stream",
     "text": [
      "Mean = 98.467\n",
      "Geometric mean = 93.363 (calculated manually)\n",
      "Geometric mean = 93.363 (scipy)\n",
      "Median = 92.5\n"
     ]
    }
   ],
   "source": [
    "from scipy.stats.mstats import gmean\n",
    "\n",
    "geo_mean_manual = np.exp(np.log(data).mean())\n",
    "geo_mean = gmean(data)\n",
    "\n",
    "print(f\"Mean = {data.mean() :.3f}\")\n",
    "print(f\"Geometric mean = {geo_mean_manual :.3f} (calculated manually)\")\n",
    "print(f\"Geometric mean = {geo_mean :.3f} (scipy)\")\n",
    "print(f\"Median = {np.median(data)}\")"
   ]
  },
  {
   "cell_type": "markdown",
   "id": "83cbf75d-9ad8-4fd3-9c90-a2c13836b491",
   "metadata": {},
   "source": [
    "# Q2.27\n",
    "Data are shown in Table E2.27 for two groups of patients who died of acute\n",
    "myelogenous leukemia. Patients were classified into the two groups according\n",
    "to the presence or absence of a morphologic characteristic of white cells.\n",
    "\n",
    "Patients termed AG positive were identified by the presence of Auer rods and/\n",
    "or significant granulature of the leukemic cells in the bone marrow at diagnosis.\n",
    "For AG‐negative patients, these factors were absent. Leukemia is a cancer\n",
    "characterized by an overproliferation of white blood cells; the higher the\n",
    "white blood count (WBC), the more severe the disease.\n",
    "\n",
    "(a) Calculate separately for each group (AG positive, AG negative) the mean $\\bar{x}$,\n",
    "variance $s^{2}$, and standard deviation $s$ for survival time.\n",
    "\n",
    "(b) Calculate separately for each group (AG positive, AG negative) the mean,\n",
    "geometric mean, and median for white blood count."
   ]
  },
  {
   "cell_type": "code",
   "execution_count": 206,
   "id": "60778b26-8ecc-4dd4-b610-37328c4adb3a",
   "metadata": {},
   "outputs": [
    {
     "data": {
      "text/html": [
       "<div>\n",
       "<style scoped>\n",
       "    .dataframe tbody tr th:only-of-type {\n",
       "        vertical-align: middle;\n",
       "    }\n",
       "\n",
       "    .dataframe tbody tr th {\n",
       "        vertical-align: top;\n",
       "    }\n",
       "\n",
       "    .dataframe thead tr th {\n",
       "        text-align: left;\n",
       "    }\n",
       "</style>\n",
       "<table border=\"1\" class=\"dataframe\">\n",
       "  <thead>\n",
       "    <tr>\n",
       "      <th></th>\n",
       "      <th colspan=\"2\" halign=\"left\">AG positive, N = 17</th>\n",
       "      <th colspan=\"2\" halign=\"left\">AG negative, N = 16</th>\n",
       "    </tr>\n",
       "    <tr>\n",
       "      <th></th>\n",
       "      <th>WBC</th>\n",
       "      <th>Survival time (weeks)</th>\n",
       "      <th>WBC</th>\n",
       "      <th>Survival time (weeks)</th>\n",
       "    </tr>\n",
       "  </thead>\n",
       "  <tbody>\n",
       "    <tr>\n",
       "      <th>0</th>\n",
       "      <td>2300</td>\n",
       "      <td>65</td>\n",
       "      <td>4400.0</td>\n",
       "      <td>56.0</td>\n",
       "    </tr>\n",
       "    <tr>\n",
       "      <th>1</th>\n",
       "      <td>750</td>\n",
       "      <td>156</td>\n",
       "      <td>3000.0</td>\n",
       "      <td>65.0</td>\n",
       "    </tr>\n",
       "    <tr>\n",
       "      <th>2</th>\n",
       "      <td>4300</td>\n",
       "      <td>100</td>\n",
       "      <td>4000.0</td>\n",
       "      <td>17.0</td>\n",
       "    </tr>\n",
       "    <tr>\n",
       "      <th>3</th>\n",
       "      <td>2600</td>\n",
       "      <td>134</td>\n",
       "      <td>1500.0</td>\n",
       "      <td>7.0</td>\n",
       "    </tr>\n",
       "    <tr>\n",
       "      <th>4</th>\n",
       "      <td>6000</td>\n",
       "      <td>16</td>\n",
       "      <td>9000.0</td>\n",
       "      <td>16.0</td>\n",
       "    </tr>\n",
       "    <tr>\n",
       "      <th>5</th>\n",
       "      <td>10500</td>\n",
       "      <td>108</td>\n",
       "      <td>5300.0</td>\n",
       "      <td>22.0</td>\n",
       "    </tr>\n",
       "    <tr>\n",
       "      <th>6</th>\n",
       "      <td>10000</td>\n",
       "      <td>121</td>\n",
       "      <td>10000.0</td>\n",
       "      <td>3.0</td>\n",
       "    </tr>\n",
       "    <tr>\n",
       "      <th>7</th>\n",
       "      <td>17000</td>\n",
       "      <td>4</td>\n",
       "      <td>19000.0</td>\n",
       "      <td>4.0</td>\n",
       "    </tr>\n",
       "    <tr>\n",
       "      <th>8</th>\n",
       "      <td>5400</td>\n",
       "      <td>39</td>\n",
       "      <td>27000.0</td>\n",
       "      <td>2.0</td>\n",
       "    </tr>\n",
       "    <tr>\n",
       "      <th>9</th>\n",
       "      <td>7000</td>\n",
       "      <td>143</td>\n",
       "      <td>28000.0</td>\n",
       "      <td>3.0</td>\n",
       "    </tr>\n",
       "    <tr>\n",
       "      <th>10</th>\n",
       "      <td>9400</td>\n",
       "      <td>56</td>\n",
       "      <td>31000.0</td>\n",
       "      <td>8.0</td>\n",
       "    </tr>\n",
       "    <tr>\n",
       "      <th>11</th>\n",
       "      <td>32000</td>\n",
       "      <td>26</td>\n",
       "      <td>26000.0</td>\n",
       "      <td>4.0</td>\n",
       "    </tr>\n",
       "    <tr>\n",
       "      <th>12</th>\n",
       "      <td>35000</td>\n",
       "      <td>22</td>\n",
       "      <td>21000.0</td>\n",
       "      <td>3.0</td>\n",
       "    </tr>\n",
       "    <tr>\n",
       "      <th>13</th>\n",
       "      <td>100000</td>\n",
       "      <td>1</td>\n",
       "      <td>79000.0</td>\n",
       "      <td>30.0</td>\n",
       "    </tr>\n",
       "    <tr>\n",
       "      <th>14</th>\n",
       "      <td>100000</td>\n",
       "      <td>1</td>\n",
       "      <td>100000.0</td>\n",
       "      <td>4.0</td>\n",
       "    </tr>\n",
       "    <tr>\n",
       "      <th>15</th>\n",
       "      <td>52000</td>\n",
       "      <td>5</td>\n",
       "      <td>100000.0</td>\n",
       "      <td>43.0</td>\n",
       "    </tr>\n",
       "    <tr>\n",
       "      <th>16</th>\n",
       "      <td>100000</td>\n",
       "      <td>65</td>\n",
       "      <td>NaN</td>\n",
       "      <td>NaN</td>\n",
       "    </tr>\n",
       "  </tbody>\n",
       "</table>\n",
       "</div>"
      ],
      "text/plain": [
       "   AG positive, N = 17                       AG negative, N = 16  \\\n",
       "                   WBC Survival time (weeks)                 WBC   \n",
       "0                 2300                    65              4400.0   \n",
       "1                  750                   156              3000.0   \n",
       "2                 4300                   100              4000.0   \n",
       "3                 2600                   134              1500.0   \n",
       "4                 6000                    16              9000.0   \n",
       "5                10500                   108              5300.0   \n",
       "6                10000                   121             10000.0   \n",
       "7                17000                     4             19000.0   \n",
       "8                 5400                    39             27000.0   \n",
       "9                 7000                   143             28000.0   \n",
       "10                9400                    56             31000.0   \n",
       "11               32000                    26             26000.0   \n",
       "12               35000                    22             21000.0   \n",
       "13              100000                     1             79000.0   \n",
       "14              100000                     1            100000.0   \n",
       "15               52000                     5            100000.0   \n",
       "16              100000                    65                 NaN   \n",
       "\n",
       "                          \n",
       "   Survival time (weeks)  \n",
       "0                   56.0  \n",
       "1                   65.0  \n",
       "2                   17.0  \n",
       "3                    7.0  \n",
       "4                   16.0  \n",
       "5                   22.0  \n",
       "6                    3.0  \n",
       "7                    4.0  \n",
       "8                    2.0  \n",
       "9                    3.0  \n",
       "10                   8.0  \n",
       "11                   4.0  \n",
       "12                   3.0  \n",
       "13                  30.0  \n",
       "14                   4.0  \n",
       "15                  43.0  \n",
       "16                   NaN  "
      ]
     },
     "execution_count": 206,
     "metadata": {},
     "output_type": "execute_result"
    }
   ],
   "source": [
    "columns = [\n",
    "    ['AG positive, N = 17', 'AG positive, N = 17', 'AG negative, N = 16', 'AG negative, N = 16'],\n",
    "    ['WBC', 'Survival time (weeks)', 'WBC', 'Survival time (weeks)']\n",
    "]\n",
    "\n",
    "data = [\n",
    "    [2300, 65, 4400, 56],\n",
    "    [750, 156, 3000, 65],\n",
    "    [4300, 100, 4000, 17],\n",
    "    [2600, 134, 1500, 7],\n",
    "    [6000, 16, 9000, 16],\n",
    "    [10500, 108, 5300, 22],\n",
    "    [10000, 121, 10000, 3],\n",
    "    [17000, 4, 19000, 4],\n",
    "    [5400, 39, 27000, 2],\n",
    "    [7000, 143, 28000, 3],\n",
    "    [9400, 56, 31000, 8],\n",
    "    [32000, 26, 26000, 4],\n",
    "    [35000, 22, 21000, 3],\n",
    "    [100000, 1, 79000, 30],\n",
    "    [100000, 1, 100000, 4],\n",
    "    [52000, 5, 100000, 43],\n",
    "    [100000, 65, np.nan, np.nan],\n",
    "]\n",
    "\n",
    "df = pd.DataFrame(data=data, columns=columns)\n",
    "\n",
    "df"
   ]
  },
  {
   "cell_type": "markdown",
   "id": "94f81c10-6a45-4ae5-b79c-826e7587c884",
   "metadata": {},
   "source": [
    "## A2.27(a)"
   ]
  },
  {
   "cell_type": "code",
   "execution_count": 234,
   "id": "d1d9036e-a24a-41d1-aa3d-9413e113df35",
   "metadata": {},
   "outputs": [
    {
     "data": {
      "text/html": [
       "<div>\n",
       "<style scoped>\n",
       "    .dataframe tbody tr th:only-of-type {\n",
       "        vertical-align: middle;\n",
       "    }\n",
       "\n",
       "    .dataframe tbody tr th {\n",
       "        vertical-align: top;\n",
       "    }\n",
       "\n",
       "    .dataframe thead th {\n",
       "        text-align: right;\n",
       "    }\n",
       "</style>\n",
       "<table border=\"1\" class=\"dataframe\">\n",
       "  <thead>\n",
       "    <tr style=\"text-align: right;\">\n",
       "      <th></th>\n",
       "      <th>Mean</th>\n",
       "      <th>Variance</th>\n",
       "      <th>Std Dev</th>\n",
       "    </tr>\n",
       "  </thead>\n",
       "  <tbody>\n",
       "    <tr>\n",
       "      <th>AG positive</th>\n",
       "      <td>62.471</td>\n",
       "      <td>2954.265</td>\n",
       "      <td>54.353</td>\n",
       "    </tr>\n",
       "    <tr>\n",
       "      <th>AG negative</th>\n",
       "      <td>17.938</td>\n",
       "      <td>412.196</td>\n",
       "      <td>20.303</td>\n",
       "    </tr>\n",
       "  </tbody>\n",
       "</table>\n",
       "</div>"
      ],
      "text/plain": [
       "               Mean  Variance  Std Dev\n",
       "AG positive  62.471  2954.265   54.353\n",
       "AG negative  17.938   412.196   20.303"
      ]
     },
     "execution_count": 234,
     "metadata": {},
     "output_type": "execute_result"
    }
   ],
   "source": [
    "pos_df = df[('AG positive, N = 17', 'Survival time (weeks)')]\n",
    "neg_df = df[('AG negative, N = 16', 'Survival time (weeks)')]\n",
    "\n",
    "res = pd.DataFrame()\n",
    "res.loc['AG positive', 'Mean'] = pos_df.mean()\n",
    "res.loc['AG positive', 'Variance'] = pos_df.var()\n",
    "res.loc['AG positive', 'Std Dev'] = pos_df.std()\n",
    "res.loc['AG negative', 'Mean'] = neg_df.mean()\n",
    "res.loc['AG negative', 'Variance'] = neg_df.var()\n",
    "res.loc['AG negative', 'Std Dev'] = neg_df.std()\n",
    "\n",
    "res.round(3)"
   ]
  },
  {
   "cell_type": "markdown",
   "id": "d6364fd5-52cd-4361-89e5-2fd7b5b94642",
   "metadata": {},
   "source": [
    "## A2.27(b)"
   ]
  },
  {
   "cell_type": "code",
   "execution_count": 246,
   "id": "ba0e0abd-8352-4e73-9c97-e634e5900232",
   "metadata": {},
   "outputs": [
    {
     "data": {
      "text/html": [
       "<div>\n",
       "<style scoped>\n",
       "    .dataframe tbody tr th:only-of-type {\n",
       "        vertical-align: middle;\n",
       "    }\n",
       "\n",
       "    .dataframe tbody tr th {\n",
       "        vertical-align: top;\n",
       "    }\n",
       "\n",
       "    .dataframe thead th {\n",
       "        text-align: right;\n",
       "    }\n",
       "</style>\n",
       "<table border=\"1\" class=\"dataframe\">\n",
       "  <thead>\n",
       "    <tr style=\"text-align: right;\">\n",
       "      <th></th>\n",
       "      <th>Mean</th>\n",
       "      <th>Geometric mean</th>\n",
       "      <th>Median</th>\n",
       "    </tr>\n",
       "  </thead>\n",
       "  <tbody>\n",
       "    <tr>\n",
       "      <th>AG positive</th>\n",
       "      <td>29074.0</td>\n",
       "      <td>12472.0</td>\n",
       "      <td>10000.0</td>\n",
       "    </tr>\n",
       "    <tr>\n",
       "      <th>AG negative</th>\n",
       "      <td>29262.0</td>\n",
       "      <td>15094.0</td>\n",
       "      <td>20000.0</td>\n",
       "    </tr>\n",
       "  </tbody>\n",
       "</table>\n",
       "</div>"
      ],
      "text/plain": [
       "                Mean  Geometric mean   Median\n",
       "AG positive  29074.0         12472.0  10000.0\n",
       "AG negative  29262.0         15094.0  20000.0"
      ]
     },
     "execution_count": 246,
     "metadata": {},
     "output_type": "execute_result"
    }
   ],
   "source": [
    "pos_df = df[('AG positive, N = 17', 'WBC')]\n",
    "neg_df = df[('AG negative, N = 16', 'WBC')].dropna()\n",
    "\n",
    "res = pd.DataFrame()\n",
    "res.loc['AG positive', 'Mean'] = pos_df.mean()\n",
    "res.loc['AG positive', 'Geometric mean'] = gmean(pos_df)\n",
    "res.loc['AG positive', 'Median'] = np.median(pos_df)\n",
    "res.loc['AG negative', 'Mean'] = neg_df.mean()\n",
    "res.loc['AG negative', 'Geometric mean'] = gmean(neg_df)\n",
    "res.loc['AG negative', 'Median'] = np.median(neg_df)\n",
    "\n",
    "res.round()"
   ]
  },
  {
   "cell_type": "markdown",
   "id": "a4c003d3-37b9-4ced-bb40-f30a083218f1",
   "metadata": {},
   "source": [
    "# Q2.29\n",
    "The following are the heights (measured to the nearest 2 cm) and weights\n",
    "(measured to the nearest kilogram) of 10 men and 10 women.\n",
    "\n",
    "(a) Draw a scatter diagram, for men and women separately, to show the\n",
    "association, if any, between height and weight.\n",
    "\n",
    "(b) Calculate Pearson’s correlation coefficient, Kendall’s tau, and Spearman’s\n",
    "rho rank correlation coefficients of height and weight for men and women\n",
    "separately."
   ]
  },
  {
   "cell_type": "code",
   "execution_count": 247,
   "id": "902d5172-98fe-41dd-9fed-a25dc01caec5",
   "metadata": {},
   "outputs": [
    {
     "data": {
      "text/html": [
       "<div>\n",
       "<style scoped>\n",
       "    .dataframe tbody tr th:only-of-type {\n",
       "        vertical-align: middle;\n",
       "    }\n",
       "\n",
       "    .dataframe tbody tr th {\n",
       "        vertical-align: top;\n",
       "    }\n",
       "\n",
       "    .dataframe thead tr th {\n",
       "        text-align: left;\n",
       "    }\n",
       "</style>\n",
       "<table border=\"1\" class=\"dataframe\">\n",
       "  <thead>\n",
       "    <tr>\n",
       "      <th></th>\n",
       "      <th colspan=\"2\" halign=\"left\">Men</th>\n",
       "      <th colspan=\"2\" halign=\"left\">Women</th>\n",
       "    </tr>\n",
       "    <tr>\n",
       "      <th></th>\n",
       "      <th>Height</th>\n",
       "      <th>Weight</th>\n",
       "      <th>Height</th>\n",
       "      <th>Weight</th>\n",
       "    </tr>\n",
       "  </thead>\n",
       "  <tbody>\n",
       "    <tr>\n",
       "      <th>0</th>\n",
       "      <td>162</td>\n",
       "      <td>65</td>\n",
       "      <td>152</td>\n",
       "      <td>52</td>\n",
       "    </tr>\n",
       "    <tr>\n",
       "      <th>1</th>\n",
       "      <td>168</td>\n",
       "      <td>65</td>\n",
       "      <td>156</td>\n",
       "      <td>50</td>\n",
       "    </tr>\n",
       "    <tr>\n",
       "      <th>2</th>\n",
       "      <td>174</td>\n",
       "      <td>84</td>\n",
       "      <td>158</td>\n",
       "      <td>47</td>\n",
       "    </tr>\n",
       "    <tr>\n",
       "      <th>3</th>\n",
       "      <td>176</td>\n",
       "      <td>63</td>\n",
       "      <td>160</td>\n",
       "      <td>48</td>\n",
       "    </tr>\n",
       "    <tr>\n",
       "      <th>4</th>\n",
       "      <td>180</td>\n",
       "      <td>75</td>\n",
       "      <td>162</td>\n",
       "      <td>52</td>\n",
       "    </tr>\n",
       "    <tr>\n",
       "      <th>5</th>\n",
       "      <td>180</td>\n",
       "      <td>76</td>\n",
       "      <td>162</td>\n",
       "      <td>55</td>\n",
       "    </tr>\n",
       "    <tr>\n",
       "      <th>6</th>\n",
       "      <td>182</td>\n",
       "      <td>82</td>\n",
       "      <td>164</td>\n",
       "      <td>55</td>\n",
       "    </tr>\n",
       "    <tr>\n",
       "      <th>7</th>\n",
       "      <td>184</td>\n",
       "      <td>65</td>\n",
       "      <td>164</td>\n",
       "      <td>56</td>\n",
       "    </tr>\n",
       "    <tr>\n",
       "      <th>8</th>\n",
       "      <td>186</td>\n",
       "      <td>80</td>\n",
       "      <td>166</td>\n",
       "      <td>60</td>\n",
       "    </tr>\n",
       "    <tr>\n",
       "      <th>9</th>\n",
       "      <td>186</td>\n",
       "      <td>81</td>\n",
       "      <td>166</td>\n",
       "      <td>60</td>\n",
       "    </tr>\n",
       "  </tbody>\n",
       "</table>\n",
       "</div>"
      ],
      "text/plain": [
       "     Men         Women       \n",
       "  Height Weight Height Weight\n",
       "0    162     65    152     52\n",
       "1    168     65    156     50\n",
       "2    174     84    158     47\n",
       "3    176     63    160     48\n",
       "4    180     75    162     52\n",
       "5    180     76    162     55\n",
       "6    182     82    164     55\n",
       "7    184     65    164     56\n",
       "8    186     80    166     60\n",
       "9    186     81    166     60"
      ]
     },
     "execution_count": 247,
     "metadata": {},
     "output_type": "execute_result"
    }
   ],
   "source": [
    "columns = [\n",
    "    ['Men', 'Men', 'Women', 'Women'],\n",
    "    ['Height', 'Weight', 'Height', 'Weight']\n",
    "]\n",
    "\n",
    "data = np.array([\n",
    "    [162, 168, 174, 176, 180, 180, 182, 184, 186, 186],\n",
    "    [65, 65, 84, 63, 75, 76, 82, 65, 80, 81],\n",
    "    [152, 156, 158, 160, 162, 162, 164, 164, 166, 166],\n",
    "    [52, 50, 47, 48, 52, 55, 55, 56, 60, 60],\n",
    "]).T\n",
    "\n",
    "df = pd.DataFrame(data=data, columns=columns)\n",
    "\n",
    "df"
   ]
  },
  {
   "cell_type": "markdown",
   "id": "30b5ac1a-6528-475a-9f28-36fc72ad723c",
   "metadata": {},
   "source": [
    "## 2.29(a)"
   ]
  },
  {
   "cell_type": "code",
   "execution_count": 258,
   "id": "21e923cb-5ff0-4262-a249-12455fa5ef16",
   "metadata": {},
   "outputs": [
    {
     "data": {
      "image/png": "[encoded data removed]",
      "text/plain": [
       "<Figure size 432x288 with 1 Axes>"
      ]
     },
     "metadata": {
      "needs_background": "light"
     },
     "output_type": "display_data"
    },
    {
     "data": {
      "image/png": "[encoded data removed]",
      "text/plain": [
       "<Figure size 432x288 with 1 Axes>"
      ]
     },
     "metadata": {
      "needs_background": "light"
     },
     "output_type": "display_data"
    }
   ],
   "source": [
    "df['Men'].plot.scatter(x='Height', y='Weight', title='Weight vs. Height (Men)');\n",
    "df['Women'].plot.scatter(x='Height', y='Weight', title='Weight vs. Height (Women)');"
   ]
  },
  {
   "cell_type": "markdown",
   "id": "43c825ae-b981-473b-ae86-3734a667275d",
   "metadata": {},
   "source": [
    "## 2.29(b)"
   ]
  },
  {
   "cell_type": "code",
   "execution_count": 380,
   "id": "d383656b-b33f-4934-8980-a26f6b83321e",
   "metadata": {},
   "outputs": [
    {
     "data": {
      "text/html": [
       "<div>\n",
       "<style scoped>\n",
       "    .dataframe tbody tr th:only-of-type {\n",
       "        vertical-align: middle;\n",
       "    }\n",
       "\n",
       "    .dataframe tbody tr th {\n",
       "        vertical-align: top;\n",
       "    }\n",
       "\n",
       "    .dataframe thead th {\n",
       "        text-align: right;\n",
       "    }\n",
       "</style>\n",
       "<table border=\"1\" class=\"dataframe\">\n",
       "  <thead>\n",
       "    <tr style=\"text-align: right;\">\n",
       "      <th></th>\n",
       "      <th>Men</th>\n",
       "      <th>Women</th>\n",
       "    </tr>\n",
       "  </thead>\n",
       "  <tbody>\n",
       "    <tr>\n",
       "      <th>Pearson (pandas)</th>\n",
       "      <td>0.514</td>\n",
       "      <td>0.718</td>\n",
       "    </tr>\n",
       "    <tr>\n",
       "      <th>Kendall (pandas)</th>\n",
       "      <td>0.282</td>\n",
       "      <td>0.714</td>\n",
       "    </tr>\n",
       "    <tr>\n",
       "      <th>Spearman (pandas)</th>\n",
       "      <td>0.377</td>\n",
       "      <td>0.849</td>\n",
       "    </tr>\n",
       "  </tbody>\n",
       "</table>\n",
       "</div>"
      ],
      "text/plain": [
       "                     Men  Women\n",
       "Pearson (pandas)   0.514  0.718\n",
       "Kendall (pandas)   0.282  0.714\n",
       "Spearman (pandas)  0.377  0.849"
      ]
     },
     "execution_count": 380,
     "metadata": {},
     "output_type": "execute_result"
    }
   ],
   "source": [
    "res = pd.DataFrame()\n",
    "\n",
    "for gender in ['Men', 'Women']:\n",
    "    res.loc['Pearson (pandas)', gender] = df[gender].corr().iloc[0, 1]\n",
    "    res.loc['Kendall (pandas)', gender] = df[gender].corr('kendall').iloc[0, 1]\n",
    "    res.loc['Spearman (pandas)', gender] = df[gender].corr('spearman').iloc[0, 1]\n",
    "\n",
    "res.round(3)"
   ]
  },
  {
   "cell_type": "markdown",
   "id": "c49e5f50-e60e-44b8-bc99-9c32b3338521",
   "metadata": {},
   "source": [
    "# Q2.32\n",
    "In Exercise 1.46, we investigated the effects of the three binary preoperative\n",
    "variables (x‐ray, grade, stage); in this exercise, we focus on the effects of the\n",
    "two continuous factors (age, acid phosphatase). The 53 patients are divided\n",
    "into two groups by the finding at surgery, a group with nodal involvement and\n",
    "a group without (denoted by 1 or 0 in the sixth column). For each group and\n",
    "for each of the two factors age at diagnosis and level of serum acid phosphatase,\n",
    "calculate the mean $\\bar{x}$ , variance $s^{2}$, and standard deviation $s$."
   ]
  },
  {
   "cell_type": "code",
   "execution_count": 381,
   "id": "14a39702-fa7d-47b0-8b83-aae1589da10a",
   "metadata": {},
   "outputs": [
    {
     "name": "stdout",
     "output_type": "stream",
     "text": [
      "df num rows: 53\n"
     ]
    },
    {
     "data": {
      "text/html": [
       "<div>\n",
       "<style scoped>\n",
       "    .dataframe tbody tr th:only-of-type {\n",
       "        vertical-align: middle;\n",
       "    }\n",
       "\n",
       "    .dataframe tbody tr th {\n",
       "        vertical-align: top;\n",
       "    }\n",
       "\n",
       "    .dataframe thead th {\n",
       "        text-align: right;\n",
       "    }\n",
       "</style>\n",
       "<table border=\"1\" class=\"dataframe\">\n",
       "  <thead>\n",
       "    <tr style=\"text-align: right;\">\n",
       "      <th></th>\n",
       "      <th>Xray</th>\n",
       "      <th>Grade</th>\n",
       "      <th>Stage</th>\n",
       "      <th>Age</th>\n",
       "      <th>Acid</th>\n",
       "      <th>Nodes</th>\n",
       "    </tr>\n",
       "  </thead>\n",
       "  <tbody>\n",
       "    <tr>\n",
       "      <th>0</th>\n",
       "      <td>0</td>\n",
       "      <td>1</td>\n",
       "      <td>1</td>\n",
       "      <td>64</td>\n",
       "      <td>40</td>\n",
       "      <td>0</td>\n",
       "    </tr>\n",
       "    <tr>\n",
       "      <th>1</th>\n",
       "      <td>0</td>\n",
       "      <td>0</td>\n",
       "      <td>1</td>\n",
       "      <td>63</td>\n",
       "      <td>40</td>\n",
       "      <td>0</td>\n",
       "    </tr>\n",
       "    <tr>\n",
       "      <th>2</th>\n",
       "      <td>1</td>\n",
       "      <td>0</td>\n",
       "      <td>0</td>\n",
       "      <td>65</td>\n",
       "      <td>46</td>\n",
       "      <td>0</td>\n",
       "    </tr>\n",
       "    <tr>\n",
       "      <th>3</th>\n",
       "      <td>0</td>\n",
       "      <td>1</td>\n",
       "      <td>0</td>\n",
       "      <td>67</td>\n",
       "      <td>47</td>\n",
       "      <td>0</td>\n",
       "    </tr>\n",
       "    <tr>\n",
       "      <th>4</th>\n",
       "      <td>0</td>\n",
       "      <td>0</td>\n",
       "      <td>0</td>\n",
       "      <td>66</td>\n",
       "      <td>48</td>\n",
       "      <td>0</td>\n",
       "    </tr>\n",
       "  </tbody>\n",
       "</table>\n",
       "</div>"
      ],
      "text/plain": [
       "   Xray  Grade  Stage  Age  Acid  Nodes\n",
       "0     0      1      1   64    40      0\n",
       "1     0      0      1   63    40      0\n",
       "2     1      0      0   65    46      0\n",
       "3     0      1      0   67    47      0\n",
       "4     0      0      0   66    48      0"
      ]
     },
     "execution_count": 381,
     "metadata": {},
     "output_type": "execute_result"
    }
   ],
   "source": [
    "df = pd.read_csv('assets/nodes.txt', sep=' & ', engine='python')\n",
    "\n",
    "print(f\"df num rows: {df.shape[0]}\")\n",
    "df.head()"
   ]
  },
  {
   "cell_type": "markdown",
   "id": "d4b7417c-d266-41ff-948f-2d7af9c6a2a1",
   "metadata": {},
   "source": [
    "## A2.32"
   ]
  },
  {
   "cell_type": "code",
   "execution_count": 424,
   "id": "7575c0f4-282d-43c6-ba62-54dd212b3b61",
   "metadata": {},
   "outputs": [
    {
     "data": {
      "text/html": [
       "<div>\n",
       "<style scoped>\n",
       "    .dataframe tbody tr th:only-of-type {\n",
       "        vertical-align: middle;\n",
       "    }\n",
       "\n",
       "    .dataframe tbody tr th {\n",
       "        vertical-align: top;\n",
       "    }\n",
       "\n",
       "    .dataframe thead th {\n",
       "        text-align: right;\n",
       "    }\n",
       "</style>\n",
       "<table border=\"1\" class=\"dataframe\">\n",
       "  <thead>\n",
       "    <tr style=\"text-align: right;\">\n",
       "      <th></th>\n",
       "      <th></th>\n",
       "      <th>Mean</th>\n",
       "      <th>Variance</th>\n",
       "      <th>Std. Dev</th>\n",
       "    </tr>\n",
       "  </thead>\n",
       "  <tbody>\n",
       "    <tr>\n",
       "      <th rowspan=\"2\" valign=\"top\">Age</th>\n",
       "      <th>Nodes=0</th>\n",
       "      <td>60.1</td>\n",
       "      <td>31.4</td>\n",
       "      <td>5.6</td>\n",
       "    </tr>\n",
       "    <tr>\n",
       "      <th>Nodes=1</th>\n",
       "      <td>58.2</td>\n",
       "      <td>49.1</td>\n",
       "      <td>7.0</td>\n",
       "    </tr>\n",
       "    <tr>\n",
       "      <th rowspan=\"2\" valign=\"top\">Acid</th>\n",
       "      <th>Nodes=0</th>\n",
       "      <td>64.5</td>\n",
       "      <td>744.1</td>\n",
       "      <td>27.3</td>\n",
       "    </tr>\n",
       "    <tr>\n",
       "      <th>Nodes=1</th>\n",
       "      <td>77.5</td>\n",
       "      <td>515.1</td>\n",
       "      <td>22.7</td>\n",
       "    </tr>\n",
       "  </tbody>\n",
       "</table>\n",
       "</div>"
      ],
      "text/plain": [
       "              Mean  Variance  Std. Dev\n",
       "Age  Nodes=0  60.1      31.4       5.6\n",
       "     Nodes=1  58.2      49.1       7.0\n",
       "Acid Nodes=0  64.5     744.1      27.3\n",
       "     Nodes=1  77.5     515.1      22.7"
      ]
     },
     "execution_count": 424,
     "metadata": {},
     "output_type": "execute_result"
    }
   ],
   "source": [
    "index = [\n",
    "    ['Age', 'Age', 'Acid', 'Acid'],\n",
    "    ['Nodes=0', 'Nodes=1'] * 2,\n",
    "]\n",
    "\n",
    "columns = ['Mean', 'Variance', 'Std. Dev']\n",
    "\n",
    "res = pd.DataFrame(index=index, columns=columns)\n",
    "\n",
    "for group in [0, 1]:\n",
    "    for factor in ['Age', 'Acid']:\n",
    "        res.loc[(factor, f\"Nodes={group}\"), 'Mean'] = df[df['Nodes'] == group][factor].mean()\n",
    "        res.loc[(factor, f\"Nodes={group}\"), 'Variance'] = df[df['Nodes'] == group][factor].var()\n",
    "        res.loc[(factor, f\"Nodes={group}\"), 'Std. Dev'] = df[df['Nodes'] == group][factor].std()\n",
    "\n",
    "res.astype(float).round(1)"
   ]
  },
  {
   "cell_type": "markdown",
   "id": "fd812380-b34b-4a0f-8bb1-3c1d440f5372",
   "metadata": {},
   "source": [
    "# Q2.33\n",
    "Refer to the data on cancer of the prostate in Exercise 2.32. Investigate the\n",
    "relationship between age at diagnosis and level of serum acid phosphatase by\n",
    "calculating Pearson’s correlation coefficient and draw your conclusion. Repeat\n",
    "this analysis, but analyze the data separately for the two groups: the group\n",
    "with nodal involvement and the group without. Does the nodal involvement\n",
    "seem to have any effect on the strength of this relationship?"
   ]
  },
  {
   "cell_type": "markdown",
   "id": "e5b80d95-a26b-4771-b598-e1c45bbcf5f7",
   "metadata": {},
   "source": [
    "## A2.33"
   ]
  },
  {
   "cell_type": "code",
   "execution_count": 437,
   "id": "dcb74361-af10-4eed-a04c-0381f50ba566",
   "metadata": {},
   "outputs": [
    {
     "name": "stdout",
     "output_type": "stream",
     "text": [
      "Pearson's correlation between age and acid (all)      =  0.054\n",
      "Pearson's correlation between age and acid (no nodes) = -0.016\n",
      "Pearson's correlation between age and acid (nodes)    =  0.273\n"
     ]
    }
   ],
   "source": [
    "r = df[['Age', 'Acid']].corr().iloc[0, 1]\n",
    "r_no_nodes = df.query('Nodes == 0')[['Age', 'Acid']].corr().iloc[0, 1]\n",
    "r_nodes = df.query('Nodes == 1')[['Age', 'Acid']].corr().iloc[0, 1]\n",
    "print(f\"Pearson's correlation between age and acid (all)      = {r :>6.3f}\")\n",
    "print(f\"Pearson's correlation between age and acid (no nodes) = {r_no_nodes :>6.3f}\")\n",
    "print(f\"Pearson's correlation between age and acid (nodes)    = {r_nodes :>6.3f}\")"
   ]
  },
  {
   "cell_type": "markdown",
   "id": "e740da79-42e0-4691-bf5a-de0f49f4439a",
   "metadata": {},
   "source": [
    "Existence of nodes seems to change relationship between age and acid levels."
   ]
  },
  {
   "cell_type": "markdown",
   "id": "14fb4127-21d9-4bfd-8adc-d1a8ebf9937c",
   "metadata": {},
   "source": [
    "# Q2.34\n",
    "A study was undertaken to examine the data for 44 physicians working for an\n",
    "emergency department at a major hospital so as to determine which of a\n",
    "number of factors are related to the number of complaints received during the\n",
    "preceding year. In addition to the number of complaints, the data available\n",
    "consist of the number of visits – which serves as the size for the observation\n",
    "unit, the physician – and four other factors under investigation. Table E2.34\n",
    "presents the complete data set. For each of the 44 physicians there are two\n",
    "continuous explanatory factors: revenue (dollars per hour) and workload at the\n",
    "emergency service (hours); and two binary variables: gender (female/male)\n",
    "and residency training in emergency services (no/yes). Divide the number of\n",
    "complaints by the number of visits and use this ratio (number of complaints\n",
    "per visit) as the primary outcome or endpoint X.\n",
    "\n",
    "(a) For each of the two binary factors, gender (female/male) and residency\n",
    "training in emergency services (no/yes), which divide the 44 physicians\n",
    "into two subgroups – say, men and women – calculate the mean x and\n",
    "standard deviation s for the endpoint X.\n",
    "\n",
    "(b) Investigate the relationship between the outcome, number of complaints\n",
    "per visit, and each of two continuous explanatory factors, revenue (dollars\n",
    "per hour) and workload at the emergency service (hours), by calculating\n",
    "Pearson’s correlation coefficient, and draw your conclusion.\n",
    "\n",
    "(c) Draw a scatter diagram to show the association, if any, between the\n",
    "number of complaints per visit and the workload at the emergency service.\n",
    "Does it appear to be linear?"
   ]
  },
  {
   "cell_type": "code",
   "execution_count": 481,
   "id": "94684413-7fab-40b9-8005-a209e4503cfb",
   "metadata": {},
   "outputs": [
    {
     "name": "stdout",
     "output_type": "stream",
     "text": [
      "df num rows: 44\n"
     ]
    },
    {
     "data": {
      "text/html": [
       "<div>\n",
       "<style scoped>\n",
       "    .dataframe tbody tr th:only-of-type {\n",
       "        vertical-align: middle;\n",
       "    }\n",
       "\n",
       "    .dataframe tbody tr th {\n",
       "        vertical-align: top;\n",
       "    }\n",
       "\n",
       "    .dataframe thead th {\n",
       "        text-align: right;\n",
       "    }\n",
       "</style>\n",
       "<table border=\"1\" class=\"dataframe\">\n",
       "  <thead>\n",
       "    <tr style=\"text-align: right;\">\n",
       "      <th></th>\n",
       "      <th>NVisits</th>\n",
       "      <th>Complaint</th>\n",
       "      <th>Residency</th>\n",
       "      <th>Gender</th>\n",
       "      <th>Revenue</th>\n",
       "      <th>Hours</th>\n",
       "      <th>Complaints/1000 visits</th>\n",
       "    </tr>\n",
       "  </thead>\n",
       "  <tbody>\n",
       "    <tr>\n",
       "      <th>0</th>\n",
       "      <td>2014</td>\n",
       "      <td>2</td>\n",
       "      <td>Y</td>\n",
       "      <td>F</td>\n",
       "      <td>263.03</td>\n",
       "      <td>1287.25</td>\n",
       "      <td>0.993049</td>\n",
       "    </tr>\n",
       "    <tr>\n",
       "      <th>1</th>\n",
       "      <td>3091</td>\n",
       "      <td>3</td>\n",
       "      <td>N</td>\n",
       "      <td>M</td>\n",
       "      <td>334.94</td>\n",
       "      <td>1588.00</td>\n",
       "      <td>0.970560</td>\n",
       "    </tr>\n",
       "    <tr>\n",
       "      <th>2</th>\n",
       "      <td>879</td>\n",
       "      <td>1</td>\n",
       "      <td>Y</td>\n",
       "      <td>M</td>\n",
       "      <td>206.42</td>\n",
       "      <td>705.25</td>\n",
       "      <td>1.137656</td>\n",
       "    </tr>\n",
       "    <tr>\n",
       "      <th>3</th>\n",
       "      <td>1780</td>\n",
       "      <td>1</td>\n",
       "      <td>N</td>\n",
       "      <td>M</td>\n",
       "      <td>226.32</td>\n",
       "      <td>1005.50</td>\n",
       "      <td>0.561798</td>\n",
       "    </tr>\n",
       "    <tr>\n",
       "      <th>4</th>\n",
       "      <td>3646</td>\n",
       "      <td>11</td>\n",
       "      <td>N</td>\n",
       "      <td>M</td>\n",
       "      <td>288.91</td>\n",
       "      <td>1667.25</td>\n",
       "      <td>3.017005</td>\n",
       "    </tr>\n",
       "  </tbody>\n",
       "</table>\n",
       "</div>"
      ],
      "text/plain": [
       "   NVisits  Complaint Residency Gender  Revenue    Hours  \\\n",
       "0     2014          2         Y      F   263.03  1287.25   \n",
       "1     3091          3         N      M   334.94  1588.00   \n",
       "2      879          1         Y      M   206.42   705.25   \n",
       "3     1780          1         N      M   226.32  1005.50   \n",
       "4     3646         11         N      M   288.91  1667.25   \n",
       "\n",
       "   Complaints/1000 visits  \n",
       "0                0.993049  \n",
       "1                0.970560  \n",
       "2                1.137656  \n",
       "3                0.561798  \n",
       "4                3.017005  "
      ]
     },
     "execution_count": 481,
     "metadata": {},
     "output_type": "execute_result"
    }
   ],
   "source": [
    "df = pd.read_csv('assets/physician_complaints.txt', sep=' & ', engine='python')\n",
    "df['Complaints/1000 visits'] = df['Complaint'] / df['NVisits'] * 1000\n",
    "\n",
    "print(f\"df num rows: {df.shape[0]}\")\n",
    "df.head()"
   ]
  },
  {
   "cell_type": "markdown",
   "id": "d5a38331-a2d0-4ac9-9dbd-4e796b48860d",
   "metadata": {},
   "source": [
    "## A3.34(a)"
   ]
  },
  {
   "cell_type": "code",
   "execution_count": 482,
   "id": "6050e827-c41a-4bc8-9228-1a765a788efc",
   "metadata": {},
   "outputs": [
    {
     "data": {
      "text/html": [
       "<div>\n",
       "<style scoped>\n",
       "    .dataframe tbody tr th:only-of-type {\n",
       "        vertical-align: middle;\n",
       "    }\n",
       "\n",
       "    .dataframe tbody tr th {\n",
       "        vertical-align: top;\n",
       "    }\n",
       "\n",
       "    .dataframe thead tr th {\n",
       "        text-align: left;\n",
       "    }\n",
       "</style>\n",
       "<table border=\"1\" class=\"dataframe\">\n",
       "  <thead>\n",
       "    <tr>\n",
       "      <th></th>\n",
       "      <th colspan=\"2\" halign=\"left\">Complaints/1000 visits</th>\n",
       "    </tr>\n",
       "    <tr>\n",
       "      <th></th>\n",
       "      <th>Mean</th>\n",
       "      <th>Std. Dev</th>\n",
       "    </tr>\n",
       "  </thead>\n",
       "  <tbody>\n",
       "    <tr>\n",
       "      <th>Gender=\"F\"</th>\n",
       "      <td>1.159</td>\n",
       "      <td>0.832</td>\n",
       "    </tr>\n",
       "    <tr>\n",
       "      <th>Gender=\"M\"</th>\n",
       "      <td>1.393</td>\n",
       "      <td>0.908</td>\n",
       "    </tr>\n",
       "    <tr>\n",
       "      <th>Residency=\"N\"</th>\n",
       "      <td>1.472</td>\n",
       "      <td>0.990</td>\n",
       "    </tr>\n",
       "    <tr>\n",
       "      <th>Residency=\"Y\"</th>\n",
       "      <td>1.157</td>\n",
       "      <td>0.727</td>\n",
       "    </tr>\n",
       "  </tbody>\n",
       "</table>\n",
       "</div>"
      ],
      "text/plain": [
       "              Complaints/1000 visits         \n",
       "                                Mean Std. Dev\n",
       "Gender=\"F\"                     1.159    0.832\n",
       "Gender=\"M\"                     1.393    0.908\n",
       "Residency=\"N\"                  1.472    0.990\n",
       "Residency=\"Y\"                  1.157    0.727"
      ]
     },
     "execution_count": 482,
     "metadata": {},
     "output_type": "execute_result"
    }
   ],
   "source": [
    "columns = [\n",
    "    ['Complaints/1000 visits', 'Complaints/1000 visits'],\n",
    "    ['Mean', 'Std. Dev']\n",
    "]\n",
    "\n",
    "index = ['Gender=\"F\"', 'Gender=\"M\"', 'Residency=\"N\"', 'Residency=\"Y\"']\n",
    "\n",
    "res = pd.DataFrame(index=index, columns=columns)\n",
    "\n",
    "for i in index:\n",
    "    query = i.replace('=', ' == ')\n",
    "    res.loc[i, ('Complaints/1000 visits', 'Mean')] = df.query(query)['Complaints/1000 visits'].mean()\n",
    "    res.loc[i, ('Complaints/1000 visits', 'Std. Dev')] = df.query(query)['Complaints/1000 visits'].std()\n",
    "\n",
    "res.astype(float).round(3)"
   ]
  },
  {
   "cell_type": "markdown",
   "id": "504ef0f0-fe8e-49f2-876c-a903900b0d7d",
   "metadata": {},
   "source": [
    "## A3.34(b)"
   ]
  },
  {
   "cell_type": "code",
   "execution_count": 484,
   "id": "a9accddf-4425-4da7-b934-1f72aaa5e2cf",
   "metadata": {},
   "outputs": [
    {
     "name": "stdout",
     "output_type": "stream",
     "text": [
      "Pearson correlation (revenue and complaints) = 0.031\n",
      "Pearson correlation (hours and complaints) = 0.279\n"
     ]
    }
   ],
   "source": [
    "r_revenue = df[['Revenue', 'Complaints/1000 visits']].corr().iloc[0, 1]\n",
    "r_hours = df[['Hours', 'Complaints/1000 visits']].corr().iloc[0, 1]\n",
    "print(f\"Pearson correlation (revenue and complaints) = {r_revenue :.3f}\")\n",
    "print(f\"Pearson correlation (hours and complaints) = {r_hours :.3f}\")"
   ]
  },
  {
   "cell_type": "markdown",
   "id": "f682d0df-8c08-4047-ac51-ab480f5657e1",
   "metadata": {},
   "source": [
    "## A3.34(c)"
   ]
  },
  {
   "cell_type": "code",
   "execution_count": 462,
   "id": "81a290bf-de26-439d-a3aa-612a8fb32776",
   "metadata": {},
   "outputs": [
    {
     "data": {
      "image/png": "[encoded data removed]",
      "text/plain": [
       "<Figure size 432x288 with 1 Axes>"
      ]
     },
     "metadata": {
      "needs_background": "light"
     },
     "output_type": "display_data"
    },
    {
     "data": {
      "image/png": "[encoded data removed]",
      "text/plain": [
       "<Figure size 432x288 with 1 Axes>"
      ]
     },
     "metadata": {
      "needs_background": "light"
     },
     "output_type": "display_data"
    }
   ],
   "source": [
    "df.plot.scatter(x='Revenue', y='Complaints/1000 visits', title='Complaints vs. Revenue');\n",
    "df.plot.scatter(x='Hours', y='Complaints/1000 visits', title='Complaints vs. Hours');"
   ]
  }
 ],
 "metadata": {
  "kernelspec": {
   "display_name": "Python [conda env:ds] *",
   "language": "python",
   "name": "conda-env-ds-py"
  },
  "language_info": {
   "codemirror_mode": {
    "name": "ipython",
    "version": 3
   },
   "file_extension": ".py",
   "mimetype": "text/x-python",
   "name": "python",
   "nbconvert_exporter": "python",
   "pygments_lexer": "ipython3",
   "version": "3.9.7"
  }
 },
 "nbformat": 4,
 "nbformat_minor": 5
}
