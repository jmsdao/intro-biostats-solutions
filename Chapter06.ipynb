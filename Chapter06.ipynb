{
 "cells": [
  {
   "cell_type": "code",
   "execution_count": 1,
   "id": "ea33d074-537d-4278-aa6e-b63122cfa312",
   "metadata": {},
   "outputs": [],
   "source": [
    "import numpy as np\n",
    "import pandas as pd\n",
    "from math import factorial\n",
    "from scipy import stats\n",
    "from IPython.display import Markdown"
   ]
  },
  {
   "cell_type": "markdown",
   "id": "c038e0ea-d61f-45ee-b83c-16d5b6de0fa9",
   "metadata": {},
   "source": [
    "# Q6.1\n",
    "Consider a sample of n = 110 women drawn randomly from the membership\n",
    "list of the National Organization for Women (N.O.W.), x = 25 of whom were\n",
    "found to smoke. Use the result of this sample to test whether the rate found is\n",
    "significantly different from the United States proportion of 0.30 for women."
   ]
  },
  {
   "cell_type": "markdown",
   "id": "90a77c2f-3851-4cf9-83c5-6c4346aa23ff",
   "metadata": {},
   "source": [
    "## A6.1"
   ]
  },
  {
   "cell_type": "code",
   "execution_count": 2,
   "id": "2552a1a5-577d-4a0e-83e8-aebfda8b8abb",
   "metadata": {},
   "outputs": [
    {
     "name": "stdout",
     "output_type": "stream",
     "text": [
      "p-value = 0.04801\n"
     ]
    }
   ],
   "source": [
    "pi = 0.3\n",
    "n = 110\n",
    "p = 25 / n\n",
    "se = np.sqrt(pi * (1 - pi) / n)\n",
    "\n",
    "z_left = (p - pi) / se\n",
    "z_right = (p + pi) / se\n",
    "\n",
    "N = stats.norm()\n",
    "pval = N.cdf(z_left) + N.sf(z_right)\n",
    "print(f\"p-value = {pval :.4}\")"
   ]
  },
  {
   "cell_type": "markdown",
   "id": "9310626d-ad05-4910-b5a7-1ac52c5e7e75",
   "metadata": {},
   "source": [
    "# Q6.3\n",
    "A study in Maryland identified 4032 white persons, enumerated in a nonofficial\n",
    "1963 census, who became widowed between 1963 and 1974. These people\n",
    "were matched, one to one, to married persons on the basis of race, gender, year\n",
    "of birth, and geography of residence. The matched pairs were followed in a\n",
    "second census in 1975, and the data for men have been analyzed so as to compare\n",
    "the mortality of widowed men versus married men (see Example 6.3). The\n",
    "data for 2828 matched pairs of women are shown in Table E6.3. Test to compare\n",
    "the mortality of widowed women versus married women; state your null\n",
    "and alternative hypotheses."
   ]
  },
  {
   "cell_type": "code",
   "execution_count": 3,
   "id": "f6e34d2b-1c28-4a4c-b6cf-26dddebb5113",
   "metadata": {},
   "outputs": [
    {
     "data": {
      "text/html": [
       "<div>\n",
       "<style scoped>\n",
       "    .dataframe tbody tr th:only-of-type {\n",
       "        vertical-align: middle;\n",
       "    }\n",
       "\n",
       "    .dataframe tbody tr th {\n",
       "        vertical-align: top;\n",
       "    }\n",
       "\n",
       "    .dataframe thead tr th {\n",
       "        text-align: left;\n",
       "    }\n",
       "\n",
       "    .dataframe thead tr:last-of-type th {\n",
       "        text-align: right;\n",
       "    }\n",
       "</style>\n",
       "<table border=\"1\" class=\"dataframe\">\n",
       "  <thead>\n",
       "    <tr>\n",
       "      <th></th>\n",
       "      <th colspan=\"2\" halign=\"left\">Married women</th>\n",
       "    </tr>\n",
       "    <tr>\n",
       "      <th></th>\n",
       "      <th>Dead</th>\n",
       "      <th>Alive</th>\n",
       "    </tr>\n",
       "    <tr>\n",
       "      <th>Widowed women</th>\n",
       "      <th></th>\n",
       "      <th></th>\n",
       "    </tr>\n",
       "  </thead>\n",
       "  <tbody>\n",
       "    <tr>\n",
       "      <th>Dead</th>\n",
       "      <td>1</td>\n",
       "      <td>264</td>\n",
       "    </tr>\n",
       "    <tr>\n",
       "      <th>Alive</th>\n",
       "      <td>249</td>\n",
       "      <td>2314</td>\n",
       "    </tr>\n",
       "  </tbody>\n",
       "</table>\n",
       "</div>"
      ],
      "text/plain": [
       "              Married women      \n",
       "                       Dead Alive\n",
       "Widowed women                    \n",
       "Dead                      1   264\n",
       "Alive                   249  2314"
      ]
     },
     "execution_count": 3,
     "metadata": {},
     "output_type": "execute_result"
    }
   ],
   "source": [
    "index = ['Dead', 'Alive']\n",
    "\n",
    "columns = [\n",
    "    ['Married women', 'Married women'],\n",
    "    ['Dead', 'Alive']\n",
    "]\n",
    "\n",
    "data = [\n",
    "    [1, 264],\n",
    "    [249, 2314],\n",
    "]\n",
    "\n",
    "df = pd.DataFrame(data=data, index=index, columns=columns)\n",
    "df.index = df.index.rename('Widowed women')\n",
    "\n",
    "df"
   ]
  },
  {
   "cell_type": "markdown",
   "id": "4cfa0867-53e3-487e-a9f8-3979fff19d95",
   "metadata": {},
   "source": [
    "## A6.3"
   ]
  },
  {
   "cell_type": "markdown",
   "id": "c0746e24-2250-46b7-bc21-46057a21e585",
   "metadata": {},
   "source": [
    "$H_0: \\pi_{widowed} = \\pi_{married}$  \n",
    "$H_A: \\pi_{widowed} \\ne \\pi_{married}$"
   ]
  },
  {
   "cell_type": "code",
   "execution_count": 4,
   "id": "bd7533ec-9166-4317-961e-08c9c8e8ccba",
   "metadata": {},
   "outputs": [
    {
     "name": "stdout",
     "output_type": "stream",
     "text": [
      "p-value = 0.5078\n"
     ]
    }
   ],
   "source": [
    "b = df.loc['Dead', ('Married women', 'Alive')]\n",
    "c = df.loc['Alive', ('Married women', 'Dead')]\n",
    "z =  abs((b - c) / np.sqrt(b + c))\n",
    "\n",
    "N = stats.norm()\n",
    "pval = N.cdf(-z) + N.sf(z)\n",
    "print(f\"p-value = {pval :.4}\")"
   ]
  },
  {
   "cell_type": "markdown",
   "id": "f2d62653-617e-4493-932a-d5e663a684b1",
   "metadata": {},
   "source": [
    "# Q6.6\n",
    "Ninety‐eight heterosexual couples, at least one of whom was HIV‐infected,\n",
    "were enrolled in an HIV transmission study and interviewed about sexual\n",
    "behavior. Table E6.6 provides a summary of condom use reported by heterosexual\n",
    "partners. Test to compare the men versus the women; state clearly your\n",
    "null and alternative hypotheses and choice of test size (alpha level)."
   ]
  },
  {
   "cell_type": "code",
   "execution_count": 5,
   "id": "e57d1f05-5715-4b14-ab7e-6e1d5c4d72f3",
   "metadata": {},
   "outputs": [
    {
     "data": {
      "text/html": [
       "<div>\n",
       "<style scoped>\n",
       "    .dataframe tbody tr th:only-of-type {\n",
       "        vertical-align: middle;\n",
       "    }\n",
       "\n",
       "    .dataframe tbody tr th {\n",
       "        vertical-align: top;\n",
       "    }\n",
       "\n",
       "    .dataframe thead tr th {\n",
       "        text-align: left;\n",
       "    }\n",
       "\n",
       "    .dataframe thead tr:last-of-type th {\n",
       "        text-align: right;\n",
       "    }\n",
       "</style>\n",
       "<table border=\"1\" class=\"dataframe\">\n",
       "  <thead>\n",
       "    <tr>\n",
       "      <th></th>\n",
       "      <th colspan=\"2\" halign=\"left\">Man</th>\n",
       "    </tr>\n",
       "    <tr>\n",
       "      <th></th>\n",
       "      <th>Ever</th>\n",
       "      <th>Never</th>\n",
       "    </tr>\n",
       "    <tr>\n",
       "      <th>Woman</th>\n",
       "      <th></th>\n",
       "      <th></th>\n",
       "    </tr>\n",
       "  </thead>\n",
       "  <tbody>\n",
       "    <tr>\n",
       "      <th>Ever</th>\n",
       "      <td>45</td>\n",
       "      <td>6</td>\n",
       "    </tr>\n",
       "    <tr>\n",
       "      <th>Never</th>\n",
       "      <td>7</td>\n",
       "      <td>40</td>\n",
       "    </tr>\n",
       "  </tbody>\n",
       "</table>\n",
       "</div>"
      ],
      "text/plain": [
       "       Man      \n",
       "      Ever Never\n",
       "Woman           \n",
       "Ever    45     6\n",
       "Never    7    40"
      ]
     },
     "execution_count": 5,
     "metadata": {},
     "output_type": "execute_result"
    }
   ],
   "source": [
    "index = ['Ever', 'Never']\n",
    "\n",
    "columns = [\n",
    "    ['Man', 'Man'],\n",
    "    ['Ever', 'Never']\n",
    "]\n",
    "\n",
    "data = [\n",
    "    [45, 6],\n",
    "    [7, 40],\n",
    "]\n",
    "\n",
    "df = pd.DataFrame(data=data, index=index, columns=columns)\n",
    "df.index = df.index.rename('Woman')\n",
    "\n",
    "df"
   ]
  },
  {
   "cell_type": "markdown",
   "id": "c1eed301-0a44-4305-bdfd-f88f260ccf02",
   "metadata": {},
   "source": [
    "## A6.6"
   ]
  },
  {
   "cell_type": "markdown",
   "id": "c532a0be-b558-44a4-b06f-770e945fed9b",
   "metadata": {},
   "source": [
    "$H_0: \\pi_{men} = \\pi_{women}$  \n",
    "$H_A: \\pi_{men} \\ne \\pi_{women}$  \n",
    "$\\alpha = 0.05$"
   ]
  },
  {
   "cell_type": "code",
   "execution_count": 6,
   "id": "71986990-40c7-4624-ba1f-05df315936c2",
   "metadata": {},
   "outputs": [
    {
     "name": "stdout",
     "output_type": "stream",
     "text": [
      "p-value = 0.7815\n"
     ]
    }
   ],
   "source": [
    "b = df.loc['Ever', ('Man', 'Never')]\n",
    "c = df.loc['Never', ('Man', 'Ever')]\n",
    "z =  abs((b - c) / np.sqrt(b + c))\n",
    "\n",
    "N = stats.norm()\n",
    "pval = N.cdf(-z) + N.sf(z)\n",
    "print(f\"p-value = {pval :.4}\")"
   ]
  },
  {
   "cell_type": "markdown",
   "id": "639e1eea-1c52-4f98-946c-5c56ac984ce0",
   "metadata": {},
   "source": [
    "# Q6.11\n",
    "In August 1976, tuberculosis was diagnosed in a high school student (index\n",
    "case) in Corinth, Mississippi. Subsequently, laboratory studies revealed that\n",
    "the student’s disease was caused by drug‐resistant tubercule bacilli. An epidemiologic\n",
    "investigation was conducted at the high school. Table E6.11 gives\n",
    "the rates of positive tuberculin reaction determined for various groups of students\n",
    "according to the degree of exposure to the index case. Test to compare\n",
    "the proportions of students with infection, high exposure versus low exposure;\n",
    "state clearly your null and alternative hypotheses and choice of test size."
   ]
  },
  {
   "cell_type": "code",
   "execution_count": 7,
   "id": "97f92480-027d-4a93-a0a7-7d5342be885a",
   "metadata": {},
   "outputs": [
    {
     "data": {
      "text/html": [
       "<div>\n",
       "<style scoped>\n",
       "    .dataframe tbody tr th:only-of-type {\n",
       "        vertical-align: middle;\n",
       "    }\n",
       "\n",
       "    .dataframe tbody tr th {\n",
       "        vertical-align: top;\n",
       "    }\n",
       "\n",
       "    .dataframe thead th {\n",
       "        text-align: right;\n",
       "    }\n",
       "</style>\n",
       "<table border=\"1\" class=\"dataframe\">\n",
       "  <thead>\n",
       "    <tr style=\"text-align: right;\">\n",
       "      <th></th>\n",
       "      <th>Number tested</th>\n",
       "      <th>Number positive</th>\n",
       "    </tr>\n",
       "    <tr>\n",
       "      <th>Exposure level</th>\n",
       "      <th></th>\n",
       "      <th></th>\n",
       "    </tr>\n",
       "  </thead>\n",
       "  <tbody>\n",
       "    <tr>\n",
       "      <th>High</th>\n",
       "      <td>129</td>\n",
       "      <td>63</td>\n",
       "    </tr>\n",
       "    <tr>\n",
       "      <th>Low</th>\n",
       "      <td>325</td>\n",
       "      <td>36</td>\n",
       "    </tr>\n",
       "  </tbody>\n",
       "</table>\n",
       "</div>"
      ],
      "text/plain": [
       "                Number tested  Number positive\n",
       "Exposure level                                \n",
       "High                      129               63\n",
       "Low                       325               36"
      ]
     },
     "execution_count": 7,
     "metadata": {},
     "output_type": "execute_result"
    }
   ],
   "source": [
    "index = ['High', 'Low']\n",
    "\n",
    "columns = ['Number tested', 'Number positive']\n",
    "\n",
    "data = [\n",
    "    [129, 63],\n",
    "    [325, 36],\n",
    "]\n",
    "\n",
    "df = pd.DataFrame(data=data, index=index, columns=columns)\n",
    "df.index = df.index.rename('Exposure level')\n",
    "\n",
    "df"
   ]
  },
  {
   "cell_type": "markdown",
   "id": "d644920e-5a9c-41d6-8993-46b4c3758ee3",
   "metadata": {},
   "source": [
    "## A6.11"
   ]
  },
  {
   "cell_type": "markdown",
   "id": "9bda82b5-c9dc-488b-bd54-3be2a21d1ed9",
   "metadata": {},
   "source": [
    "$H_0: \\pi_{high} = \\pi_{low}$  \n",
    "$H_A: \\pi_{high} \\ne \\pi_{low}$  \n",
    "$\\alpha = 0.05$"
   ]
  },
  {
   "cell_type": "code",
   "execution_count": 8,
   "id": "d0744f52-5a2f-472d-ae36-b1b7684acddb",
   "metadata": {},
   "outputs": [
    {
     "name": "stdout",
     "output_type": "stream",
     "text": [
      "p-value = 1.529e-18\n"
     ]
    }
   ],
   "source": [
    "x1, n1 = df.loc['High', 'Number positive'], df.loc['High', 'Number tested']\n",
    "x2, n2 = df.loc['Low', 'Number positive'], df.loc['Low', 'Number tested']\n",
    "p1 = x1 / n1\n",
    "p2 = x2 / n2\n",
    "p = (x1 + x2) / (n1 + n2)\n",
    "\n",
    "z = (p1 - p2) / np.sqrt(p * (1 - p) * (1 / n1 + 1 / n2))\n",
    "z = abs(z)\n",
    "\n",
    "N = stats.norm()\n",
    "pval = N.cdf(-z) + N.sf(z)\n",
    "print(f\"p-value = {pval :.4}\")"
   ]
  },
  {
   "cell_type": "markdown",
   "id": "03fc5c00-467a-451c-b0a0-0350aecb2fbd",
   "metadata": {},
   "source": [
    "# Q6.16\n",
    "In a randomized trial, 111 pregnant women had elective induction of labor\n",
    "between 39 and 40 weeks, and 117 controls were managed expectantly until\n",
    "41 weeks. The results are shown in Table E6.16. Use Fisher’s exact test to\n",
    "verify the alternative that patients with elective induction have less meconium\n",
    "staining in labor than do control patients."
   ]
  },
  {
   "cell_type": "code",
   "execution_count": 9,
   "id": "ac72d294-1873-40cf-8e00-15b5c27ef196",
   "metadata": {},
   "outputs": [
    {
     "data": {
      "text/html": [
       "<div>\n",
       "<style scoped>\n",
       "    .dataframe tbody tr th:only-of-type {\n",
       "        vertical-align: middle;\n",
       "    }\n",
       "\n",
       "    .dataframe tbody tr th {\n",
       "        vertical-align: top;\n",
       "    }\n",
       "\n",
       "    .dataframe thead th {\n",
       "        text-align: right;\n",
       "    }\n",
       "</style>\n",
       "<table border=\"1\" class=\"dataframe\">\n",
       "  <thead>\n",
       "    <tr style=\"text-align: right;\">\n",
       "      <th></th>\n",
       "      <th>Induction group</th>\n",
       "      <th>Control group</th>\n",
       "    </tr>\n",
       "  </thead>\n",
       "  <tbody>\n",
       "    <tr>\n",
       "      <th>Number of patients</th>\n",
       "      <td>111</td>\n",
       "      <td>117</td>\n",
       "    </tr>\n",
       "    <tr>\n",
       "      <th>Number with meconium staining</th>\n",
       "      <td>1</td>\n",
       "      <td>13</td>\n",
       "    </tr>\n",
       "  </tbody>\n",
       "</table>\n",
       "</div>"
      ],
      "text/plain": [
       "                               Induction group  Control group\n",
       "Number of patients                         111            117\n",
       "Number with meconium staining                1             13"
      ]
     },
     "execution_count": 9,
     "metadata": {},
     "output_type": "execute_result"
    }
   ],
   "source": [
    "index = ['Number of patients', 'Number with meconium staining']\n",
    "\n",
    "columns = ['Induction group', 'Control group']\n",
    "\n",
    "data = [\n",
    "    [111, 117],\n",
    "    [1, 13],\n",
    "]\n",
    "\n",
    "df = pd.DataFrame(data=data, index=index, columns=columns)\n",
    "\n",
    "df"
   ]
  },
  {
   "cell_type": "markdown",
   "id": "2544408e-dcc5-4a2f-8ae6-7d17b6b48e1f",
   "metadata": {},
   "source": [
    "## A6.16"
   ]
  },
  {
   "cell_type": "code",
   "execution_count": 10,
   "id": "d85795da-3c5e-4a66-b8ef-4cee6e5c7542",
   "metadata": {},
   "outputs": [
    {
     "data": {
      "text/html": [
       "<div>\n",
       "<style scoped>\n",
       "    .dataframe tbody tr th:only-of-type {\n",
       "        vertical-align: middle;\n",
       "    }\n",
       "\n",
       "    .dataframe tbody tr th {\n",
       "        vertical-align: top;\n",
       "    }\n",
       "\n",
       "    .dataframe thead th {\n",
       "        text-align: right;\n",
       "    }\n",
       "</style>\n",
       "<table border=\"1\" class=\"dataframe\">\n",
       "  <thead>\n",
       "    <tr style=\"text-align: right;\">\n",
       "      <th></th>\n",
       "      <th>Induction group</th>\n",
       "      <th>Control group</th>\n",
       "    </tr>\n",
       "  </thead>\n",
       "  <tbody>\n",
       "    <tr>\n",
       "      <th>Number with meconium staining</th>\n",
       "      <td>1</td>\n",
       "      <td>13</td>\n",
       "    </tr>\n",
       "    <tr>\n",
       "      <th>Number of patients</th>\n",
       "      <td>111</td>\n",
       "      <td>117</td>\n",
       "    </tr>\n",
       "  </tbody>\n",
       "</table>\n",
       "</div>"
      ],
      "text/plain": [
       "                               Induction group  Control group\n",
       "Number with meconium staining                1             13\n",
       "Number of patients                         111            117"
      ]
     },
     "execution_count": 10,
     "metadata": {},
     "output_type": "execute_result"
    }
   ],
   "source": [
    "index_asc = df.sum(axis=1).sort_values(ascending=True).index\n",
    "columns_asc = df.sum(axis=0).sort_values(ascending=True).index\n",
    "df_ordered = df.loc[index_asc, columns_asc]\n",
    "df_ordered"
   ]
  },
  {
   "cell_type": "code",
   "execution_count": 11,
   "id": "30dbcbd3-ae2f-4dc7-9263-bd0a3f310ff2",
   "metadata": {},
   "outputs": [
    {
     "name": "stdout",
     "output_type": "stream",
     "text": [
      "Fisher exact p-value = 0.001586\n"
     ]
    }
   ],
   "source": [
    "a = df_ordered.iloc[0, 0]\n",
    "b = df_ordered.iloc[0, 1]\n",
    "c = df_ordered.iloc[1, 0]\n",
    "d = df_ordered.iloc[1, 1]\n",
    "n = a + b + c + d\n",
    "\n",
    "numer = factorial(a + b) * factorial(c + d) * factorial(a + c) * factorial(b + d)\n",
    "denom = factorial(n) * factorial(a) * factorial(b) * factorial(c) * factorial(d)\n",
    "pval = numer / denom\n",
    "print(f\"Fisher exact p-value = {pval :.4}\")"
   ]
  },
  {
   "cell_type": "markdown",
   "id": "dd3e0c11-3214-47a1-81a1-7d72d87e77ad",
   "metadata": {},
   "source": [
    "# Q6.21\n",
    "A case–control study was conducted in Auckland, New Zealand to investigate\n",
    "the effects of alcohol consumption on both nonfatal myocardial infarction and\n",
    "coronary death in the 24 hours after drinking, among regular drinkers. Data\n",
    "are tabulated separately for men and women in Table E6.21. For each group,\n",
    "men and women, and for each type of event, myocardial infarction and coronary\n",
    "death, test to compare cases versus controls. State, in each analysis, your\n",
    "null and alternative hypotheses and choice of test size."
   ]
  },
  {
   "cell_type": "code",
   "execution_count": 12,
   "id": "fb92fb0a-d396-4850-bf31-97e5cbdb88a2",
   "metadata": {},
   "outputs": [
    {
     "data": {
      "text/html": [
       "<div>\n",
       "<style scoped>\n",
       "    .dataframe tbody tr th:only-of-type {\n",
       "        vertical-align: middle;\n",
       "    }\n",
       "\n",
       "    .dataframe tbody tr th {\n",
       "        vertical-align: top;\n",
       "    }\n",
       "\n",
       "    .dataframe thead tr th {\n",
       "        text-align: left;\n",
       "    }\n",
       "\n",
       "    .dataframe thead tr:last-of-type th {\n",
       "        text-align: right;\n",
       "    }\n",
       "</style>\n",
       "<table border=\"1\" class=\"dataframe\">\n",
       "  <thead>\n",
       "    <tr>\n",
       "      <th></th>\n",
       "      <th></th>\n",
       "      <th colspan=\"2\" halign=\"left\">Myocardial infarction</th>\n",
       "      <th colspan=\"2\" halign=\"left\">Coronary death</th>\n",
       "    </tr>\n",
       "    <tr>\n",
       "      <th></th>\n",
       "      <th></th>\n",
       "      <th>Controls</th>\n",
       "      <th>Cases</th>\n",
       "      <th>Controls</th>\n",
       "      <th>Cases</th>\n",
       "    </tr>\n",
       "    <tr>\n",
       "      <th></th>\n",
       "      <th>Drink in the last 24 h</th>\n",
       "      <th></th>\n",
       "      <th></th>\n",
       "      <th></th>\n",
       "      <th></th>\n",
       "    </tr>\n",
       "  </thead>\n",
       "  <tbody>\n",
       "    <tr>\n",
       "      <th rowspan=\"2\" valign=\"top\">Men</th>\n",
       "      <th>No</th>\n",
       "      <td>197</td>\n",
       "      <td>142</td>\n",
       "      <td>135</td>\n",
       "      <td>103</td>\n",
       "    </tr>\n",
       "    <tr>\n",
       "      <th>Yes</th>\n",
       "      <td>201</td>\n",
       "      <td>136</td>\n",
       "      <td>159</td>\n",
       "      <td>69</td>\n",
       "    </tr>\n",
       "    <tr>\n",
       "      <th rowspan=\"2\" valign=\"top\">Women</th>\n",
       "      <th>No</th>\n",
       "      <td>144</td>\n",
       "      <td>41</td>\n",
       "      <td>89</td>\n",
       "      <td>12</td>\n",
       "    </tr>\n",
       "    <tr>\n",
       "      <th>Yes</th>\n",
       "      <td>122</td>\n",
       "      <td>19</td>\n",
       "      <td>76</td>\n",
       "      <td>4</td>\n",
       "    </tr>\n",
       "  </tbody>\n",
       "</table>\n",
       "</div>"
      ],
      "text/plain": [
       "                             Myocardial infarction       Coronary death      \n",
       "                                          Controls Cases       Controls Cases\n",
       "      Drink in the last 24 h                                                 \n",
       "Men   No                                       197   142            135   103\n",
       "      Yes                                      201   136            159    69\n",
       "Women No                                       144    41             89    12\n",
       "      Yes                                      122    19             76     4"
      ]
     },
     "execution_count": 12,
     "metadata": {},
     "output_type": "execute_result"
    }
   ],
   "source": [
    "index = [\n",
    "    ['Men'] * 2 + ['Women'] * 2,\n",
    "    ['No', 'Yes'] * 2,\n",
    "]\n",
    "\n",
    "columns = [\n",
    "    ['Myocardial infarction'] * 2 + ['Coronary death'] * 2,\n",
    "    ['Controls', 'Cases'] * 2,\n",
    "]\n",
    "\n",
    "data = [\n",
    "    [197, 142, 135, 103],\n",
    "    [201, 136, 159, 69],\n",
    "    [144, 41, 89, 12],\n",
    "    [122, 19, 76, 4],\n",
    "]\n",
    "\n",
    "df = pd.DataFrame(data=data, index=index, columns=columns)\n",
    "df.index = df.index.rename(('', 'Drink in the last 24 h'))\n",
    "\n",
    "df"
   ]
  },
  {
   "cell_type": "markdown",
   "id": "9720264c-cd42-4af9-a634-2a99b0eed404",
   "metadata": {},
   "source": [
    "## A6.21"
   ]
  },
  {
   "cell_type": "code",
   "execution_count": 13,
   "id": "060b14b8-575f-47fd-93d9-31e0bc98879d",
   "metadata": {},
   "outputs": [
    {
     "name": "stdout",
     "output_type": "stream",
     "text": [
      "Men:\n",
      "    Myocardial infarction p-value = 0.6857\n",
      "           Coronary death p-value = 0.003612\n",
      "Women:\n",
      "    Myocardial infarction p-value = 0.04494\n",
      "           Coronary death p-value = 0.1053\n"
     ]
    }
   ],
   "source": [
    "for gender in ['Men', 'Women']:\n",
    "    print(f\"{gender}:\")\n",
    "    for event in ['Myocardial infarction', 'Coronary death']:\n",
    "        subdf = df.loc[gender, event]\n",
    "\n",
    "        x1 = subdf.loc['No', 'Cases']\n",
    "        n1 = x1 + subdf.loc['No', 'Controls']\n",
    "        x2 = subdf.loc['Yes', 'Cases']\n",
    "        n2 = x2 + subdf.loc['Yes', 'Controls']\n",
    "        p1 = x1 / n1\n",
    "        p2 = x2 / n2\n",
    "        p = (x1 + x2) / (n1 + n2)\n",
    "\n",
    "        z = (p1 - p2) / np.sqrt(p * (1 - p) * (1 / n1 + 1 / n2))\n",
    "        z = abs(z)\n",
    "\n",
    "        N = stats.norm()\n",
    "        pval = N.cdf(-z) + N.sf(z)\n",
    "        print(f\"    {event :>21} p-value = {pval :.4}\")"
   ]
  },
  {
   "cell_type": "markdown",
   "id": "a59d33e8-0630-438f-9bd2-1e7e27c79818",
   "metadata": {},
   "source": [
    "# Q6.24\n",
    "Postmenopausal women who develop endometrial cancer are on the whole\n",
    "heavier than women who do not develop the disease. One possible explanation\n",
    "is that heavy women are more exposed to endogenous estrogens, which are\n",
    "produced in postmenopausal women by conversion of steroid precursors to\n",
    "active estrogens in peripheral fat. In the face of varying levels of endogenous\n",
    "estrogen production, one might ask whether the carcinogenic potential of exogenous estrogens would be the same in all women. A study has been conducted\n",
    "to examine the relation between weight, replacement estrogen therapy,\n",
    "and endometrial cancer in a case–control study (Table E6.24). Use the Mantel–\n",
    "Haenszel procedure to compare the cases versus the controls, pooling across\n",
    "weight groups. State your null hypothesis and choice of test size."
   ]
  },
  {
   "cell_type": "code",
   "execution_count": 14,
   "id": "a40651cd-3714-408a-84d2-8ae41c52c056",
   "metadata": {},
   "outputs": [
    {
     "data": {
      "text/html": [
       "<div>\n",
       "<style scoped>\n",
       "    .dataframe tbody tr th:only-of-type {\n",
       "        vertical-align: middle;\n",
       "    }\n",
       "\n",
       "    .dataframe tbody tr th {\n",
       "        vertical-align: top;\n",
       "    }\n",
       "\n",
       "    .dataframe thead tr th {\n",
       "        text-align: left;\n",
       "    }\n",
       "\n",
       "    .dataframe thead tr:last-of-type th {\n",
       "        text-align: right;\n",
       "    }\n",
       "</style>\n",
       "<table border=\"1\" class=\"dataframe\">\n",
       "  <thead>\n",
       "    <tr>\n",
       "      <th></th>\n",
       "      <th></th>\n",
       "      <th colspan=\"2\" halign=\"left\">Estrogen replacement</th>\n",
       "    </tr>\n",
       "    <tr>\n",
       "      <th></th>\n",
       "      <th></th>\n",
       "      <th>Yes</th>\n",
       "      <th>No</th>\n",
       "    </tr>\n",
       "    <tr>\n",
       "      <th>Weight (kg)</th>\n",
       "      <th></th>\n",
       "      <th></th>\n",
       "      <th></th>\n",
       "    </tr>\n",
       "  </thead>\n",
       "  <tbody>\n",
       "    <tr>\n",
       "      <th rowspan=\"2\" valign=\"top\">&lt;57</th>\n",
       "      <th>Cases</th>\n",
       "      <td>20</td>\n",
       "      <td>12</td>\n",
       "    </tr>\n",
       "    <tr>\n",
       "      <th>Controls</th>\n",
       "      <td>61</td>\n",
       "      <td>183</td>\n",
       "    </tr>\n",
       "    <tr>\n",
       "      <th rowspan=\"2\" valign=\"top\">57-75</th>\n",
       "      <th>Cases</th>\n",
       "      <td>37</td>\n",
       "      <td>45</td>\n",
       "    </tr>\n",
       "    <tr>\n",
       "      <th>Controls</th>\n",
       "      <td>113</td>\n",
       "      <td>378</td>\n",
       "    </tr>\n",
       "    <tr>\n",
       "      <th rowspan=\"2\" valign=\"top\">&gt;75</th>\n",
       "      <th>Cases</th>\n",
       "      <td>9</td>\n",
       "      <td>42</td>\n",
       "    </tr>\n",
       "    <tr>\n",
       "      <th>Controls</th>\n",
       "      <td>23</td>\n",
       "      <td>140</td>\n",
       "    </tr>\n",
       "  </tbody>\n",
       "</table>\n",
       "</div>"
      ],
      "text/plain": [
       "                     Estrogen replacement     \n",
       "                                      Yes   No\n",
       "Weight (kg)                                   \n",
       "<57         Cases                      20   12\n",
       "            Controls                   61  183\n",
       "57-75       Cases                      37   45\n",
       "            Controls                  113  378\n",
       ">75         Cases                       9   42\n",
       "            Controls                   23  140"
      ]
     },
     "execution_count": 14,
     "metadata": {},
     "output_type": "execute_result"
    }
   ],
   "source": [
    "index = [\n",
    "    ['<57', '<57', '57-75', '57-75', '>75', '>75'],\n",
    "    ['Cases', 'Controls', 'Cases', 'Controls', 'Cases', 'Controls'],\n",
    "]\n",
    "\n",
    "columns = [\n",
    "    ['Estrogen replacement', 'Estrogen replacement'],\n",
    "    ['Yes', 'No'],\n",
    "]\n",
    "\n",
    "data = [\n",
    "    [20, 12],\n",
    "    [61, 183],\n",
    "    [37, 45],\n",
    "    [113, 378],\n",
    "    [9, 42],\n",
    "    [23, 140],\n",
    "]\n",
    "\n",
    "df = pd.DataFrame(data=data, index=index, columns=columns)\n",
    "df.index = df.index.rename(('Weight (kg)', ''))\n",
    "\n",
    "df"
   ]
  },
  {
   "cell_type": "markdown",
   "id": "9f42243e-c6bb-4ef8-9c36-3f0c9be61cde",
   "metadata": {},
   "source": [
    "## A6.24"
   ]
  },
  {
   "cell_type": "markdown",
   "id": "2e2003b7-b706-4dff-a528-9b67a75354f5",
   "metadata": {},
   "source": [
    "$H_0: OR_{<57} = OR_{57-75} = OR_{>75}$  \n",
    "$H_A:$ At least one pair of odd ratios are not equal  \n",
    "$\\alpha = 0.01$"
   ]
  },
  {
   "cell_type": "code",
   "execution_count": 15,
   "id": "73814faa-1982-4e41-b93f-3c74765350e5",
   "metadata": {},
   "outputs": [
    {
     "name": "stdout",
     "output_type": "stream",
     "text": [
      "p-value = 2.629e-08 (z-score = 5.56)\n"
     ]
    }
   ],
   "source": [
    "vals = dict()\n",
    "for weight in ['<57', '57-75', '>75']:\n",
    "    subdf = df.loc[weight]\n",
    "    a = subdf.iloc[0, 0]\n",
    "    n = subdf.values.sum()\n",
    "    r1 = subdf.sum(axis=1)[0]\n",
    "    r2 = subdf.sum(axis=1)[1]\n",
    "    c1 = subdf.sum(axis=0)[0]\n",
    "    c2 = subdf.sum(axis=0)[1]\n",
    "    vals[weight] = [a, n, r1, r2, c1, c2]\n",
    "\n",
    "sigma1 = 0\n",
    "sigma2 = 0\n",
    "for weight in ['<57', '57-75', '>75']:\n",
    "    a, n, r1, r2, c1, c2 = vals[weight]\n",
    "    sigma1 += a - (r1 * c1 / n)\n",
    "    sigma2 += (r1 * c1 * r2 * c2) / (n ** 2 * (n - 1))\n",
    "    \n",
    "z = abs(sigma1 / np.sqrt(sigma2))\n",
    "N = stats.norm()\n",
    "pval = N.cdf(-z) + N.sf(z)\n",
    "\n",
    "print(f\"p-value = {pval :.4} (z-score = {z :.3})\")"
   ]
  },
  {
   "cell_type": "markdown",
   "id": "d02dfda3-3658-4163-9afc-ec150325d3ce",
   "metadata": {},
   "source": [
    "# Q6.25\n",
    "Risk factors of gallstone disease were investigated in male self‐defense officials\n",
    "who received, between October 1986 and December 1990, a retirement\n",
    "health examination at the Self‐Defense Forces Fukuoka Hospital, Fukuoka,\n",
    "Japan (Table E6.25). For each of the three criteria (smoking, alcohol, and\n",
    "body mass index), test, at the 5% level, for the trend of risk factor level with\n",
    "gallstones."
   ]
  },
  {
   "cell_type": "code",
   "execution_count": 2,
   "id": "c2717ce2-19b7-408d-9290-1f788c77bba9",
   "metadata": {},
   "outputs": [
    {
     "data": {
      "text/html": [
       "<div>\n",
       "<style scoped>\n",
       "    .dataframe tbody tr th:only-of-type {\n",
       "        vertical-align: middle;\n",
       "    }\n",
       "\n",
       "    .dataframe tbody tr th {\n",
       "        vertical-align: top;\n",
       "    }\n",
       "\n",
       "    .dataframe thead tr th {\n",
       "        text-align: left;\n",
       "    }\n",
       "\n",
       "    .dataframe thead tr:last-of-type th {\n",
       "        text-align: right;\n",
       "    }\n",
       "</style>\n",
       "<table border=\"1\" class=\"dataframe\">\n",
       "  <thead>\n",
       "    <tr>\n",
       "      <th></th>\n",
       "      <th></th>\n",
       "      <th colspan=\"2\" halign=\"left\">Number of men surveyed</th>\n",
       "    </tr>\n",
       "    <tr>\n",
       "      <th></th>\n",
       "      <th></th>\n",
       "      <th>Total</th>\n",
       "      <th>Number with gallstones</th>\n",
       "    </tr>\n",
       "    <tr>\n",
       "      <th>Factor</th>\n",
       "      <th></th>\n",
       "      <th></th>\n",
       "      <th></th>\n",
       "    </tr>\n",
       "  </thead>\n",
       "  <tbody>\n",
       "    <tr>\n",
       "      <th rowspan=\"3\" valign=\"top\">Smoking</th>\n",
       "      <th>Never</th>\n",
       "      <td>621</td>\n",
       "      <td>11</td>\n",
       "    </tr>\n",
       "    <tr>\n",
       "      <th>Past</th>\n",
       "      <td>776</td>\n",
       "      <td>17</td>\n",
       "    </tr>\n",
       "    <tr>\n",
       "      <th>Current</th>\n",
       "      <td>1342</td>\n",
       "      <td>33</td>\n",
       "    </tr>\n",
       "    <tr>\n",
       "      <th rowspan=\"3\" valign=\"top\">Alcohol</th>\n",
       "      <th>Never</th>\n",
       "      <td>447</td>\n",
       "      <td>11</td>\n",
       "    </tr>\n",
       "    <tr>\n",
       "      <th>Past</th>\n",
       "      <td>113</td>\n",
       "      <td>3</td>\n",
       "    </tr>\n",
       "    <tr>\n",
       "      <th>Current</th>\n",
       "      <td>2179</td>\n",
       "      <td>47</td>\n",
       "    </tr>\n",
       "    <tr>\n",
       "      <th rowspan=\"3\" valign=\"top\">BMI</th>\n",
       "      <th>&lt;22.5</th>\n",
       "      <td>719</td>\n",
       "      <td>13</td>\n",
       "    </tr>\n",
       "    <tr>\n",
       "      <th>22.5–24.9</th>\n",
       "      <td>1301</td>\n",
       "      <td>30</td>\n",
       "    </tr>\n",
       "    <tr>\n",
       "      <th>25.0</th>\n",
       "      <td>719</td>\n",
       "      <td>18</td>\n",
       "    </tr>\n",
       "  </tbody>\n",
       "</table>\n",
       "</div>"
      ],
      "text/plain": [
       "                  Number of men surveyed                       \n",
       "                                   Total Number with gallstones\n",
       "Factor                                                         \n",
       "Smoking Never                        621                     11\n",
       "        Past                         776                     17\n",
       "        Current                     1342                     33\n",
       "Alcohol Never                        447                     11\n",
       "        Past                         113                      3\n",
       "        Current                     2179                     47\n",
       "BMI     <22.5                        719                     13\n",
       "        22.5–24.9                   1301                     30\n",
       "        25.0                         719                     18"
      ]
     },
     "execution_count": 2,
     "metadata": {},
     "output_type": "execute_result"
    }
   ],
   "source": [
    "index = [\n",
    "    ['Smoking'] * 3 + ['Alcohol'] * 3 + ['BMI'] * 3,\n",
    "    ['Never', 'Past', 'Current'] * 2 + ['<22.5', '22.5–24.9', '25.0'],\n",
    "]\n",
    "\n",
    "columns = [\n",
    "    ['Number of men surveyed', 'Number of men surveyed'],\n",
    "    ['Total', 'Number with gallstones'],\n",
    "]\n",
    "\n",
    "data = [\n",
    "    [621, 11],\n",
    "    [776, 17],\n",
    "    [1342, 33],\n",
    "    [447, 11],\n",
    "    [113, 3],\n",
    "    [2179, 47],\n",
    "    [719, 13],\n",
    "    [1301, 30],\n",
    "    [719, 18],\n",
    "]\n",
    "\n",
    "df = pd.DataFrame(data=data, index=index, columns=columns)\n",
    "df.index = df.index.rename(('Factor', ''))\n",
    "\n",
    "df"
   ]
  },
  {
   "cell_type": "markdown",
   "id": "b750b3e4-166a-43d2-9cd0-81cac4069620",
   "metadata": {},
   "source": [
    "## A6.25"
   ]
  },
  {
   "cell_type": "code",
   "execution_count": 3,
   "id": "767db70c-e476-410b-91a1-6f9bed3de198",
   "metadata": {},
   "outputs": [
    {
     "name": "stdout",
     "output_type": "stream",
     "text": [
      "For Smoking : Fail to reject null (p-value = 0.6286, X2 = 0.929)\n",
      "For Alcohol : Fail to reject null (p-value = 0.8797, X2 = 0.256)\n",
      "For BMI     : Fail to reject null (p-value = 0.6475, X2 = 0.869)\n"
     ]
    }
   ],
   "source": [
    "alpha = 0.05\n",
    "for factor in ['Smoking', 'Alcohol', 'BMI']:\n",
    "    subdf = df.loc[factor, 'Number of men surveyed']\n",
    "    subdf['Total'] = subdf['Total'] - subdf['Number with gallstones']\n",
    "\n",
    "    n = subdf.values.sum()\n",
    "    num_rows = len(subdf.index)\n",
    "    num_cols = len(subdf.columns)\n",
    "    ilocs = [(i, j) for i in range(num_rows) for j in range(num_cols)]\n",
    "\n",
    "    X2 = 0\n",
    "    for i, j in ilocs:\n",
    "        x = subdf.iloc[i, j]\n",
    "        row_total = subdf.iloc[i, :].sum()\n",
    "        col_total = subdf.iloc[:, j].sum()\n",
    "        e = row_total * col_total / n\n",
    "        X2 += (x - e) ** 2 / e\n",
    "    \n",
    "    dof = (num_rows - 1) * (num_cols - 1)\n",
    "    chi2 = stats.chi2(dof)\n",
    "    pval = chi2.cdf(-X2) + chi2.sf(X2)\n",
    "    result = \"Fail to reject null\" if pval > 0.05 else \"Reject null\"\n",
    "    print(f\"For {factor :7} : {result} (p-value = {pval :.4}, X2 = {X2 :.3})\")"
   ]
  },
  {
   "cell_type": "markdown",
   "id": "5dc4a410-6590-43cb-9163-d8c71f072bf6",
   "metadata": {},
   "source": [
    "# Q6.27\n",
    "Postneonatal mortality due to respiratory illnesses is known to be inversely\n",
    "related to maternal age, but the role of young motherhood as a risk factor for\n",
    "respiratory morbidity in infants has not been explored thoroughly. A study\n",
    "was conducted in Tucson, Arizona aimed at the incidence of lower respiratory\n",
    "tract illnesses during the first year of life. In this study, over 1200 infants were\n",
    "enrolled at birth between 1980 and 1984. The data shown in Table E6.27 are concerned with wheezing lower respiratory tract illnesses (wheezing LRIs).\n",
    "For each of the two groups, boys and girls, test to investigate the relationship\n",
    "between maternal age and respiratory illness."
   ]
  },
  {
   "cell_type": "code",
   "execution_count": 18,
   "id": "5d04982a-e7fb-4f2a-ad4b-f121e08d59d6",
   "metadata": {},
   "outputs": [
    {
     "data": {
      "text/html": [
       "<div>\n",
       "<style scoped>\n",
       "    .dataframe tbody tr th:only-of-type {\n",
       "        vertical-align: middle;\n",
       "    }\n",
       "\n",
       "    .dataframe tbody tr th {\n",
       "        vertical-align: top;\n",
       "    }\n",
       "\n",
       "    .dataframe thead tr th {\n",
       "        text-align: left;\n",
       "    }\n",
       "\n",
       "    .dataframe thead tr:last-of-type th {\n",
       "        text-align: right;\n",
       "    }\n",
       "</style>\n",
       "<table border=\"1\" class=\"dataframe\">\n",
       "  <thead>\n",
       "    <tr>\n",
       "      <th></th>\n",
       "      <th colspan=\"2\" halign=\"left\">Boys</th>\n",
       "      <th colspan=\"2\" halign=\"left\">Girls</th>\n",
       "    </tr>\n",
       "    <tr>\n",
       "      <th></th>\n",
       "      <th>No</th>\n",
       "      <th>Yes</th>\n",
       "      <th>No</th>\n",
       "      <th>Yes</th>\n",
       "    </tr>\n",
       "    <tr>\n",
       "      <th>Maternal age (years)</th>\n",
       "      <th></th>\n",
       "      <th></th>\n",
       "      <th></th>\n",
       "      <th></th>\n",
       "    </tr>\n",
       "  </thead>\n",
       "  <tbody>\n",
       "    <tr>\n",
       "      <th>&lt;21</th>\n",
       "      <td>19</td>\n",
       "      <td>8</td>\n",
       "      <td>20</td>\n",
       "      <td>7</td>\n",
       "    </tr>\n",
       "    <tr>\n",
       "      <th>21-25</th>\n",
       "      <td>98</td>\n",
       "      <td>40</td>\n",
       "      <td>128</td>\n",
       "      <td>36</td>\n",
       "    </tr>\n",
       "    <tr>\n",
       "      <th>26-30</th>\n",
       "      <td>160</td>\n",
       "      <td>45</td>\n",
       "      <td>148</td>\n",
       "      <td>42</td>\n",
       "    </tr>\n",
       "    <tr>\n",
       "      <th>&gt;30</th>\n",
       "      <td>110</td>\n",
       "      <td>20</td>\n",
       "      <td>116</td>\n",
       "      <td>25</td>\n",
       "    </tr>\n",
       "  </tbody>\n",
       "</table>\n",
       "</div>"
      ],
      "text/plain": [
       "                     Boys     Girls    \n",
       "                       No Yes    No Yes\n",
       "Maternal age (years)                   \n",
       "<21                    19   8    20   7\n",
       "21-25                  98  40   128  36\n",
       "26-30                 160  45   148  42\n",
       ">30                   110  20   116  25"
      ]
     },
     "execution_count": 18,
     "metadata": {},
     "output_type": "execute_result"
    }
   ],
   "source": [
    "index = ['<21', '21-25', '26-30', '>30']\n",
    "\n",
    "columns = [\n",
    "    ['Boys', 'Boys', 'Girls', 'Girls'],\n",
    "    ['No', 'Yes', 'No', 'Yes'],\n",
    "]\n",
    "\n",
    "data = [\n",
    "    [19, 8, 20, 7],\n",
    "    [98, 40, 128, 36],\n",
    "    [160, 45, 148, 42],\n",
    "    [110, 20, 116, 25],\n",
    "]\n",
    "\n",
    "df = pd.DataFrame(data=data, index=index, columns=columns)\n",
    "df.index = df.index.rename('Maternal age (years)')\n",
    "\n",
    "df"
   ]
  },
  {
   "cell_type": "markdown",
   "id": "a1ff060d-fb1b-4144-b4da-9a6bf37bd68c",
   "metadata": {},
   "source": [
    "## A6.27"
   ]
  },
  {
   "cell_type": "code",
   "execution_count": 19,
   "id": "e209809a-9896-4cfb-bc35-d1d3fd252bea",
   "metadata": {},
   "outputs": [
    {
     "name": "stdout",
     "output_type": "stream",
     "text": [
      "For Boys  : p-value = 0.00523 (z-score = 2.793)\n",
      "For Girls : p-value = 0.297   (z-score = 1.043)\n"
     ]
    }
   ],
   "source": [
    "for gender in ['Boys', 'Girls']:\n",
    "    subdf = df[gender]\n",
    "    C, D = 0, 0\n",
    "    for i in range(0, len(subdf) - 1):\n",
    "        C += subdf.iloc[i, 0] * subdf.iloc[i+1:, 1].sum()\n",
    "        D += subdf.iloc[i, 1] * subdf.iloc[i+1:, 0].sum()\n",
    "\n",
    "    N = subdf.values.sum()\n",
    "    A, B = subdf.sum(axis=0)\n",
    "    cubed_terms = N ** 3 - (subdf.sum(axis=1) ** 3).sum()\n",
    "\n",
    "    S = abs(C - D)\n",
    "    std = np.sqrt((A * B * cubed_terms) / (3 * N * (N - 1)))\n",
    "    z = S / std\n",
    "\n",
    "    N = stats.norm()\n",
    "    pval = N.cdf(-z) + N.sf(z)\n",
    "    \n",
    "    print(f\"For {gender :5} : p-value = {pval :<7.3} (z-score = {z :.4})\")"
   ]
  },
  {
   "cell_type": "markdown",
   "id": "17dcfc29-1bdf-4f73-82c8-359f908402cb",
   "metadata": {},
   "source": [
    "# Q6.30\n",
    "A study was conducted to ascertain factors that influence a physician’s\n",
    "decision to transfuse a patient. A sample of 49 attending physicians was\n",
    "selected. Each physician was asked a question concerning the frequency with\n",
    "which an unnecessary transfusion was given because another physician suggested\n",
    "it. The same question was asked of a sample of 71 residents. The data\n",
    "are shown in Table E6.30. Test the null hypothesis of no association, with\n",
    "attention to the natural ordering of the columns. State clearly your alternative\n",
    "hypothesis and choice of test size."
   ]
  },
  {
   "cell_type": "code",
   "execution_count": 4,
   "id": "a728f087-370c-401c-aff7-208ffcdfbaab",
   "metadata": {},
   "outputs": [
    {
     "data": {
      "text/html": [
       "<div>\n",
       "<style scoped>\n",
       "    .dataframe tbody tr th:only-of-type {\n",
       "        vertical-align: middle;\n",
       "    }\n",
       "\n",
       "    .dataframe tbody tr th {\n",
       "        vertical-align: top;\n",
       "    }\n",
       "\n",
       "    .dataframe thead tr th {\n",
       "        text-align: left;\n",
       "    }\n",
       "\n",
       "    .dataframe thead tr:last-of-type th {\n",
       "        text-align: right;\n",
       "    }\n",
       "</style>\n",
       "<table border=\"1\" class=\"dataframe\">\n",
       "  <thead>\n",
       "    <tr>\n",
       "      <th></th>\n",
       "      <th colspan=\"5\" halign=\"left\">Frequency of unnecessary transfusion</th>\n",
       "    </tr>\n",
       "    <tr>\n",
       "      <th></th>\n",
       "      <th>Very frequently (1/week)</th>\n",
       "      <th>Frequently (1/two weeks)</th>\n",
       "      <th>Occasionally (1/month)</th>\n",
       "      <th>Rarely (1/two months)</th>\n",
       "      <th>Never Attending</th>\n",
       "    </tr>\n",
       "    <tr>\n",
       "      <th>Type of physician</th>\n",
       "      <th></th>\n",
       "      <th></th>\n",
       "      <th></th>\n",
       "      <th></th>\n",
       "      <th></th>\n",
       "    </tr>\n",
       "  </thead>\n",
       "  <tbody>\n",
       "    <tr>\n",
       "      <th>Attending</th>\n",
       "      <td>1</td>\n",
       "      <td>1</td>\n",
       "      <td>3</td>\n",
       "      <td>31</td>\n",
       "      <td>13</td>\n",
       "    </tr>\n",
       "    <tr>\n",
       "      <th>Resident</th>\n",
       "      <td>2</td>\n",
       "      <td>13</td>\n",
       "      <td>28</td>\n",
       "      <td>23</td>\n",
       "      <td>5</td>\n",
       "    </tr>\n",
       "  </tbody>\n",
       "</table>\n",
       "</div>"
      ],
      "text/plain": [
       "                  Frequency of unnecessary transfusion  \\\n",
       "                              Very frequently (1/week)   \n",
       "Type of physician                                        \n",
       "Attending                                            1   \n",
       "Resident                                             2   \n",
       "\n",
       "                                                                   \\\n",
       "                  Frequently (1/two weeks) Occasionally (1/month)   \n",
       "Type of physician                                                   \n",
       "Attending                                1                      3   \n",
       "Resident                                13                     28   \n",
       "\n",
       "                                                         \n",
       "                  Rarely (1/two months) Never Attending  \n",
       "Type of physician                                        \n",
       "Attending                            31              13  \n",
       "Resident                             23               5  "
      ]
     },
     "execution_count": 4,
     "metadata": {},
     "output_type": "execute_result"
    }
   ],
   "source": [
    "index = ['Attending', 'Resident']\n",
    "\n",
    "columns = [\n",
    "    ['Frequency of unnecessary transfusion'] * 5,\n",
    "    ['Very frequently (1/week)', 'Frequently (1/two weeks)', 'Occasionally (1/month)', 'Rarely (1/two months)', 'Never Attending'],\n",
    "]\n",
    "\n",
    "data = [\n",
    "    [1, 1, 3, 31, 13],\n",
    "    [2, 13, 28, 23, 5],\n",
    "\n",
    "]\n",
    "\n",
    "df = pd.DataFrame(data=data, index=index, columns=columns)\n",
    "df.index = df.index.rename('Type of physician')\n",
    "\n",
    "df"
   ]
  },
  {
   "cell_type": "markdown",
   "id": "1b951981-0e75-43db-9de8-e4f9592e6db4",
   "metadata": {},
   "source": [
    "## A6.30"
   ]
  },
  {
   "cell_type": "markdown",
   "id": "094c8c09-f4f6-4efb-998b-f7ce697f1b5a",
   "metadata": {},
   "source": [
    "$H_0:$ There is no association between type of physician and unnecessary transfusion frequency  \n",
    "$H_A:$ There is a trend between type of physician and unnecessary transfusion frequency  \n",
    "$\\alpha = 0.05$"
   ]
  },
  {
   "cell_type": "code",
   "execution_count": 5,
   "id": "e1da4367-59d8-4d97-864d-55c4c36565d6",
   "metadata": {},
   "outputs": [
    {
     "name": "stdout",
     "output_type": "stream",
     "text": [
      "Reject null (p-value = 1.08e-07)\n"
     ]
    }
   ],
   "source": [
    "alpha = 0.05\n",
    "subdf = df['Frequency of unnecessary transfusion'].T\n",
    "\n",
    "C, D = 0, 0\n",
    "for i in range(0, len(subdf) - 1):\n",
    "    C += subdf.iloc[i, 0] * subdf.iloc[i+1:, 1].sum()\n",
    "    D += subdf.iloc[i, 1] * subdf.iloc[i+1:, 0].sum()\n",
    "\n",
    "N = subdf.values.sum()\n",
    "A, B = subdf.sum(axis=0)\n",
    "cubed_terms = N ** 3 - (subdf.sum(axis=1) ** 3).sum()\n",
    "\n",
    "S = abs(C - D)\n",
    "std = np.sqrt((A * B * cubed_terms) / (3 * N * (N - 1)))\n",
    "z = S / std\n",
    "\n",
    "N = stats.norm()\n",
    "pval = N.cdf(-z) + N.sf(z)\n",
    "result = \"Reject null\" if pval < alpha else \"Fail to reject null\"\n",
    "\n",
    "print(f\"{result} (p-value = {pval :.4})\")"
   ]
  }
 ],
 "metadata": {
  "kernelspec": {
   "display_name": "Python [conda env:ds] *",
   "language": "python",
   "name": "conda-env-ds-py"
  },
  "language_info": {
   "codemirror_mode": {
    "name": "ipython",
    "version": 3
   },
   "file_extension": ".py",
   "mimetype": "text/x-python",
   "name": "python",
   "nbconvert_exporter": "python",
   "pygments_lexer": "ipython3",
   "version": "3.9.7"
  }
 },
 "nbformat": 4,
 "nbformat_minor": 5
}
