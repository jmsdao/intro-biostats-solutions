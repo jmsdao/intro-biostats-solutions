{
 "cells": [
  {
   "cell_type": "code",
   "execution_count": 1,
   "id": "b63df82c-95d0-4f88-afde-580b5bafec45",
   "metadata": {},
   "outputs": [],
   "source": [
    "import numpy as np\n",
    "import pandas as pd\n",
    "from scipy import stats\n",
    "from IPython.display import Markdown"
   ]
  },
  {
   "cell_type": "markdown",
   "id": "afe41c44-99c5-4cf8-9ea5-05edd5aedcdb",
   "metadata": {},
   "source": [
    "# Q5.1\n",
    "For each part, state the null ($H_0$) and alternative ($H_A$) hypotheses.\n",
    "\n",
    "(a) Has the average community level of suspended particulates for the month\n",
    "of August exceeded 30 $\\mu g/cm^3$?\n",
    "\n",
    "(b) Does the mean age of onset of a certain acute disease for schoolchildren\n",
    "differ from 11.5 years?\n",
    "\n",
    "(c) A psychologist claims that the average IQ of a sample of 60 children is\n",
    "significantly above the normal IQ of 100.\n",
    "\n",
    "(d) Is the average cross‐sectional area of the lumen of coronary arteries for\n",
    "men, ages 40–59 years, less than 31.5% of the total arterial cross‐section?\n",
    "\n",
    "(e) Is the mean hemoglobin level of high‐altitude workers different from 16 $g/cm^3$?\n",
    "\n",
    "(f) Does the average speed of 50 cars as checked by radar on a particular\n",
    "highway differ from 55 mph?"
   ]
  },
  {
   "cell_type": "markdown",
   "id": "5760a189-a6b5-45c7-a6b6-afabb4eb6eb4",
   "metadata": {},
   "source": [
    "## A5.1\n",
    "(a) $H_0: \\mu = 30$, $H_A: \\mu \\gt 30$  \n",
    "(b) $H_0: \\mu = 11.5$, $H_A: \\mu \\ne 11.5$  \n",
    "(c) Population-level data is available, no need for hypothesis testing  \n",
    "(d) $H_0: \\mu = 0.315$, $H_A: \\mu \\lt 0.315$  \n",
    "(e) $H_0: \\mu = 16$, $H_A: \\mu \\ne 16$  \n",
    "(f) Population-level data is available, no need for hypothesis testing"
   ]
  },
  {
   "cell_type": "markdown",
   "id": "1b982504-1308-482d-93d0-43066d9ccb2a",
   "metadata": {},
   "source": [
    "# Q5.3\n",
    "E. canis infection is a tick‐borne disease of dogs that is sometimes contracted\n",
    "by humans. Among infected humans, the distribution of white blood cell counts\n",
    "has an unknown mean μ and a standard deviation σ. In the general population\n",
    "the mean white blood count is 7250 per $mm^3$. It is believed that persons infected\n",
    "with E. canis must on average have a lower white blood cell count. What is the\n",
    "null hypothesis for the test? Is this a one‐ or two‐sided alternative?"
   ]
  },
  {
   "cell_type": "markdown",
   "id": "b300e1a2-8db4-4af2-a0b3-7f27ba5b9348",
   "metadata": {},
   "source": [
    "## A5.3\n",
    "$H_0: \\mu = 7250$, $H_A: \\mu \\lt 7250$"
   ]
  },
  {
   "cell_type": "markdown",
   "id": "7086af9b-262f-413c-94b6-656a5c0360da",
   "metadata": {},
   "source": [
    "# Q5.4\n",
    "It is feared that the smoking rate in young females has increased in the last\n",
    "several\n",
    "years. In 1985, 38% of the females in the 17‐ to 24‐year age group were\n",
    "smokers. An experiment is to be conducted to gain evidence to support or refute\n",
    "the increase contention. Set up the appropriate null and alternative hypotheses.\n",
    "Explain in a practical sense what, if anything, has occurred if a type I or type II\n",
    "error has been committed."
   ]
  },
  {
   "cell_type": "markdown",
   "id": "63a15a01-2443-4053-a3a4-8d8c27c6e087",
   "metadata": {},
   "source": [
    "## A5.4\n",
    "$H_0: \\pi = 0.38$, $H_A: \\pi \\gt 0.38$  \n",
    "Type I Error (FP): The test suggests that smoking rates have increased, when in fact they have not.  \n",
    "Type II Error (FN): The test suggests that smoking rates have not increase, when in fact they have.  "
   ]
  },
  {
   "cell_type": "markdown",
   "id": "1a4b06e1-f8aa-4d75-bc94-7d4538aa7649",
   "metadata": {},
   "source": [
    "# Q5.5\n",
    "A group of investigators wishes to explore the relationship between the use of\n",
    "hair dyes and the development of breast cancer in females. A group of 1000\n",
    "beauticians 40–49 years of age is identified and followed for five years. After\n",
    "five years, 20 new cases of breast cancer have occurred. Assume that breast\n",
    "cancer incidence over this time period for average American women in this age\n",
    "group is 7 per 1000. We wish to test the hypothesis that using hair dyes increases\n",
    "the risk of breast cancer. Is a one‐ or two‐sided test appropriate here? Compute\n",
    "the p value for your choice."
   ]
  },
  {
   "cell_type": "markdown",
   "id": "91731f01-91d1-4601-82a9-c2dc1278d7e7",
   "metadata": {},
   "source": [
    "## A5.5\n",
    "$H_0: \\pi = 0.007$, $H_A: \\pi \\gt 0.007$"
   ]
  },
  {
   "cell_type": "code",
   "execution_count": 2,
   "id": "7962da93-92b5-404a-878e-84db133ea7b8",
   "metadata": {},
   "outputs": [
    {
     "name": "stdout",
     "output_type": "stream",
     "text": [
      "One-sided p-value = 4.094e-07 (z-score = 4.93)\n"
     ]
    }
   ],
   "source": [
    "pi = 0.007\n",
    "se = np.sqrt(pi * (1 - pi) / 1000)\n",
    "z = (0.02 - pi) / se\n",
    "pval = stats.norm.sf(z)\n",
    "print(f\"One-sided p-value = {pval :.4} (z-score = {z :.3})\")"
   ]
  },
  {
   "cell_type": "markdown",
   "id": "802747a0-10ab-471b-9945-24d83e2e3317",
   "metadata": {},
   "source": [
    "# Q5.6\n",
    "Height and weight are often used in epidemiological studies as possible predictors\n",
    "of disease outcomes. If the people in the study are assessed in a clinic,\n",
    "heights and weights are usually measured directly. However, if the people are\n",
    "interviewed at home or by mail, a person’s self‐reported height and weight are\n",
    "often used instead. Suppose that we conduct a study on 10 people to test the\n",
    "comparability of these two methods. Data from these 10 people were obtained\n",
    "using both methods on each person. What is the criterion for the comparison?\n",
    "What is the null hypothesis? Should a two‐ or a one‐sided test be used here?"
   ]
  },
  {
   "cell_type": "markdown",
   "id": "f7bd74ec-9f54-4f73-b6fb-0339bc00365e",
   "metadata": {},
   "source": [
    "## A5.6\n",
    "Mean difference (two-sided test)  \n",
    "$H_0: \\mu_1 - \\mu_2 = 0$, $H_A: \\mu_1 - \\mu_2 \\le 0$"
   ]
  },
  {
   "cell_type": "markdown",
   "id": "c1971160-e112-45a3-bc2e-728dae541f62",
   "metadata": {},
   "source": [
    "# Q5.8\n",
    "A food‐frequency questionnaire was mailed to 20 subjects to assess the intake of\n",
    "various food groups. The sample standard deviation of vitamin C intake over the\n",
    "20 subjects was 15 (exclusive of vitamin C supplements). Suppose that we know\n",
    "from using an in‐person diet interview method in an earlier large study that the\n",
    "standard deviation is 20. Formulate the null and alternative hypotheses if we want\n",
    "to test for any differences between the standard deviations of the two methods."
   ]
  },
  {
   "cell_type": "markdown",
   "id": "f84ee489-24b1-4d9c-a217-69885500ac59",
   "metadata": {},
   "source": [
    "## A5.8\n",
    "$H_0: \\sigma = 20$, $H_A: \\sigma_1 \\ne 20$"
   ]
  },
  {
   "cell_type": "markdown",
   "id": "b3e3dc3d-eb74-4178-ac48-fc4328a24652",
   "metadata": {},
   "source": [
    "# Q5.9\n",
    "In Example 5.1 it was assumed that the national smoking rate among men\n",
    "is 25%. A study is to be conducted for New England states using a sample size\n",
    "n = 100 and the decision rule:\n",
    "\n",
    "If $p \\le 0.20$, $H_{0}$ is rejected,\n",
    "\n",
    "where $H_{0}$: $\\pi = 0.25$ and $\\pi$ and $p$ are population and sample proportions,\n",
    "respectively, for New England states. Is this a one‐ or a two‐tailed test?"
   ]
  },
  {
   "cell_type": "markdown",
   "id": "cbead077-195d-4824-82c9-79120deae8ad",
   "metadata": {},
   "source": [
    "## A5.9\n",
    "One-tailed"
   ]
  },
  {
   "cell_type": "markdown",
   "id": "797c1ec6-aea6-4fcc-8d3b-3f999dc583f5",
   "metadata": {},
   "source": [
    "# Q5.10\n",
    "In Example 5.1, with the rule:\n",
    "\n",
    "If $p \\le 0.20$, $H_{0}$ is rejected,\n",
    "\n",
    "it was found that the probabilities of type I and type II errors are:\n",
    "\n",
    "$\\alpha = 0.123$  \n",
    "$\\beta = 0.082$\n",
    "\n",
    "for $H_{A}$: $\\pi = 0.15$. Find α and β if the rule is changed to:\n",
    "\n",
    "If $p \\le 0.18$, $H_{0}$ is rejected.\n",
    "\n",
    "How does this change affect α and β values?"
   ]
  },
  {
   "cell_type": "markdown",
   "id": "49a97c53-9c3f-4f35-a5bb-44a2c1dc57f5",
   "metadata": {},
   "source": [
    "## A5.10\n",
    "$\\alpha = Pr(p \\le 0.18 | \\pi = 0.25)$  \n",
    "$\\beta = Pr(p \\gt 0.18 | \\pi = 0.15)$  "
   ]
  },
  {
   "cell_type": "code",
   "execution_count": 3,
   "id": "3493ac9e-fe35-4d03-aaff-125ba3600bfa",
   "metadata": {},
   "outputs": [
    {
     "data": {
      "text/markdown": [
       "$\\alpha = 0.053$  \n",
       "$\\beta = 0.2$"
      ],
      "text/plain": [
       "<IPython.core.display.Markdown object>"
      ]
     },
     "execution_count": 3,
     "metadata": {},
     "output_type": "execute_result"
    }
   ],
   "source": [
    "pi = 0.25\n",
    "se = np.sqrt(pi * (1 - pi) / 100)\n",
    "alpha = stats.norm(pi, se).cdf(0.18)\n",
    "\n",
    "pi = 0.15\n",
    "se = np.sqrt(pi * (1 - pi) / 100)\n",
    "beta = stats.norm(pi, se).sf(0.18)\n",
    "\n",
    "Markdown(f\"$\\\\alpha = {alpha :.3}$  \\n$\\\\beta = {beta :.3}$\")"
   ]
  },
  {
   "cell_type": "markdown",
   "id": "52530e67-c250-4b18-89cc-7b37f1f3c818",
   "metadata": {},
   "source": [
    "# Q5.12\n",
    "Recalculate the p value in Example 5.2 if it was found that 18 (instead of 15)\n",
    "men in a sample of n = 100 are smokers."
   ]
  },
  {
   "cell_type": "markdown",
   "id": "cf94a57d-19f0-4bd3-97c9-fdba177bb1c7",
   "metadata": {},
   "source": [
    "## A5.12"
   ]
  },
  {
   "cell_type": "code",
   "execution_count": 4,
   "id": "f740bac0-b2e6-4067-b459-a6bdc09c3d0d",
   "metadata": {},
   "outputs": [
    {
     "name": "stdout",
     "output_type": "stream",
     "text": [
      "Two-sided p-value = 0.106\n"
     ]
    }
   ],
   "source": [
    "n = 100\n",
    "pi = 0.25\n",
    "diff = (25 - 18) / n\n",
    "se = np.sqrt(pi * (1 - pi) / n)\n",
    "N = stats.norm(pi, se)\n",
    "\n",
    "pval = N.cdf(pi - diff) + N.sf(pi + diff)\n",
    "print(f\"Two-sided p-value = {pval :.4}\")"
   ]
  },
  {
   "cell_type": "markdown",
   "id": "cf9766d8-f8ee-4f8a-8692-a1bd0ae19f2c",
   "metadata": {},
   "source": [
    "# Q5.13\n",
    "Calculate the 95% confidence interval for π using the sample in Exercise 5.12\n",
    "and compare the findings to the testing results of Exercise 5.12."
   ]
  },
  {
   "cell_type": "markdown",
   "id": "fb562ca2-3d99-422d-b35d-c501a7e44956",
   "metadata": {},
   "source": [
    "## A5.13"
   ]
  },
  {
   "cell_type": "code",
   "execution_count": 5,
   "id": "a29eb409-305a-48bd-95e6-68e7e9f31443",
   "metadata": {},
   "outputs": [
    {
     "name": "stdout",
     "output_type": "stream",
     "text": [
      "95% CI = [0.105, 0.255]\n"
     ]
    }
   ],
   "source": [
    "n = 100\n",
    "p = 0.18\n",
    "se = np.sqrt(p * (1 - p) / n)\n",
    "N = stats.norm(p, se)\n",
    "\n",
    "p_left, p_right = N.interval(0.95)\n",
    "print(f\"95% CI = [{p_left :.3}, {p_right :.3}]\")"
   ]
  },
  {
   "cell_type": "markdown",
   "id": "cb2d2be8-bf29-4f10-b21f-8dd0d34e469d",
   "metadata": {},
   "source": [
    "# Q5.14\n",
    "Plasma glucose levels are used to determine the presence of diabetes. Suppose\n",
    "that the mean log plasma glucose concentration (mg/dL) in 35‐ to 44‐year olds\n",
    "is 4.86 with standard deviation 0.54. A study of 100 sedentary persons in\n",
    "this age group is planned to test whether they have higher levels of plasma\n",
    "glucose than the general population.\n",
    "\n",
    "(a) Set up the null and alternative hypotheses.\n",
    "\n",
    "(b) If the real increase is 0.1 log unit, what is the power of such a study if a\n",
    "two‐sided test is to be used with α = 0.05?"
   ]
  },
  {
   "cell_type": "markdown",
   "id": "29123f90-e760-4da7-8f70-c46870393bdb",
   "metadata": {},
   "source": [
    "## A5.14"
   ]
  },
  {
   "cell_type": "markdown",
   "id": "535138ed-1f7d-46c2-91e4-05a29c3099cc",
   "metadata": {},
   "source": [
    "(a) $H_0: \\pi = 4.86, H_A: \\pi \\ne 4.86$"
   ]
  },
  {
   "cell_type": "code",
   "execution_count": 6,
   "id": "0b606620-9dc2-4b27-aab7-d31d49114a22",
   "metadata": {},
   "outputs": [
    {
     "name": "stdout",
     "output_type": "stream",
     "text": [
      "(b) Power = 0.457\n"
     ]
    }
   ],
   "source": [
    "alpha = 0.05\n",
    "n = 100\n",
    "mu_0 = 4.86\n",
    "se = 0.54 / np.sqrt(n)\n",
    "N_0 = stats.norm(mu_0, se)\n",
    "ci_left = N_0.ppf(alpha / 2)\n",
    "ci_right = N_0.ppf(1 - alpha / 2)\n",
    "\n",
    "# beta = Pr(a false H0 is not rejected)\n",
    "#      = Pr(getting a sample mean within 95% CI of H0 | mean is actually 4.96)\n",
    "N_A = stats.norm(mu_0 + 0.1, se)\n",
    "beta = N_A.cdf(ci_right) - N_A.cdf(ci_left)\n",
    "power = 1 - beta\n",
    "\n",
    "print(f\"(b) Power = {power :.4}\")"
   ]
  },
  {
   "cell_type": "markdown",
   "id": "7224f42c-bfcc-4b70-a847-d1bb62e9863b",
   "metadata": {},
   "source": [
    "# Q5.15\n",
    "Suppose that we are interested in investigating the effect of race on level of\n",
    "blood pressure. The mean and standard deviation of systolic blood pressure\n",
    "among 25‐ to 34‐year‐old white males were reported as 128.6 and 11.1 mmHg,\n",
    "respectively, based on a very large sample. Suppose that the actual mean for\n",
    "black males in the same age group is 135 mmHg. What is the power of the test\n",
    "(two‐sided, α = 0.05) if n =100 and we assume that the variances are the same\n",
    "for whites and blacks?"
   ]
  },
  {
   "cell_type": "markdown",
   "id": "e5a02e69-7caa-4d01-a7b9-8b12d6bb32cb",
   "metadata": {},
   "source": [
    "## A5.15"
   ]
  },
  {
   "cell_type": "code",
   "execution_count": 7,
   "id": "707c69de-b2b3-4391-874c-5b2af619c51b",
   "metadata": {},
   "outputs": [
    {
     "name": "stdout",
     "output_type": "stream",
     "text": [
      "Power = 0.9999\n"
     ]
    }
   ],
   "source": [
    "alpha = 0.05\n",
    "n = 100\n",
    "mu_0 = 128.6\n",
    "se = 11.1 / np.sqrt(n)\n",
    "N_0 = stats.norm(mu_0, se)\n",
    "ci_left = N_0.ppf(alpha / 2)\n",
    "ci_right = N_0.ppf(1 - alpha / 2)\n",
    "\n",
    "N_A = stats.norm(135, se)\n",
    "beta = N_A.cdf(ci_right) - N_A.cdf(ci_left)\n",
    "power = 1 - beta\n",
    "\n",
    "print(f\"Power = {power :.4}\")"
   ]
  }
 ],
 "metadata": {
  "kernelspec": {
   "display_name": "Python [conda env:ds] *",
   "language": "python",
   "name": "conda-env-ds-py"
  },
  "language_info": {
   "codemirror_mode": {
    "name": "ipython",
    "version": 3
   },
   "file_extension": ".py",
   "mimetype": "text/x-python",
   "name": "python",
   "nbconvert_exporter": "python",
   "pygments_lexer": "ipython3",
   "version": "3.9.7"
  }
 },
 "nbformat": 4,
 "nbformat_minor": 5
}
